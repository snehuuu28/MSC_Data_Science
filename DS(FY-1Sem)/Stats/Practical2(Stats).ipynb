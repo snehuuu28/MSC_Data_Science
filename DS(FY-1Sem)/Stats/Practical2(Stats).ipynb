{
 "cells": [
  {
   "cell_type": "raw",
   "id": "2295923e-3bb2-4578-99c5-aaab349ab692",
   "metadata": {},
   "source": [
    "# Practical 1\n",
    "# Title : Missing Value Treatment\n",
    "# Name: Snehal Rajendra Gawade\n",
    "# Date: 20/08/2024\n",
    "# PRN:2401208025"
   ]
  },
  {
   "cell_type": "code",
   "execution_count": 19,
   "id": "1084bf38-9c49-4976-8e35-0b55e87d69b7",
   "metadata": {},
   "outputs": [],
   "source": [
    "import pandas as pd\n",
    "import warnings\n",
    "warnings.filterwarnings('ignore')"
   ]
  },
  {
   "cell_type": "code",
   "execution_count": 20,
   "id": "9656dfb0-3a6e-4a97-aa0e-f80812708cc7",
   "metadata": {},
   "outputs": [
    {
     "data": {
      "text/html": [
       "<div>\n",
       "<style scoped>\n",
       "    .dataframe tbody tr th:only-of-type {\n",
       "        vertical-align: middle;\n",
       "    }\n",
       "\n",
       "    .dataframe tbody tr th {\n",
       "        vertical-align: top;\n",
       "    }\n",
       "\n",
       "    .dataframe thead th {\n",
       "        text-align: right;\n",
       "    }\n",
       "</style>\n",
       "<table border=\"1\" class=\"dataframe\">\n",
       "  <thead>\n",
       "    <tr style=\"text-align: right;\">\n",
       "      <th></th>\n",
       "      <th>IDNO</th>\n",
       "      <th>BODYFAT</th>\n",
       "      <th>DENSITY</th>\n",
       "      <th>AGE</th>\n",
       "      <th>WEIGHT</th>\n",
       "      <th>HEIGHT</th>\n",
       "      <th>ADIPOSITY</th>\n",
       "      <th>NECK</th>\n",
       "      <th>CHEST</th>\n",
       "      <th>ABDOMEN</th>\n",
       "      <th>HIP</th>\n",
       "      <th>THIGH</th>\n",
       "      <th>KNEE</th>\n",
       "      <th>ANKLE</th>\n",
       "      <th>BICEPS</th>\n",
       "      <th>FOREARM</th>\n",
       "      <th>WRIST</th>\n",
       "    </tr>\n",
       "  </thead>\n",
       "  <tbody>\n",
       "    <tr>\n",
       "      <th>0</th>\n",
       "      <td>1.0</td>\n",
       "      <td>12.6</td>\n",
       "      <td>1.0708</td>\n",
       "      <td>23.0</td>\n",
       "      <td>154.25</td>\n",
       "      <td>67.75</td>\n",
       "      <td>23.7</td>\n",
       "      <td>36.2</td>\n",
       "      <td>93.1</td>\n",
       "      <td>85.2</td>\n",
       "      <td>94.5</td>\n",
       "      <td>59</td>\n",
       "      <td>37.3</td>\n",
       "      <td>21.9</td>\n",
       "      <td>32.0</td>\n",
       "      <td>27.4</td>\n",
       "      <td>17.1</td>\n",
       "    </tr>\n",
       "    <tr>\n",
       "      <th>1</th>\n",
       "      <td>2.0</td>\n",
       "      <td>6.9</td>\n",
       "      <td>1.0853</td>\n",
       "      <td>22.0</td>\n",
       "      <td>173.25</td>\n",
       "      <td>72.25</td>\n",
       "      <td>23.4</td>\n",
       "      <td>38.5</td>\n",
       "      <td>NaN</td>\n",
       "      <td>83.0</td>\n",
       "      <td>98.7</td>\n",
       "      <td>58.7</td>\n",
       "      <td>37.3</td>\n",
       "      <td>23.4</td>\n",
       "      <td>30.5</td>\n",
       "      <td>28.9</td>\n",
       "      <td>18.2</td>\n",
       "    </tr>\n",
       "    <tr>\n",
       "      <th>2</th>\n",
       "      <td>3.0</td>\n",
       "      <td>24.6</td>\n",
       "      <td>1.0414</td>\n",
       "      <td>22.0</td>\n",
       "      <td>154.00</td>\n",
       "      <td>66.25</td>\n",
       "      <td>24.7</td>\n",
       "      <td>34.0</td>\n",
       "      <td>95.8</td>\n",
       "      <td>87.9</td>\n",
       "      <td>99.2</td>\n",
       "      <td>59.6</td>\n",
       "      <td>38.9</td>\n",
       "      <td>24.0</td>\n",
       "      <td>28.8</td>\n",
       "      <td>25.2</td>\n",
       "      <td>16.6</td>\n",
       "    </tr>\n",
       "    <tr>\n",
       "      <th>3</th>\n",
       "      <td>4.0</td>\n",
       "      <td>10.9</td>\n",
       "      <td>1.0751</td>\n",
       "      <td>26.0</td>\n",
       "      <td>184.75</td>\n",
       "      <td>72.25</td>\n",
       "      <td>24.9</td>\n",
       "      <td>37.4</td>\n",
       "      <td>101.8</td>\n",
       "      <td>86.4</td>\n",
       "      <td>101.2</td>\n",
       "      <td>60.1</td>\n",
       "      <td>37.3</td>\n",
       "      <td>22.8</td>\n",
       "      <td>32.4</td>\n",
       "      <td>29.4</td>\n",
       "      <td>18.2</td>\n",
       "    </tr>\n",
       "    <tr>\n",
       "      <th>4</th>\n",
       "      <td>5.0</td>\n",
       "      <td>27.8</td>\n",
       "      <td>1.0340</td>\n",
       "      <td>24.0</td>\n",
       "      <td>184.25</td>\n",
       "      <td>71.25</td>\n",
       "      <td>25.6</td>\n",
       "      <td>34.4</td>\n",
       "      <td>97.3</td>\n",
       "      <td>100.0</td>\n",
       "      <td>101.9</td>\n",
       "      <td>63.2</td>\n",
       "      <td>42.2</td>\n",
       "      <td>24.0</td>\n",
       "      <td>32.2</td>\n",
       "      <td>27.7</td>\n",
       "      <td>17.7</td>\n",
       "    </tr>\n",
       "  </tbody>\n",
       "</table>\n",
       "</div>"
      ],
      "text/plain": [
       "   IDNO  BODYFAT  DENSITY   AGE  WEIGHT  HEIGHT  ADIPOSITY  NECK  CHEST  \\\n",
       "0   1.0     12.6   1.0708  23.0  154.25   67.75       23.7  36.2   93.1   \n",
       "1   2.0      6.9   1.0853  22.0  173.25   72.25       23.4  38.5    NaN   \n",
       "2   3.0     24.6   1.0414  22.0  154.00   66.25       24.7  34.0   95.8   \n",
       "3   4.0     10.9   1.0751  26.0  184.75   72.25       24.9  37.4  101.8   \n",
       "4   5.0     27.8   1.0340  24.0  184.25   71.25       25.6  34.4   97.3   \n",
       "\n",
       "   ABDOMEN    HIP THIGH  KNEE  ANKLE  BICEPS FOREARM  WRIST  \n",
       "0     85.2   94.5    59  37.3   21.9    32.0    27.4   17.1  \n",
       "1     83.0   98.7  58.7  37.3   23.4    30.5    28.9   18.2  \n",
       "2     87.9   99.2  59.6  38.9   24.0    28.8    25.2   16.6  \n",
       "3     86.4  101.2  60.1  37.3   22.8    32.4    29.4   18.2  \n",
       "4    100.0  101.9  63.2  42.2   24.0    32.2    27.7   17.7  "
      ]
     },
     "execution_count": 20,
     "metadata": {},
     "output_type": "execute_result"
    }
   ],
   "source": [
    "# Q.1 Import the bodyfat1 data set in Jupyter Notebook\n",
    "df = pd.read_excel(r\"C:\\Users\\user\\Desktop\\MSC(Data Science)\\Statistic\\statistic(Python)\\BodyFat.xlsx\")\n",
    "\n",
    "# Display the first few rows of the dataset\n",
    "df.head()\n"
   ]
  },
  {
   "cell_type": "code",
   "execution_count": 21,
   "id": "e4e4f32e-37ef-44d4-8e71-2471f5ee0108",
   "metadata": {},
   "outputs": [
    {
     "data": {
      "text/html": [
       "<div>\n",
       "<style scoped>\n",
       "    .dataframe tbody tr th:only-of-type {\n",
       "        vertical-align: middle;\n",
       "    }\n",
       "\n",
       "    .dataframe tbody tr th {\n",
       "        vertical-align: top;\n",
       "    }\n",
       "\n",
       "    .dataframe thead th {\n",
       "        text-align: right;\n",
       "    }\n",
       "</style>\n",
       "<table border=\"1\" class=\"dataframe\">\n",
       "  <thead>\n",
       "    <tr style=\"text-align: right;\">\n",
       "      <th></th>\n",
       "      <th>IDNO</th>\n",
       "      <th>BODYFAT</th>\n",
       "      <th>DENSITY</th>\n",
       "      <th>AGE</th>\n",
       "      <th>WEIGHT</th>\n",
       "      <th>HEIGHT</th>\n",
       "      <th>ADIPOSITY</th>\n",
       "      <th>NECK</th>\n",
       "      <th>CHEST</th>\n",
       "      <th>ABDOMEN</th>\n",
       "      <th>HIP</th>\n",
       "      <th>ANKLE</th>\n",
       "      <th>BICEPS</th>\n",
       "      <th>WRIST</th>\n",
       "    </tr>\n",
       "  </thead>\n",
       "  <tbody>\n",
       "    <tr>\n",
       "      <th>count</th>\n",
       "      <td>246.000000</td>\n",
       "      <td>246.000000</td>\n",
       "      <td>241.000000</td>\n",
       "      <td>240.000000</td>\n",
       "      <td>237.000000</td>\n",
       "      <td>246.000000</td>\n",
       "      <td>244.000000</td>\n",
       "      <td>246.000000</td>\n",
       "      <td>238.000000</td>\n",
       "      <td>240.000000</td>\n",
       "      <td>246.000000</td>\n",
       "      <td>241.000000</td>\n",
       "      <td>240.000000</td>\n",
       "      <td>236.000000</td>\n",
       "    </tr>\n",
       "    <tr>\n",
       "      <th>mean</th>\n",
       "      <td>126.215447</td>\n",
       "      <td>18.937398</td>\n",
       "      <td>1.059704</td>\n",
       "      <td>45.012500</td>\n",
       "      <td>203.955485</td>\n",
       "      <td>70.105691</td>\n",
       "      <td>25.570492</td>\n",
       "      <td>37.994715</td>\n",
       "      <td>108.492437</td>\n",
       "      <td>92.590000</td>\n",
       "      <td>99.070732</td>\n",
       "      <td>23.022407</td>\n",
       "      <td>32.332500</td>\n",
       "      <td>18.951695</td>\n",
       "    </tr>\n",
       "    <tr>\n",
       "      <th>std</th>\n",
       "      <td>73.074510</td>\n",
       "      <td>7.767997</td>\n",
       "      <td>0.067730</td>\n",
       "      <td>12.709987</td>\n",
       "      <td>247.312254</td>\n",
       "      <td>3.687681</td>\n",
       "      <td>4.111956</td>\n",
       "      <td>2.451708</td>\n",
       "      <td>84.085322</td>\n",
       "      <td>10.916334</td>\n",
       "      <td>11.273014</td>\n",
       "      <td>2.253848</td>\n",
       "      <td>3.054585</td>\n",
       "      <td>8.955452</td>\n",
       "    </tr>\n",
       "    <tr>\n",
       "      <th>min</th>\n",
       "      <td>1.000000</td>\n",
       "      <td>0.000000</td>\n",
       "      <td>0.995000</td>\n",
       "      <td>22.000000</td>\n",
       "      <td>118.500000</td>\n",
       "      <td>29.500000</td>\n",
       "      <td>18.100000</td>\n",
       "      <td>31.100000</td>\n",
       "      <td>79.300000</td>\n",
       "      <td>69.400000</td>\n",
       "      <td>1.000000</td>\n",
       "      <td>2.600000</td>\n",
       "      <td>24.800000</td>\n",
       "      <td>15.800000</td>\n",
       "    </tr>\n",
       "    <tr>\n",
       "      <th>25%</th>\n",
       "      <td>63.250000</td>\n",
       "      <td>12.800000</td>\n",
       "      <td>1.041400</td>\n",
       "      <td>35.750000</td>\n",
       "      <td>158.250000</td>\n",
       "      <td>68.250000</td>\n",
       "      <td>23.100000</td>\n",
       "      <td>36.400000</td>\n",
       "      <td>94.450000</td>\n",
       "      <td>84.475000</td>\n",
       "      <td>95.325000</td>\n",
       "      <td>22.000000</td>\n",
       "      <td>30.275000</td>\n",
       "      <td>17.600000</td>\n",
       "    </tr>\n",
       "    <tr>\n",
       "      <th>50%</th>\n",
       "      <td>125.500000</td>\n",
       "      <td>19.000000</td>\n",
       "      <td>1.055000</td>\n",
       "      <td>43.500000</td>\n",
       "      <td>177.000000</td>\n",
       "      <td>70.000000</td>\n",
       "      <td>25.150000</td>\n",
       "      <td>38.000000</td>\n",
       "      <td>99.600000</td>\n",
       "      <td>90.950000</td>\n",
       "      <td>99.300000</td>\n",
       "      <td>22.800000</td>\n",
       "      <td>32.100000</td>\n",
       "      <td>18.300000</td>\n",
       "    </tr>\n",
       "    <tr>\n",
       "      <th>75%</th>\n",
       "      <td>188.750000</td>\n",
       "      <td>24.600000</td>\n",
       "      <td>1.070500</td>\n",
       "      <td>54.000000</td>\n",
       "      <td>198.250000</td>\n",
       "      <td>72.250000</td>\n",
       "      <td>27.400000</td>\n",
       "      <td>39.475000</td>\n",
       "      <td>105.525000</td>\n",
       "      <td>99.725000</td>\n",
       "      <td>103.175000</td>\n",
       "      <td>24.000000</td>\n",
       "      <td>34.425000</td>\n",
       "      <td>18.800000</td>\n",
       "    </tr>\n",
       "    <tr>\n",
       "      <th>max</th>\n",
       "      <td>252.000000</td>\n",
       "      <td>45.100000</td>\n",
       "      <td>2.064100</td>\n",
       "      <td>81.000000</td>\n",
       "      <td>3263.150000</td>\n",
       "      <td>77.750000</td>\n",
       "      <td>54.200000</td>\n",
       "      <td>51.200000</td>\n",
       "      <td>1016.500000</td>\n",
       "      <td>148.100000</td>\n",
       "      <td>147.700000</td>\n",
       "      <td>35.200000</td>\n",
       "      <td>45.000000</td>\n",
       "      <td>149.000000</td>\n",
       "    </tr>\n",
       "  </tbody>\n",
       "</table>\n",
       "</div>"
      ],
      "text/plain": [
       "             IDNO     BODYFAT     DENSITY         AGE       WEIGHT  \\\n",
       "count  246.000000  246.000000  241.000000  240.000000   237.000000   \n",
       "mean   126.215447   18.937398    1.059704   45.012500   203.955485   \n",
       "std     73.074510    7.767997    0.067730   12.709987   247.312254   \n",
       "min      1.000000    0.000000    0.995000   22.000000   118.500000   \n",
       "25%     63.250000   12.800000    1.041400   35.750000   158.250000   \n",
       "50%    125.500000   19.000000    1.055000   43.500000   177.000000   \n",
       "75%    188.750000   24.600000    1.070500   54.000000   198.250000   \n",
       "max    252.000000   45.100000    2.064100   81.000000  3263.150000   \n",
       "\n",
       "           HEIGHT   ADIPOSITY        NECK        CHEST     ABDOMEN  \\\n",
       "count  246.000000  244.000000  246.000000   238.000000  240.000000   \n",
       "mean    70.105691   25.570492   37.994715   108.492437   92.590000   \n",
       "std      3.687681    4.111956    2.451708    84.085322   10.916334   \n",
       "min     29.500000   18.100000   31.100000    79.300000   69.400000   \n",
       "25%     68.250000   23.100000   36.400000    94.450000   84.475000   \n",
       "50%     70.000000   25.150000   38.000000    99.600000   90.950000   \n",
       "75%     72.250000   27.400000   39.475000   105.525000   99.725000   \n",
       "max     77.750000   54.200000   51.200000  1016.500000  148.100000   \n",
       "\n",
       "              HIP       ANKLE      BICEPS       WRIST  \n",
       "count  246.000000  241.000000  240.000000  236.000000  \n",
       "mean    99.070732   23.022407   32.332500   18.951695  \n",
       "std     11.273014    2.253848    3.054585    8.955452  \n",
       "min      1.000000    2.600000   24.800000   15.800000  \n",
       "25%     95.325000   22.000000   30.275000   17.600000  \n",
       "50%     99.300000   22.800000   32.100000   18.300000  \n",
       "75%    103.175000   24.000000   34.425000   18.800000  \n",
       "max    147.700000   35.200000   45.000000  149.000000  "
      ]
     },
     "execution_count": 21,
     "metadata": {},
     "output_type": "execute_result"
    }
   ],
   "source": [
    "# Q.2 Find the summary of bodyfat1. Using the summary statistics, \n",
    "df.describe()"
   ]
  },
  {
   "cell_type": "code",
   "execution_count": 22,
   "id": "08c00696-d218-4cfb-adfa-4168722bf5e5",
   "metadata": {},
   "outputs": [
    {
     "data": {
      "text/plain": [
       "IDNO          6\n",
       "BODYFAT       6\n",
       "DENSITY      11\n",
       "AGE          12\n",
       "WEIGHT       15\n",
       "HEIGHT        6\n",
       "ADIPOSITY     8\n",
       "NECK          6\n",
       "CHEST        14\n",
       "ABDOMEN      12\n",
       "HIP           6\n",
       "THIGH         8\n",
       "KNEE         15\n",
       "ANKLE        11\n",
       "BICEPS       12\n",
       "FOREARM      14\n",
       "WRIST        16\n",
       "dtype: int64"
      ]
     },
     "execution_count": 22,
     "metadata": {},
     "output_type": "execute_result"
    }
   ],
   "source": [
    "#state whether which of the variables has missing values\n",
    "df.isnull().sum()"
   ]
  },
  {
   "cell_type": "code",
   "execution_count": 23,
   "id": "1bc44165-7603-4f2c-8fed-4d22f962cbde",
   "metadata": {},
   "outputs": [
    {
     "name": "stdout",
     "output_type": "stream",
     "text": [
      "Total missing values in the dataset: 178\n"
     ]
    }
   ],
   "source": [
    "#Q.3  How many total missing values are there in bodyfat1?\n",
    "# Total number of missing values in the entire dataset\n",
    "total_missing_values = df.isnull().sum().sum()\n",
    "\n",
    "print(f\"Total missing values in the dataset: {total_missing_values}\")\n"
   ]
  },
  {
   "cell_type": "code",
   "execution_count": 24,
   "id": "9e05651f-7dc0-4038-b974-93fab60f29b8",
   "metadata": {},
   "outputs": [],
   "source": [
    "#Q.4 How many total empty rows are there in the data set? Remove the empty rows from bodyfat1.\n"
   ]
  },
  {
   "cell_type": "code",
   "execution_count": 25,
   "id": "c5a1db30-fc41-447d-b5aa-31daad9e871a",
   "metadata": {},
   "outputs": [
    {
     "name": "stdout",
     "output_type": "stream",
     "text": [
      "Total empty rows: 6\n"
     ]
    }
   ],
   "source": [
    "# Check for completely empty rows (all values are NaN)\n",
    "empty_rows = df.isnull().all(axis=1).sum()\n",
    "\n",
    "print(f\"Total empty rows: {empty_rows}\")\n"
   ]
  },
  {
   "cell_type": "code",
   "execution_count": 26,
   "id": "e9b86dc1-1611-49ee-bf71-b4617717f0b9",
   "metadata": {},
   "outputs": [
    {
     "name": "stdout",
     "output_type": "stream",
     "text": [
      "Shape after removing empty rows: (246, 17)\n"
     ]
    }
   ],
   "source": [
    "# Remove completely empty rows\n",
    "df_cleaned = df.dropna(how='all')\n",
    "\n",
    "# Display the shape of the cleaned dataset to confirm rows are removed\n",
    "print(f\"Shape after removing empty rows: {df_cleaned.shape}\")\n"
   ]
  },
  {
   "cell_type": "code",
   "execution_count": 27,
   "id": "219d4f7e-e2f1-4113-b6b9-5224ba7a9ee0",
   "metadata": {},
   "outputs": [
    {
     "data": {
      "text/plain": [
       "14"
      ]
     },
     "execution_count": 27,
     "metadata": {},
     "output_type": "execute_result"
    }
   ],
   "source": [
    "# Q.5 How many missing values are there in the variable ‘CHEST’.\n",
    "\n",
    "df['CHEST'].isnull().sum()"
   ]
  },
  {
   "cell_type": "code",
   "execution_count": 28,
   "id": "3fe3d1ef-be9b-4568-8aeb-d519b85d5a42",
   "metadata": {},
   "outputs": [],
   "source": [
    "#Remove these missing values from the data set."
   ]
  },
  {
   "cell_type": "code",
   "execution_count": 29,
   "id": "cf976339-7308-445f-b639-2286ace2f7c9",
   "metadata": {},
   "outputs": [],
   "source": [
    "# Remove rows where 'CHEST' has missing values\n",
    "df_cleaned = df.dropna(subset=['CHEST'])\n"
   ]
  },
  {
   "cell_type": "code",
   "execution_count": 30,
   "id": "d494fb34-3029-45ba-b225-48f04f91c19e",
   "metadata": {},
   "outputs": [
    {
     "data": {
      "text/plain": [
       "15"
      ]
     },
     "execution_count": 30,
     "metadata": {},
     "output_type": "execute_result"
    }
   ],
   "source": [
    "# Q.6 How many missing values are there in the variable ‘WEIGHT’. \n",
    "df['WEIGHT'].isnull().sum()"
   ]
  },
  {
   "cell_type": "code",
   "execution_count": 31,
   "id": "979eba60-9eff-4c2e-98a3-d2fa28ee2061",
   "metadata": {},
   "outputs": [
    {
     "name": "stdout",
     "output_type": "stream",
     "text": [
      "0\n"
     ]
    }
   ],
   "source": [
    "#Impute these missing values using mean.\n",
    "df['WEIGHT'].fillna(df['WEIGHT'].mean(), inplace=True)\n",
    "\n",
    "# Verify if the missing values in 'WEIGHT' are filled\n",
    "print(df['WEIGHT'].isnull().sum())\n"
   ]
  },
  {
   "cell_type": "code",
   "execution_count": 32,
   "id": "3c1dc336-4818-4324-a4e0-9a9bb2e03380",
   "metadata": {},
   "outputs": [
    {
     "data": {
      "text/plain": [
       "6"
      ]
     },
     "execution_count": 32,
     "metadata": {},
     "output_type": "execute_result"
    }
   ],
   "source": [
    "# Q.7 How many missing values are there in the variable ‘HIP’. \n",
    "\n",
    "df['HIP'].isnull().sum()"
   ]
  },
  {
   "cell_type": "code",
   "execution_count": 33,
   "id": "61019c2b-16fc-487b-9146-6cf266e2b03d",
   "metadata": {},
   "outputs": [
    {
     "name": "stdout",
     "output_type": "stream",
     "text": [
      "0\n"
     ]
    }
   ],
   "source": [
    "#Impute these missing values using median.\n",
    "df['HIP'].fillna(df['HIP'].median(), inplace=True)\n",
    "\n",
    "# Verify if the missing values in 'HIP' are filled\n",
    "print(df['HIP'].isnull().sum())\n"
   ]
  },
  {
   "cell_type": "code",
   "execution_count": 34,
   "id": "0d403d9f-c488-46d7-a484-6ae0e3f40263",
   "metadata": {},
   "outputs": [
    {
     "data": {
      "text/plain": [
       "15"
      ]
     },
     "execution_count": 34,
     "metadata": {},
     "output_type": "execute_result"
    }
   ],
   "source": [
    "# Q.8 How many missing values are there in the variable KNEE”.\n",
    "\n",
    "df['KNEE'].isnull().sum()"
   ]
  },
  {
   "cell_type": "code",
   "execution_count": 35,
   "id": "2f44d565-7bec-43ca-9013-94f7d6cebaa1",
   "metadata": {},
   "outputs": [
    {
     "name": "stdout",
     "output_type": "stream",
     "text": [
      "0\n"
     ]
    }
   ],
   "source": [
    "#Impute these missing values using mean.\n",
    "knee_mean = df['KNEE'].loc[df['KNEE'].apply(lambda x: str(x).replace(\".\", \"\").isdigit())].astype(float).mean()\n",
    "\n",
    "# Fill missing values in the 'KNEE' column with the computed mean\n",
    "df['KNEE'].fillna(knee_mean, inplace=True)\n",
    "\n",
    "# Verify if missing values in 'KNEE' are filled\n",
    "print(df['KNEE'].isnull().sum())\n"
   ]
  }
 ],
 "metadata": {
  "kernelspec": {
   "display_name": "Python 3 (ipykernel)",
   "language": "python",
   "name": "python3"
  },
  "language_info": {
   "codemirror_mode": {
    "name": "ipython",
    "version": 3
   },
   "file_extension": ".py",
   "mimetype": "text/x-python",
   "name": "python",
   "nbconvert_exporter": "python",
   "pygments_lexer": "ipython3",
   "version": "3.12.4"
  }
 },
 "nbformat": 4,
 "nbformat_minor": 5
}
