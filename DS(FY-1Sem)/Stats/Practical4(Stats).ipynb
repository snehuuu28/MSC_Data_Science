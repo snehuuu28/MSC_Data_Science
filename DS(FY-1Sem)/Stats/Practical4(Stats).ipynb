{
 "cells": [
  {
   "cell_type": "code",
   "execution_count": 47,
   "id": "ffbf30dc-8a1b-461b-82ac-cb3fc0789279",
   "metadata": {},
   "outputs": [],
   "source": [
    "# Practical No : 4\n",
    "# Title: Feature Scaling\n",
    "# Name : Snehal Gawade\n",
    "#PRN : 2401208025"
   ]
  },
  {
   "cell_type": "code",
   "execution_count": 48,
   "id": "1f80f396",
   "metadata": {
    "id": "1f80f396"
   },
   "outputs": [],
   "source": [
    "import pandas as pd"
   ]
  },
  {
   "cell_type": "code",
   "execution_count": 49,
   "id": "6c95ef45",
   "metadata": {
    "id": "6c95ef45"
   },
   "outputs": [],
   "source": [
    "import sklearn.preprocessing as preproc"
   ]
  },
  {
   "cell_type": "code",
   "execution_count": 50,
   "id": "9c0c7ee7",
   "metadata": {
    "id": "9c0c7ee7"
   },
   "outputs": [],
   "source": [
    "df=pd.read_csv(r\"C:\\Users\\user\\Desktop\\MSC(Data Science)\\Statistic\\statistic(Python)\\OnlineNewsPopularity.csv\")"
   ]
  },
  {
   "cell_type": "code",
   "execution_count": 51,
   "id": "ca625a79",
   "metadata": {
    "id": "ca625a79",
    "outputId": "74421ca4-3657-4417-d2a3-26fa5479a125"
   },
   "outputs": [
    {
     "data": {
      "text/plain": [
       "(39644, 61)"
      ]
     },
     "execution_count": 51,
     "metadata": {},
     "output_type": "execute_result"
    }
   ],
   "source": [
    "df.shape"
   ]
  },
  {
   "cell_type": "code",
   "execution_count": 52,
   "id": "d04f30bf",
   "metadata": {
    "id": "d04f30bf",
    "outputId": "0fb5ed6f-c396-43e2-b723-f25b6808f579"
   },
   "outputs": [
    {
     "data": {
      "text/html": [
       "<div>\n",
       "<style scoped>\n",
       "    .dataframe tbody tr th:only-of-type {\n",
       "        vertical-align: middle;\n",
       "    }\n",
       "\n",
       "    .dataframe tbody tr th {\n",
       "        vertical-align: top;\n",
       "    }\n",
       "\n",
       "    .dataframe thead th {\n",
       "        text-align: right;\n",
       "    }\n",
       "</style>\n",
       "<table border=\"1\" class=\"dataframe\">\n",
       "  <thead>\n",
       "    <tr style=\"text-align: right;\">\n",
       "      <th></th>\n",
       "      <th>url</th>\n",
       "      <th>timedelta</th>\n",
       "      <th>n_tokens_title</th>\n",
       "      <th>n_tokens_content</th>\n",
       "      <th>n_unique_tokens</th>\n",
       "      <th>n_non_stop_words</th>\n",
       "      <th>n_non_stop_unique_tokens</th>\n",
       "      <th>num_hrefs</th>\n",
       "      <th>num_self_hrefs</th>\n",
       "      <th>num_imgs</th>\n",
       "      <th>...</th>\n",
       "      <th>min_positive_polarity</th>\n",
       "      <th>max_positive_polarity</th>\n",
       "      <th>avg_negative_polarity</th>\n",
       "      <th>min_negative_polarity</th>\n",
       "      <th>max_negative_polarity</th>\n",
       "      <th>title_subjectivity</th>\n",
       "      <th>title_sentiment_polarity</th>\n",
       "      <th>abs_title_subjectivity</th>\n",
       "      <th>abs_title_sentiment_polarity</th>\n",
       "      <th>shares</th>\n",
       "    </tr>\n",
       "  </thead>\n",
       "  <tbody>\n",
       "    <tr>\n",
       "      <th>0</th>\n",
       "      <td>http://mashable.com/2013/01/07/amazon-instant-...</td>\n",
       "      <td>731</td>\n",
       "      <td>12</td>\n",
       "      <td>219</td>\n",
       "      <td>0.663594</td>\n",
       "      <td>1.0</td>\n",
       "      <td>0.815385</td>\n",
       "      <td>4</td>\n",
       "      <td>2</td>\n",
       "      <td>1</td>\n",
       "      <td>...</td>\n",
       "      <td>0.100000</td>\n",
       "      <td>0.7</td>\n",
       "      <td>-0.350000</td>\n",
       "      <td>-0.600</td>\n",
       "      <td>-0.200000</td>\n",
       "      <td>0.500000</td>\n",
       "      <td>-0.187500</td>\n",
       "      <td>0.000000</td>\n",
       "      <td>0.187500</td>\n",
       "      <td>593</td>\n",
       "    </tr>\n",
       "    <tr>\n",
       "      <th>1</th>\n",
       "      <td>http://mashable.com/2013/01/07/ap-samsung-spon...</td>\n",
       "      <td>731</td>\n",
       "      <td>9</td>\n",
       "      <td>255</td>\n",
       "      <td>0.604743</td>\n",
       "      <td>1.0</td>\n",
       "      <td>0.791946</td>\n",
       "      <td>3</td>\n",
       "      <td>1</td>\n",
       "      <td>1</td>\n",
       "      <td>...</td>\n",
       "      <td>0.033333</td>\n",
       "      <td>0.7</td>\n",
       "      <td>-0.118750</td>\n",
       "      <td>-0.125</td>\n",
       "      <td>-0.100000</td>\n",
       "      <td>0.000000</td>\n",
       "      <td>0.000000</td>\n",
       "      <td>0.500000</td>\n",
       "      <td>0.000000</td>\n",
       "      <td>711</td>\n",
       "    </tr>\n",
       "    <tr>\n",
       "      <th>2</th>\n",
       "      <td>http://mashable.com/2013/01/07/apple-40-billio...</td>\n",
       "      <td>731</td>\n",
       "      <td>9</td>\n",
       "      <td>211</td>\n",
       "      <td>0.575130</td>\n",
       "      <td>1.0</td>\n",
       "      <td>0.663866</td>\n",
       "      <td>3</td>\n",
       "      <td>1</td>\n",
       "      <td>1</td>\n",
       "      <td>...</td>\n",
       "      <td>0.100000</td>\n",
       "      <td>1.0</td>\n",
       "      <td>-0.466667</td>\n",
       "      <td>-0.800</td>\n",
       "      <td>-0.133333</td>\n",
       "      <td>0.000000</td>\n",
       "      <td>0.000000</td>\n",
       "      <td>0.500000</td>\n",
       "      <td>0.000000</td>\n",
       "      <td>1500</td>\n",
       "    </tr>\n",
       "    <tr>\n",
       "      <th>3</th>\n",
       "      <td>http://mashable.com/2013/01/07/astronaut-notre...</td>\n",
       "      <td>731</td>\n",
       "      <td>9</td>\n",
       "      <td>531</td>\n",
       "      <td>0.503788</td>\n",
       "      <td>1.0</td>\n",
       "      <td>0.665635</td>\n",
       "      <td>9</td>\n",
       "      <td>0</td>\n",
       "      <td>1</td>\n",
       "      <td>...</td>\n",
       "      <td>0.136364</td>\n",
       "      <td>0.8</td>\n",
       "      <td>-0.369697</td>\n",
       "      <td>-0.600</td>\n",
       "      <td>-0.166667</td>\n",
       "      <td>0.000000</td>\n",
       "      <td>0.000000</td>\n",
       "      <td>0.500000</td>\n",
       "      <td>0.000000</td>\n",
       "      <td>1200</td>\n",
       "    </tr>\n",
       "    <tr>\n",
       "      <th>4</th>\n",
       "      <td>http://mashable.com/2013/01/07/att-u-verse-apps/</td>\n",
       "      <td>731</td>\n",
       "      <td>13</td>\n",
       "      <td>1072</td>\n",
       "      <td>0.415646</td>\n",
       "      <td>1.0</td>\n",
       "      <td>0.540890</td>\n",
       "      <td>19</td>\n",
       "      <td>19</td>\n",
       "      <td>20</td>\n",
       "      <td>...</td>\n",
       "      <td>0.033333</td>\n",
       "      <td>1.0</td>\n",
       "      <td>-0.220192</td>\n",
       "      <td>-0.500</td>\n",
       "      <td>-0.050000</td>\n",
       "      <td>0.454545</td>\n",
       "      <td>0.136364</td>\n",
       "      <td>0.045455</td>\n",
       "      <td>0.136364</td>\n",
       "      <td>505</td>\n",
       "    </tr>\n",
       "  </tbody>\n",
       "</table>\n",
       "<p>5 rows × 61 columns</p>\n",
       "</div>"
      ],
      "text/plain": [
       "                                                 url  timedelta  \\\n",
       "0  http://mashable.com/2013/01/07/amazon-instant-...        731   \n",
       "1  http://mashable.com/2013/01/07/ap-samsung-spon...        731   \n",
       "2  http://mashable.com/2013/01/07/apple-40-billio...        731   \n",
       "3  http://mashable.com/2013/01/07/astronaut-notre...        731   \n",
       "4   http://mashable.com/2013/01/07/att-u-verse-apps/        731   \n",
       "\n",
       "   n_tokens_title  n_tokens_content  n_unique_tokens  n_non_stop_words  \\\n",
       "0              12               219         0.663594               1.0   \n",
       "1               9               255         0.604743               1.0   \n",
       "2               9               211         0.575130               1.0   \n",
       "3               9               531         0.503788               1.0   \n",
       "4              13              1072         0.415646               1.0   \n",
       "\n",
       "   n_non_stop_unique_tokens  num_hrefs  num_self_hrefs  num_imgs  ...  \\\n",
       "0                  0.815385          4               2         1  ...   \n",
       "1                  0.791946          3               1         1  ...   \n",
       "2                  0.663866          3               1         1  ...   \n",
       "3                  0.665635          9               0         1  ...   \n",
       "4                  0.540890         19              19        20  ...   \n",
       "\n",
       "   min_positive_polarity  max_positive_polarity  avg_negative_polarity  \\\n",
       "0               0.100000                    0.7              -0.350000   \n",
       "1               0.033333                    0.7              -0.118750   \n",
       "2               0.100000                    1.0              -0.466667   \n",
       "3               0.136364                    0.8              -0.369697   \n",
       "4               0.033333                    1.0              -0.220192   \n",
       "\n",
       "   min_negative_polarity  max_negative_polarity  title_subjectivity  \\\n",
       "0                 -0.600              -0.200000            0.500000   \n",
       "1                 -0.125              -0.100000            0.000000   \n",
       "2                 -0.800              -0.133333            0.000000   \n",
       "3                 -0.600              -0.166667            0.000000   \n",
       "4                 -0.500              -0.050000            0.454545   \n",
       "\n",
       "   title_sentiment_polarity  abs_title_subjectivity  \\\n",
       "0                 -0.187500                0.000000   \n",
       "1                  0.000000                0.500000   \n",
       "2                  0.000000                0.500000   \n",
       "3                  0.000000                0.500000   \n",
       "4                  0.136364                0.045455   \n",
       "\n",
       "   abs_title_sentiment_polarity  shares  \n",
       "0                      0.187500     593  \n",
       "1                      0.000000     711  \n",
       "2                      0.000000    1500  \n",
       "3                      0.000000    1200  \n",
       "4                      0.136364     505  \n",
       "\n",
       "[5 rows x 61 columns]"
      ]
     },
     "execution_count": 52,
     "metadata": {},
     "output_type": "execute_result"
    }
   ],
   "source": [
    "# First 5 rows\n",
    "df.head()"
   ]
  },
  {
   "cell_type": "code",
   "execution_count": 53,
   "id": "899e8f0f",
   "metadata": {
    "id": "899e8f0f",
    "outputId": "4086aed2-f306-410f-e988-23020b12c403"
   },
   "outputs": [
    {
     "data": {
      "text/plain": [
       "Index(['url', 'timedelta', 'n_tokens_title', 'n_tokens_content',\n",
       "       'n_unique_tokens', 'n_non_stop_words', 'n_non_stop_unique_tokens',\n",
       "       'num_hrefs', 'num_self_hrefs', 'num_imgs', 'num_videos',\n",
       "       'average_token_length', 'num_keywords', 'data_channel_is_lifestyle',\n",
       "       'data_channel_is_entertainment', 'data_channel_is_bus',\n",
       "       'data_channel_is_socmed', 'data_channel_is_tech',\n",
       "       'data_channel_is_world', 'kw_min_min', 'kw_max_min', 'kw_avg_min',\n",
       "       'kw_min_max', 'kw_max_max', 'kw_avg_max', 'kw_min_avg', 'kw_max_avg',\n",
       "       'kw_avg_avg', 'self_reference_min_shares', 'self_reference_max_shares',\n",
       "       'self_reference_avg_sharess', 'weekday_is_monday', 'weekday_is_tuesday',\n",
       "       'weekday_is_wednesday', 'weekday_is_thursday', 'weekday_is_friday',\n",
       "       'weekday_is_saturday', 'weekday_is_sunday', 'is_weekend', 'LDA_00',\n",
       "       'LDA_01', 'LDA_02', 'LDA_03', 'LDA_04', 'global_subjectivity',\n",
       "       'global_sentiment_polarity', 'global_rate_positive_words',\n",
       "       'global_rate_negative_words', 'rate_positive_words',\n",
       "       'rate_negative_words', 'avg_positive_polarity', 'min_positive_polarity',\n",
       "       'max_positive_polarity', 'avg_negative_polarity',\n",
       "       'min_negative_polarity', 'max_negative_polarity', 'title_subjectivity',\n",
       "       'title_sentiment_polarity', 'abs_title_subjectivity',\n",
       "       'abs_title_sentiment_polarity', 'shares'],\n",
       "      dtype='object')"
      ]
     },
     "execution_count": 53,
     "metadata": {},
     "output_type": "execute_result"
    }
   ],
   "source": [
    "df.columns"
   ]
  },
  {
   "cell_type": "code",
   "execution_count": 54,
   "id": "47b02e0b",
   "metadata": {
    "id": "47b02e0b",
    "outputId": "f968af79-4bde-42b1-ab30-fb69a8fa1306"
   },
   "outputs": [
    {
     "data": {
      "text/plain": [
       "21666030"
      ]
     },
     "execution_count": 54,
     "metadata": {},
     "output_type": "execute_result"
    }
   ],
   "source": [
    "# Total number of words in an article\n",
    "df['n_tokens_content'].sum()"
   ]
  },
  {
   "cell_type": "code",
   "execution_count": 55,
   "id": "59db332a",
   "metadata": {
    "id": "59db332a",
    "outputId": "33b3d023-20b7-4a15-fc63-27e3c1ffca4a"
   },
   "outputs": [
    {
     "data": {
      "text/plain": [
       "0         219\n",
       "1         255\n",
       "2         211\n",
       "3         531\n",
       "4        1072\n",
       "         ... \n",
       "39639     346\n",
       "39640     328\n",
       "39641     442\n",
       "39642     682\n",
       "39643     157\n",
       "Name: n_tokens_content, Length: 39644, dtype: int64"
      ]
     },
     "execution_count": 55,
     "metadata": {},
     "output_type": "execute_result"
    }
   ],
   "source": [
    "df['n_tokens_content']"
   ]
  },
  {
   "cell_type": "code",
   "execution_count": 56,
   "id": "00a84b9d",
   "metadata": {
    "id": "00a84b9d",
    "outputId": "8dbc0f9e-5cab-4384-86af-6866ea875bce"
   },
   "outputs": [
    {
     "data": {
      "text/plain": [
       "0    0.025844\n",
       "1    0.030092\n",
       "2    0.024900\n",
       "3    0.062662\n",
       "4    0.126505\n",
       "Name: minmax, dtype: float64"
      ]
     },
     "execution_count": 56,
     "metadata": {},
     "output_type": "execute_result"
    }
   ],
   "source": [
    "# Min-Max scaling\n",
    "df['minmax']=preproc.minmax_scale(df['n_tokens_content'])\n",
    "df['minmax'].head()"
   ]
  },
  {
   "cell_type": "code",
   "execution_count": 57,
   "id": "2d8a9d04",
   "metadata": {
    "id": "2d8a9d04",
    "outputId": "8cf6bb91-dda7-4915-b794-25ebedf13440"
   },
   "outputs": [
    {
     "data": {
      "text/plain": [
       "0.9999999999999999"
      ]
     },
     "execution_count": 57,
     "metadata": {},
     "output_type": "execute_result"
    }
   ],
   "source": [
    "df['minmax'].max()"
   ]
  },
  {
   "cell_type": "code",
   "execution_count": 58,
   "id": "a7f71ec8",
   "metadata": {
    "id": "a7f71ec8",
    "outputId": "a08f08af-60b9-4660-aef0-6a8544c8a03a"
   },
   "outputs": [
    {
     "data": {
      "text/plain": [
       "0.0"
      ]
     },
     "execution_count": 58,
     "metadata": {},
     "output_type": "execute_result"
    }
   ],
   "source": [
    "df['minmax'].min()"
   ]
  },
  {
   "cell_type": "code",
   "execution_count": 59,
   "id": "a9cc56a7",
   "metadata": {
    "id": "a9cc56a7"
   },
   "outputs": [],
   "source": [
    "# Standarization\n",
    "df[\"standardized\"]=preproc.StandardScaler().fit_transform(df[['n_tokens_content']])"
   ]
  },
  {
   "cell_type": "code",
   "execution_count": 60,
   "id": "53fa11af",
   "metadata": {
    "id": "53fa11af",
    "outputId": "6edd63f2-8ad4-451e-c360-963218707c73"
   },
   "outputs": [
    {
     "data": {
      "text/plain": [
       "0       -0.695210\n",
       "1       -0.618794\n",
       "2       -0.712192\n",
       "3       -0.032933\n",
       "4        1.115439\n",
       "           ...   \n",
       "39639   -0.425630\n",
       "39640   -0.463838\n",
       "39641   -0.221852\n",
       "39642    0.287592\n",
       "39643   -0.826817\n",
       "Name: standardized, Length: 39644, dtype: float64"
      ]
     },
     "execution_count": 60,
     "metadata": {},
     "output_type": "execute_result"
    }
   ],
   "source": [
    "df['standardized']"
   ]
  },
  {
   "cell_type": "code",
   "execution_count": 61,
   "id": "1b05de82",
   "metadata": {
    "id": "1b05de82"
   },
   "outputs": [],
   "source": [
    "# Normalization\n",
    "df['normalized']=preproc.normalize(df[['n_tokens_content']])"
   ]
  },
  {
   "cell_type": "code",
   "execution_count": 62,
   "id": "30f3cb20",
   "metadata": {
    "id": "30f3cb20",
    "outputId": "04d5172b-6c27-431c-811e-bb3d30155305"
   },
   "outputs": [
    {
     "data": {
      "text/plain": [
       "0        1.0\n",
       "1        1.0\n",
       "2        1.0\n",
       "3        1.0\n",
       "4        1.0\n",
       "        ... \n",
       "39639    1.0\n",
       "39640    1.0\n",
       "39641    1.0\n",
       "39642    1.0\n",
       "39643    1.0\n",
       "Name: normalized, Length: 39644, dtype: float64"
      ]
     },
     "execution_count": 62,
     "metadata": {},
     "output_type": "execute_result"
    }
   ],
   "source": [
    "df['normalized']"
   ]
  },
  {
   "cell_type": "code",
   "execution_count": 63,
   "id": "ea5391e4",
   "metadata": {
    "id": "ea5391e4"
   },
   "outputs": [],
   "source": [
    "import matplotlib.pyplot as plt"
   ]
  },
  {
   "cell_type": "code",
   "execution_count": 64,
   "id": "7dd9329a",
   "metadata": {
    "id": "7dd9329a",
    "outputId": "96aac42a-494f-4117-e64c-dc9e06639444"
   },
   "outputs": [
    {
     "data": {
      "text/plain": [
       "Text(0, 0.5, 'Number of article ')"
      ]
     },
     "execution_count": 64,
     "metadata": {},
     "output_type": "execute_result"
    },
    {
     "data": {
      "image/png": "[encoded data removed]",
      "text/plain": [
       "<Figure size 640x480 with 4 Axes>"
      ]
     },
     "metadata": {},
     "output_type": "display_data"
    }
   ],
   "source": [
    "fig,(ax1,ax2,ax3,ax4)=plt.subplots(4,1)\n",
    "df['n_tokens_content'].hist(ax=ax1,bins=100)\n",
    "ax1.set_xlabel(\"Article word count\")\n",
    "ax1.set_ylabel('Number of article ')"
   ]
  },
  {
   "cell_type": "code",
   "execution_count": 65,
   "id": "22c04eb6",
   "metadata": {
    "id": "22c04eb6",
    "outputId": "d9749cc4-644f-4d8e-c40d-d9ebc025e466"
   },
   "outputs": [
    {
     "data": {
      "text/plain": [
       "Text(0, 0.5, 'Number of article ')"
      ]
     },
     "execution_count": 65,
     "metadata": {},
     "output_type": "execute_result"
    },
    {
     "data": {
      "image/png": "[encoded data removed]",
      "text/plain": [
       "<Figure size 640x480 with 4 Axes>"
      ]
     },
     "metadata": {},
     "output_type": "display_data"
    }
   ],
   "source": [
    "# Plotting the histograms of original and scaled data\n",
    "fig,(ax1,ax2,ax3,ax4)=plt.subplots(4,1)\n",
    "df['n_tokens_content'].hist(ax=ax1,bins=100)\n",
    "df['minmax'].hist(ax=ax2,bins=100)\n",
    "df['standardized'].hist(ax=ax3,bins=100)\n",
    "df['normalized'].hist(ax=ax4,bins=100)\n",
    "ax1.set_xlabel(\"Article word count\")\n",
    "ax1.set_ylabel('Number of article ')\n",
    "ax2.set_xlabel(\"Min-Max scalw word count\")\n",
    "ax2.set_ylabel('Number of article ')\n",
    "ax3.set_xlabel(\"Standarized word count\")\n",
    "ax3.set_ylabel('Number of article ')\n",
    "ax4.set_xlabel(\"Normalized word count\")\n",
    "ax4.set_ylabel('Number of article ')"
   ]
  },
  {
   "cell_type": "code",
   "execution_count": 66,
   "id": "9581cc3d",
   "metadata": {
    "id": "9581cc3d",
    "outputId": "5068c984-4fdc-4743-ea28-f7a09b3d6808"
   },
   "outputs": [
    {
     "data": {
      "image/png": "[encoded data removed]",
      "text/plain": [
       "<Figure size 640x480 with 4 Axes>"
      ]
     },
     "metadata": {},
     "output_type": "display_data"
    }
   ],
   "source": [
    "fig,(ax1,ax2,ax3,ax4)=plt.subplots(4,1)\n",
    "df['n_tokens_content'].hist(ax=ax1,bins=100)\n",
    "df['minmax'].hist(ax=ax2,bins=100)\n",
    "df['standardized'].hist(ax=ax3,bins=100)\n",
    "df['normalized'].hist(ax=ax4,bins=100)\n",
    "ax1.set_xlabel(\"Article word count\")\n",
    "ax1.set_ylabel('Number of article ')\n",
    "ax1.tick_params()"
   ]
  }
 ],
 "metadata": {
  "colab": {
   "provenance": []
  },
  "kernelspec": {
   "display_name": "Python 3 (ipykernel)",
   "language": "python",
   "name": "python3"
  },
  "language_info": {
   "codemirror_mode": {
    "name": "ipython",
    "version": 3
   },
   "file_extension": ".py",
   "mimetype": "text/x-python",
   "name": "python",
   "nbconvert_exporter": "python",
   "pygments_lexer": "ipython3",
   "version": "3.12.4"
  }
 },
 "nbformat": 4,
 "nbformat_minor": 5
}
