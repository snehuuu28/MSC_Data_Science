{
 "cells": [
  {
   "cell_type": "markdown",
   "id": "dc7fe4ce-6f67-4074-ba5a-6a728b97890e",
   "metadata": {},
   "source": [
    "1. Create a python program that calls 2 user defined function to find the GCD and LCM\n",
    "of given two numbers. Accept the two numbers from user and pass it to functions."
   ]
  },
  {
   "cell_type": "code",
   "execution_count": 2,
   "id": "1fe98364-fc92-4018-806c-7649849cf95b",
   "metadata": {},
   "outputs": [
    {
     "name": "stdin",
     "output_type": "stream",
     "text": [
      "Enter the first number:  5\n",
      "Enter the second number:  65\n"
     ]
    },
    {
     "name": "stdout",
     "output_type": "stream",
     "text": [
      "The GCD of 5 and 65 is: 5\n",
      "The LCM of 5 and 65 is: 65\n"
     ]
    }
   ],
   "source": [
    "def find_gcd(a, b):\n",
    "    while b:\n",
    "        a, b = b, a % b\n",
    "    return a\n",
    "\n",
    "def find_lcm(a, b):\n",
    "    gcd = find_gcd(a, b)\n",
    "    return abs(a * b) // gcd\n",
    "\n",
    "# Accept input from user\n",
    "num1 = int(input(\"Enter the first number: \"))\n",
    "num2 = int(input(\"Enter the second number: \"))\n",
    "\n",
    "gcd = find_gcd(num1, num2)\n",
    "lcm = find_lcm(num1, num2)\n",
    "\n",
    "print(f\"The GCD of {num1} and {num2} is: {gcd}\")\n",
    "print(f\"The LCM of {num1} and {num2} is: {lcm}\")\n"
   ]
  },
  {
   "cell_type": "markdown",
   "id": "2d6bca1e-46ec-4669-b0da-513728482f85",
   "metadata": {},
   "source": [
    "2. Create a python program to read a decimal number from user and convert that\n",
    "number in binary and octal equivalent number."
   ]
  },
  {
   "cell_type": "code",
   "execution_count": 4,
   "id": "ddc0ed0b-0065-466b-8485-75ebd930bf41",
   "metadata": {},
   "outputs": [
    {
     "name": "stdin",
     "output_type": "stream",
     "text": [
      "Enter a decimal number:  34\n"
     ]
    },
    {
     "name": "stdout",
     "output_type": "stream",
     "text": [
      "The binary equivalent of 34 is: 100010\n",
      "The octal equivalent of 34 is: 42\n"
     ]
    }
   ],
   "source": [
    "# Accept input from user\n",
    "decimal_num = int(input(\"Enter a decimal number: \"))\n",
    "\n",
    "binary_num = bin(decimal_num)[2:]\n",
    "octal_num = oct(decimal_num)[2:]\n",
    "\n",
    "print(f\"The binary equivalent of {decimal_num} is: {binary_num}\")\n",
    "print(f\"The octal equivalent of {decimal_num} is: {octal_num}\")\n"
   ]
  },
  {
   "cell_type": "markdown",
   "id": "413a512b-b88a-4a0c-aff5-73a56f5a4e5c",
   "metadata": {},
   "source": [
    "3. Create a Python program to read n strings from user, store them into list. Display only\n",
    "those strings which is having even length"
   ]
  },
  {
   "cell_type": "code",
   "execution_count": 8,
   "id": "38dc1602-f2b0-42af-adec-f88c92a8766b",
   "metadata": {},
   "outputs": [
    {
     "name": "stdin",
     "output_type": "stream",
     "text": [
      "Enter the number of strings:  4\n",
      "Enter string 1:  snehal\n",
      "Enter string 2:  Rajendra\n",
      "Enter string 3:  Gawa\n",
      "Enter string 4:  Tau\n"
     ]
    },
    {
     "name": "stdout",
     "output_type": "stream",
     "text": [
      "Strings with even length are:\n",
      "snehal\n",
      "Rajendra\n",
      "Gawa\n"
     ]
    }
   ],
   "source": [
    "# Accept number of strings from user\n",
    "n = int(input(\"Enter the number of strings: \"))\n",
    "strings = []\n",
    "\n",
    "for i in range(n):\n",
    "    string = input(f\"Enter string {i+1}: \")\n",
    "    strings.append(string)\n",
    "\n",
    "even_length_strings = [s for s in strings if len(s) % 2 == 0]\n",
    "\n",
    "print(\"Strings with even length are:\")\n",
    "for s in even_length_strings:\n",
    "    print(s)\n"
   ]
  },
  {
   "cell_type": "markdown",
   "id": "194f3468-3742-435d-aeed-fdb244a7144a",
   "metadata": {},
   "source": [
    "4. Accept data for 5 students with tuple including roll number, name, and marks. Find the\n",
    "topper from them."
   ]
  },
  {
   "cell_type": "code",
   "execution_count": 10,
   "id": "0995954a-49b1-4c92-b312-1ecb1176c459",
   "metadata": {},
   "outputs": [
    {
     "name": "stdin",
     "output_type": "stream",
     "text": [
      "Enter roll number for student 1:  1\n",
      "Enter name for student 1:  Snehal\n",
      "Enter marks for student 1:  95\n",
      "Enter roll number for student 2:  2\n",
      "Enter name for student 2:  Tanu\n",
      "Enter marks for student 2:  90\n"
     ]
    },
    {
     "name": "stdout",
     "output_type": "stream",
     "text": [
      "The topper is Snehal (Roll No: 1) with marks: 95.0\n"
     ]
    }
   ],
   "source": [
    "# Accept data for 5 students\n",
    "students = []\n",
    "\n",
    "for i in range(2):\n",
    "    roll_no = int(input(f\"Enter roll number for student {i+1}: \"))\n",
    "    name = input(f\"Enter name for student {i+1}: \")\n",
    "    marks = float(input(f\"Enter marks for student {i+1}: \"))\n",
    "    students.append((roll_no, name, marks))\n",
    "\n",
    "# Find the topper\n",
    "topper = max(students, key=lambda student: student[2])\n",
    "\n",
    "print(f\"The topper is {topper[1]} (Roll No: {topper[0]}) with marks: {topper[2]}\")\n"
   ]
  },
  {
   "cell_type": "markdown",
   "id": "9fe43260-0b76-48c0-b48c-2dc5787a249a",
   "metadata": {},
   "source": [
    "5. Create a Python program to demonstrate the use of Set data structure with\n",
    "mathematical operations on 2 Set of numeric elements."
   ]
  },
  {
   "cell_type": "code",
   "execution_count": 3,
   "id": "2fed972f-ea17-4557-80d9-3780cddded05",
   "metadata": {},
   "outputs": [
    {
     "name": "stdin",
     "output_type": "stream",
     "text": [
      "Enter elements of Set 1 (space-separated):  1 2 3 4 5\n",
      "Enter elements of Set 2 (space-separated):  3 4 5 6 7\n"
     ]
    },
    {
     "name": "stdout",
     "output_type": "stream",
     "text": [
      "Union: {1, 2, 3, 4, 5, 6, 7}\n",
      "Intersection: {3, 4, 5}\n",
      "Difference (Set 1 - Set 2): {1, 2}\n",
      "Symmetric Difference: {1, 2, 6, 7}\n"
     ]
    }
   ],
   "source": [
    "# Accept two sets of numeric elements from user\n",
    "set1 = set(map(int, input(\"Enter elements of Set 1 (space-separated): \").split()))\n",
    "set2 = set(map(int, input(\"Enter elements of Set 2 (space-separated): \").split()))\n",
    "\n",
    "# Perform and display set operations\n",
    "print(\"Union:\", set1 | set2)\n",
    "print(\"Intersection:\", set1 & set2)\n",
    "print(\"Difference (Set 1 - Set 2):\", set1 - set2)\n",
    "print(\"Symmetric Difference:\", set1 ^ set2)\n"
   ]
  }
 ],
 "metadata": {
  "kernelspec": {
   "display_name": "Python 3 (ipykernel)",
   "language": "python",
   "name": "python3"
  },
  "language_info": {
   "codemirror_mode": {
    "name": "ipython",
    "version": 3
   },
   "file_extension": ".py",
   "mimetype": "text/x-python",
   "name": "python",
   "nbconvert_exporter": "python",
   "pygments_lexer": "ipython3",
   "version": "3.12.4"
  }
 },
 "nbformat": 4,
 "nbformat_minor": 5
}
