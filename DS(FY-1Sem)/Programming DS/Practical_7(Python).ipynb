{
 "cells": [
  {
   "cell_type": "markdown",
   "id": "3cf54e31-f451-4a8d-996c-64832fc53e63",
   "metadata": {},
   "source": [
    "1. Create a python program that asks the user to type a word and return him its reverse\n",
    "as part of label."
   ]
  },
  {
   "cell_type": "code",
   "execution_count": 6,
   "id": "167b25b4-7f8a-417b-89ef-4a5a987fdaed",
   "metadata": {},
   "outputs": [],
   "source": [
    "import tkinter as tk\n",
    "\n",
    "def reverse_word():\n",
    "    word = entry_word.get()\n",
    "    reversed_word = word[::-1]\n",
    "    label_result.config(text=\"Reversed Word: \" + reversed_word)\n",
    "\n",
    "# Create GUI window\n",
    "window = tk.Tk()\n",
    "window.title(\"Word Reverser\")\n",
    "window.geometry(\"300x150\")\n",
    "window.configure(padx=10, pady=10)\n",
    "\n",
    "# Label and Entry for word input\n",
    "tk.Label(window, text=\"Enter a word:\", font=('Arial', 12)).pack(pady=5)\n",
    "entry_word = tk.Entry(window, width=25)\n",
    "entry_word.pack(pady=5)\n",
    "\n",
    "# Button to trigger word reversal\n",
    "tk.Button(window, text=\"Reverse\", command=reverse_word, width=10).pack(pady=5)\n",
    "\n",
    "# Label for displaying the reversed word\n",
    "label_result = tk.Label(window, text=\"Reversed Word: \", font=('Arial', 12, 'bold'))\n",
    "label_result.pack(pady=10)\n",
    "\n",
    "# Run the application\n",
    "window.mainloop()\n"
   ]
  },
  {
   "cell_type": "markdown",
   "id": "bbaf3122-03bb-4759-9b12-0457c18f163a",
   "metadata": {},
   "source": [
    "2. Create a python program to display 3 checkbutton with name of 3 classes like FYBSC,\n",
    "SYBSC, and TYBSC. Display proper message when user select or unselect any of the\n",
    "checkbutton."
   ]
  },
  {
   "cell_type": "code",
   "execution_count": 13,
   "id": "4a150b0f-05d3-4d6c-bc51-3b470231eb9e",
   "metadata": {},
   "outputs": [],
   "source": [
    "import tkinter as tk\n",
    "from tkinter import messagebox\n",
    "\n",
    "def update_selection():\n",
    "    selected_classes = []\n",
    "    \n",
    "    if var_fybsc.get():\n",
    "        selected_classes.append(\"FYBSC\")\n",
    "    if var_sybsc.get():\n",
    "        selected_classes.append(\"SYBSC\")\n",
    "    if var_tybsc.get():\n",
    "        selected_classes.append(\"TYBSC\")\n",
    "    \n",
    "    if selected_classes:\n",
    "        message = \"Selected Classes: \" + \", \".join(selected_classes)\n",
    "    else:\n",
    "        message = \"No class selected.\"\n",
    "    \n",
    "    # Show the selected classes in a popup message box\n",
    "    messagebox.showinfo(\"Class Selection\", message)\n",
    "\n",
    "# Create GUI window\n",
    "window = tk.Tk()\n",
    "window.title(\"Class Selection\")\n",
    "window.geometry(\"300x200\")\n",
    "window.configure(padx=10, pady=10)\n",
    "\n",
    "# Variables for each checkbutton's state\n",
    "var_fybsc = tk.IntVar()\n",
    "var_sybsc = tk.IntVar()\n",
    "var_tybsc = tk.IntVar()\n",
    "\n",
    "# Checkbuttons for classes\n",
    "tk.Checkbutton(window, text=\"FYBSC\", variable=var_fybsc, command=update_selection).pack(anchor=\"w\")\n",
    "tk.Checkbutton(window, text=\"SYBSC\", variable=var_sybsc, command=update_selection).pack(anchor=\"w\")\n",
    "tk.Checkbutton(window, text=\"TYBSC\", variable=var_tybsc, command=update_selection).pack(anchor=\"w\")\n",
    "\n",
    "# Run the application\n",
    "window.mainloop()\n"
   ]
  },
  {
   "cell_type": "markdown",
   "id": "2d39cc73-b42b-4564-a1b8-0343b3bd5b20",
   "metadata": {},
   "source": [
    "3. Create Python program to demonstrate grid geometry by adding any 6 component in 2\n",
    "columns and 3 rows."
   ]
  },
  {
   "cell_type": "code",
   "execution_count": 19,
   "id": "c9c05d2a-344b-4b3b-bf53-24c45096a1d2",
   "metadata": {},
   "outputs": [],
   "source": [
    "import tkinter as tk\n",
    "\n",
    "# Create GUI window\n",
    "window = tk.Tk()\n",
    "window.title(\"Grid Geometry Demonstration\")\n",
    "window.geometry(\"300x150\")\n",
    "window.configure(padx=10, pady=10)\n",
    "\n",
    "# Adding components in a 2-column, 3-row grid layout\n",
    "# Row 1\n",
    "tk.Label(window, text=\"First Name:\").grid(row=0, column=0, padx=5, pady=5, sticky=\"e\")\n",
    "entry_first_name = tk.Entry(window)\n",
    "entry_first_name.grid(row=0, column=1, padx=5, pady=5)\n",
    "\n",
    "# Row 2\n",
    "tk.Label(window, text=\"Last Name:\").grid(row=1, column=0, padx=5, pady=5, sticky=\"e\")\n",
    "entry_last_name = tk.Entry(window)\n",
    "entry_last_name.grid(row=1, column=1, padx=5, pady=5)\n",
    "\n",
    "# Row 3\n",
    "tk.Label(window, text=\"Email:\").grid(row=2, column=0, padx=5, pady=5, sticky=\"e\")\n",
    "entry_email = tk.Entry(window)\n",
    "entry_email.grid(row=2, column=1, padx=5, pady=5)\n",
    "\n",
    "# Run the application\n",
    "window.mainloop()\n"
   ]
  },
  {
   "cell_type": "markdown",
   "id": "b11bef1a-0be4-475d-94b0-b5187f6aac65",
   "metadata": {},
   "source": [
    "4. Create python program to demonstrate any two GUI components by adding in parent\n",
    "window with options like bg, fg, activebackground, activeforeground, height, width,\n",
    "text, font, etc."
   ]
  },
  {
   "cell_type": "code",
   "execution_count": 23,
   "id": "b75ba151-cca6-433a-adca-4c4bcb4ae475",
   "metadata": {},
   "outputs": [],
   "source": [
    "import tkinter as tk\n",
    "\n",
    "# Create GUI window\n",
    "window = tk.Tk()\n",
    "window.title(\"GUI Components with Styling\")\n",
    "window.geometry(\"300x200\")\n",
    "window.configure(bg=\"#f0f0f0\")\n",
    "\n",
    "# Label with styling options\n",
    "label = tk.Label(window, \n",
    "                 text=\"Hello, Tkinter!\", \n",
    "                 font=(\"Arial\", 16, \"bold\"), \n",
    "                 bg=\"#4CAF50\", \n",
    "                 fg=\"white\", \n",
    "                 width=20, \n",
    "                 height=2)\n",
    "label.pack(pady=10)\n",
    "\n",
    "# Button with styling options\n",
    "button = tk.Button(window, \n",
    "                   text=\"Click Me\", \n",
    "                   font=(\"Arial\", 12), \n",
    "                   bg=\"#008CBA\", \n",
    "                   fg=\"white\", \n",
    "                   activebackground=\"#005f6a\", \n",
    "                   activeforeground=\"white\", \n",
    "                   width=15, \n",
    "                   height=2)\n",
    "button.pack(pady=10)\n",
    "\n",
    "# Run the application\n",
    "window.mainloop()\n"
   ]
  }
 ],
 "metadata": {
  "kernelspec": {
   "display_name": "Python 3 (ipykernel)",
   "language": "python",
   "name": "python3"
  },
  "language_info": {
   "codemirror_mode": {
    "name": "ipython",
    "version": 3
   },
   "file_extension": ".py",
   "mimetype": "text/x-python",
   "name": "python",
   "nbconvert_exporter": "python",
   "pygments_lexer": "ipython3",
   "version": "3.12.4"
  }
 },
 "nbformat": 4,
 "nbformat_minor": 5
}
