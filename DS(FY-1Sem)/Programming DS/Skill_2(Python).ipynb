{
 "cells": [
  {
   "cell_type": "code",
   "execution_count": 3,
   "id": "d818c71a-2c8f-4410-9090-d15e5c4b38ae",
   "metadata": {},
   "outputs": [
    {
     "name": "stdout",
     "output_type": "stream",
     "text": [
      "Addition: 10 + 5 = 15\n",
      "Subtraction: 10 - 5 = 5\n",
      "Multiplication: 10 * 5 = 50\n",
      "Division: 10 / 5 = 2.0\n"
     ]
    }
   ],
   "source": [
    "# Create a Python program to demonstrate the user defined module with 4 arithmetic function defined in it for addition, multiplication, division, and subtraction. \n",
    "#Call these functions in another program by importing the user defined module.\n",
    "\n",
    "\n",
    "import arithmatic\n",
    "# Perform operations\n",
    "num1 = 10\n",
    "num2 = 5\n",
    "\n",
    "# Call the functions from the arithmetic module\n",
    "add_result = arithmatic.add(num1, num2)\n",
    "subtract_result = arithmatic.subtract(num1, num2)\n",
    "multiply_result = arithmatic.multiply(num1, num2)\n",
    "divide_result = arithmatic.divide(num1, num2)\n",
    "\n",
    "# Display results\n",
    "print(f\"Addition: {num1} + {num2} = {add_result}\")\n",
    "print(f\"Subtraction: {num1} - {num2} = {subtract_result}\")\n",
    "print(f\"Multiplication: {num1} * {num2} = {multiply_result}\")\n",
    "print(f\"Division: {num1} / {num2} = {divide_result}\")\n",
    " "
   ]
  },
  {
   "cell_type": "code",
   "execution_count": 5,
   "id": "2ded4794-945f-41c3-b7e6-019b39328884",
   "metadata": {},
   "outputs": [
    {
     "name": "stdin",
     "output_type": "stream",
     "text": [
      "Enter the first number:  2\n",
      "Enter the second number:  3\n"
     ]
    },
    {
     "name": "stdout",
     "output_type": "stream",
     "text": [
      "After swapping: first number = 3, second number = 2\n"
     ]
    }
   ],
   "source": [
    "#Create a python program that a defined function SWAP (x, y) to swap the values of two variables without using third variable. \n",
    "#Accept the two numbers from user and pass it to functions.\n",
    "\n",
    "\n",
    "def SWAP(x, y):\n",
    "    x = x + y\n",
    "    y = x - y\n",
    "    x = x - y\n",
    "    return x, y\n",
    "x = int(input(\"Enter the first number: \"))\n",
    "y = int(input(\"Enter the second number: \"))\n",
    "x, y = SWAP(x, y)\n",
    "print(f\"After swapping: first number = {x}, second number = {y}\")\n"
   ]
  },
  {
   "cell_type": "code",
   "execution_count": 6,
   "id": "27c4a018-d681-4a81-9c20-06f63236c95b",
   "metadata": {},
   "outputs": [
    {
     "name": "stdin",
     "output_type": "stream",
     "text": [
      "Enter a number:  11\n"
     ]
    },
    {
     "name": "stdout",
     "output_type": "stream",
     "text": [
      "11 is a prime number.\n"
     ]
    }
   ],
   "source": [
    "def is_prime():\n",
    "    num = int(input(\"Enter a number: \"))\n",
    "    if num <= 1:\n",
    "        print(f\"{num} is not a prime number.\")\n",
    "    else:\n",
    "        for i in range(2, int(num ** 0.5) + 1):\n",
    "            if num % i == 0:\n",
    "                print(f\"{num} is not a prime number.\")\n",
    "                return\n",
    "        print(f\"{num} is a prime number.\")\n",
    "\n",
    "is_prime()"
   ]
  },
  {
   "cell_type": "code",
   "execution_count": 8,
   "id": "596d8522-b5f8-4dc5-a06d-e54c2ec779c3",
   "metadata": {},
   "outputs": [
    {
     "name": "stdout",
     "output_type": "stream",
     "text": [
      "Initial position: 0\n",
      "After seeking to 0: 0\n",
      "File contents: Hello, World!\n",
      "This is a sample text file.\n",
      "Position after seeking to end: 42\n"
     ]
    }
   ],
   "source": [
    "# Create a sample text file\n",
    "with open(\"example.txt\", \"w\") as file:\n",
    "    file.write(\"Hello, World!\\nThis is a sample text file.\")\n",
    "\n",
    "# Open the file in read mode\n",
    "with open(\"example.txt\", \"r\") as file:\n",
    "    print(\"Initial position:\", file.tell())\n",
    "    file.seek(0)\n",
    "    print(\"After seeking to 0:\", file.tell())\n",
    "    print(\"File contents:\", file.read())\n",
    "    file.seek(0, 2)\n",
    "    print(\"Position after seeking to end:\", file.tell())"
   ]
  },
  {
   "cell_type": "code",
   "execution_count": null,
   "id": "5973583f-22d1-4cee-b5ef-73fba914a4ca",
   "metadata": {},
   "outputs": [],
   "source": []
  }
 ],
 "metadata": {
  "kernelspec": {
   "display_name": "Python 3 (ipykernel)",
   "language": "python",
   "name": "python3"
  },
  "language_info": {
   "codemirror_mode": {
    "name": "ipython",
    "version": 3
   },
   "file_extension": ".py",
   "mimetype": "text/x-python",
   "name": "python",
   "nbconvert_exporter": "python",
   "pygments_lexer": "ipython3",
   "version": "3.12.4"
  }
 },
 "nbformat": 4,
 "nbformat_minor": 5
}
