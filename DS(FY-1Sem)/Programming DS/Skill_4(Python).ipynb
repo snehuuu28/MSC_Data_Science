{
 "cells": [
  {
   "cell_type": "markdown",
   "id": "bc7b4b72-dea3-4f4e-b090-5d5f7cd66c80",
   "metadata": {},
   "source": [
    "1. Write a Python program to extract year, month and date from an URL.\n",
    "Example:Input: url1 = \"https://www.washingtonpost.com/news/football-insider/wp/2016/09/02/odell-beckhams-fame-rests-on-one-stupid-little-ball-josh-norman-tells-author/\""
   ]
  },
  {
   "cell_type": "code",
   "execution_count": 2,
   "id": "2f0748f2-4659-4893-8e3b-72c35020e738",
   "metadata": {},
   "outputs": [
    {
     "name": "stdout",
     "output_type": "stream",
     "text": [
      "Extracted Year, Month, and Date: ('2016', '09', '02')\n"
     ]
    }
   ],
   "source": [
    "import re\n",
    "\n",
    "# Function to extract year, month, and date\n",
    "def extract_date_from_url(url):\n",
    "    pattern = r'/(\\d{4})/(\\d{2})/(\\d{2})/'\n",
    "    match = re.search(pattern, url)\n",
    "    if match:\n",
    "        return match.groups()\n",
    "    return None\n",
    "\n",
    "# Input URL\n",
    "url1 = \"https://www.washingtonpost.com/news/football-insider/wp/2016/09/02/odell-beckhams-fame-rests-on-one-stupid-little-ball-josh-norman-tells-author/\"\n",
    "result = extract_date_from_url(url1)\n",
    "\n",
    "# Output\n",
    "print(\"Extracted Year, Month, and Date:\", result)"
   ]
  },
  {
   "cell_type": "markdown",
   "id": "83f541e7-a97e-48d3-98b7-49f0b174a4b6",
   "metadata": {},
   "source": [
    "2. Write a Python program to accept a mobile number from user and check whether it is\n",
    "valid mobile number or not."
   ]
  },
  {
   "cell_type": "code",
   "execution_count": 4,
   "id": "bf04cf6e-30bf-42ce-904e-9447ca605231",
   "metadata": {},
   "outputs": [
    {
     "name": "stdin",
     "output_type": "stream",
     "text": [
      "Enter a mobile number:  7498326993\n"
     ]
    },
    {
     "name": "stdout",
     "output_type": "stream",
     "text": [
      "Valid Mobile Number\n"
     ]
    }
   ],
   "source": [
    "import re\n",
    "\n",
    "# Function to validate mobile number\n",
    "def validate_mobile_number(number):\n",
    "    pattern = r'^[6-9]\\d{9}$'\n",
    "    if re.fullmatch(pattern, number):\n",
    "        return \"Valid Mobile Number\"\n",
    "    return \"Invalid Mobile Number\"\n",
    "\n",
    "# Input from user\n",
    "mobile_number = input(\"Enter a mobile number: \")\n",
    "print(validate_mobile_number(mobile_number))"
   ]
  },
  {
   "cell_type": "markdown",
   "id": "658f4743-5b1c-4cf8-98da-ae905f26e836",
   "metadata": {},
   "source": [
    "3. Write a Python program to accept a email id from user and check whether user has\n",
    "entered valid email ID or not."
   ]
  },
  {
   "cell_type": "code",
   "execution_count": 7,
   "id": "b3294739-a737-4395-908c-ee0f791b6448",
   "metadata": {},
   "outputs": [
    {
     "name": "stdin",
     "output_type": "stream",
     "text": [
      "Enter an email ID:  snehuu03@gmail.com\n"
     ]
    },
    {
     "name": "stdout",
     "output_type": "stream",
     "text": [
      "Valid Email ID\n"
     ]
    }
   ],
   "source": [
    "import re\n",
    "\n",
    "# Function to validate email ID\n",
    "def validate_email(email):\n",
    "    pattern = r'^[a-zA-Z0-9._%+-]+@[a-zA-Z0-9.-]+\\.[a-zA-Z]{2,}$'\n",
    "    if re.fullmatch(pattern, email):\n",
    "        return \"Valid Email ID\"\n",
    "    return \"Invalid Email ID\"\n",
    "\n",
    "# Input from user\n",
    "email_id = input(\"Enter an email ID: \")\n",
    "print(validate_email(email_id))\n"
   ]
  },
  {
   "cell_type": "code",
   "execution_count": null,
   "id": "1fc2ec36-d56e-4212-bf50-de78e81060c0",
   "metadata": {},
   "outputs": [],
   "source": []
  }
 ],
 "metadata": {
  "kernelspec": {
   "display_name": "Python 3 (ipykernel)",
   "language": "python",
   "name": "python3"
  },
  "language_info": {
   "codemirror_mode": {
    "name": "ipython",
    "version": 3
   },
   "file_extension": ".py",
   "mimetype": "text/x-python",
   "name": "python",
   "nbconvert_exporter": "python",
   "pygments_lexer": "ipython3",
   "version": "3.12.4"
  }
 },
 "nbformat": 4,
 "nbformat_minor": 5
}
