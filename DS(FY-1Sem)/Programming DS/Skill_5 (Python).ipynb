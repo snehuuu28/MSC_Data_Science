{
 "cells": [
  {
   "cell_type": "code",
   "execution_count": null,
   "id": "ccb0bbfc-fefe-44b7-bc15-5307be32e492",
   "metadata": {},
   "outputs": [],
   "source": [
    "#Skill No : 5\n",
    "#Title : Based on Python Database\n",
    "#Name : Snehal Gawade\n",
    "#PRN : 2401208025"
   ]
  },
  {
   "cell_type": "markdown",
   "id": "c6e6a0ad-b08c-4736-b75e-a729fcfb1c4e",
   "metadata": {},
   "source": [
    "1. Create a Python program to create table Employee and Department as follows:\n",
    "Employee: E_ID, NAME, AGE, SALARY, D_ID\n",
    "Department: D_ID, DNAME\n",
    "Add sufficient records in both the tables. Display the records of those employees, who\n",
    "is working in Sales department and Age is between 30 and 40."
   ]
  },
  {
   "cell_type": "code",
   "execution_count": 49,
   "id": "c365a75c-10a7-48e7-a565-3ad8dee257df",
   "metadata": {},
   "outputs": [],
   "source": [
    "import mysql.connector"
   ]
  },
  {
   "cell_type": "code",
   "execution_count": 61,
   "id": "0252cd31-2ac3-42ec-aa86-659bfcddb8f3",
   "metadata": {},
   "outputs": [],
   "source": [
    "myconn = mysql.connector.connect(\n",
    "    host=\"localhost\",\n",
    "    user=\"root\",\n",
    "    passwd=\"Snehal@12345\",\n",
    "    auth_plugin=\"mysql_native_password\"\n",
    ")\n"
   ]
  },
  {
   "cell_type": "code",
   "execution_count": 63,
   "id": "a08b88b0-740a-480b-976e-4ca3ba2c0140",
   "metadata": {},
   "outputs": [],
   "source": [
    "cur = myconn.cursor()"
   ]
  },
  {
   "cell_type": "code",
   "execution_count": 65,
   "id": "76ec5021-984d-4b13-979e-4ac6ff48e943",
   "metadata": {},
   "outputs": [],
   "source": [
    "myconn = mysql.connector.connect(\n",
    "    host=\"localhost\",\n",
    "    user=\"root\",\n",
    "    passwd=\"Snehal@12345\",\n",
    "    database=\"sneh\")"
   ]
  },
  {
   "cell_type": "code",
   "execution_count": 67,
   "id": "dd2d94b6-5bd5-486e-8d43-99db7588d392",
   "metadata": {},
   "outputs": [],
   "source": [
    "cur = myconn.cursor()"
   ]
  },
  {
   "cell_type": "code",
   "execution_count": 69,
   "id": "e78abe68-813a-42fd-bd69-537a84cf17ba",
   "metadata": {},
   "outputs": [],
   "source": [
    "cur.execute(\"use sneh\")"
   ]
  },
  {
   "cell_type": "code",
   "execution_count": null,
   "id": "59d766bd-e186-4f26-a756-0813bf677ffe",
   "metadata": {},
   "outputs": [],
   "source": [
    "dbs = cur.execute(\"CREATE TABLE Department1(D_ID INTEGER PRIMARY KEY,DNAME TEXT NOT NULL)\")"
   ]
  },
  {
   "cell_type": "code",
   "execution_count": 87,
   "id": "2bf3894c-86d4-47e5-8897-e9e29233fbb5",
   "metadata": {},
   "outputs": [
    {
     "name": "stdin",
     "output_type": "stream",
     "text": [
      "Enter Department ID:  601\n",
      "Enter Department Name:  Sales\n",
      "Enter Department ID:  410\n",
      "Enter Department Name:  Sales\n"
     ]
    }
   ],
   "source": [
    "for i in range(2):\n",
    "    D_ID = int(input(\"Enter Department ID: \"))\n",
    "    DNAME = input(\"Enter Department Name: \")\n",
    "    rec = (D_ID, DNAME)\n",
    "    cur.execute(\"INSERT INTO Department1 (D_ID, DNAME) VALUES (%s,%s)\", rec)\n",
    "    myconn.commit()"
   ]
  },
  {
   "cell_type": "code",
   "execution_count": 89,
   "id": "5ace41a8-f0ef-403d-9ff0-ee2a8b09e43e",
   "metadata": {},
   "outputs": [
    {
     "name": "stdout",
     "output_type": "stream",
     "text": [
      "(101, 'DA')\n",
      "(102, 'DS')\n",
      "(201, 'CS')\n",
      "(410, 'Sales')\n",
      "(501, 'IT')\n",
      "(502, 'DE')\n",
      "(601, 'Sales')\n"
     ]
    }
   ],
   "source": [
    "cur.execute(\"select * from Department1\")\n",
    "result= cur.fetchall()\n",
    "for x in result:\n",
    "    print(x)"
   ]
  },
  {
   "cell_type": "code",
   "execution_count": 37,
   "id": "5cd429a9-0b90-4458-b374-19e86d4a0828",
   "metadata": {},
   "outputs": [],
   "source": [
    "dbs=cur.execute('''\n",
    "CREATE TABLE Emp1 (\n",
    "    E_ID INTEGER PRIMARY KEY,\n",
    "    NAME varchar(20) NOT NULL,\n",
    "    AGE INTEGER NOT NULL,\n",
    "    SALARY float NOT NULL,\n",
    "    D_ID INTEGER,\n",
    "    FOREIGN KEY (D_ID) REFERENCES Department1(D_ID)\n",
    ")\n",
    "''')"
   ]
  },
  {
   "cell_type": "code",
   "execution_count": 91,
   "id": "154aee5c-0ab5-46fb-b037-7903c99a6e70",
   "metadata": {},
   "outputs": [
    {
     "name": "stdin",
     "output_type": "stream",
     "text": [
      "Enter Employee ID:  51\n",
      "Enter Employee Name:  Rihan\n",
      "Enter Age:  32\n",
      "Enter Salary:  578749\n",
      "Enter Department ID:  601\n",
      "Enter Employee ID:  45\n",
      "Enter Employee Name:  Soya\n",
      "Enter Age:  37\n",
      "Enter Salary:  976587\n",
      "Enter Department ID:  410\n"
     ]
    }
   ],
   "source": [
    "for i in range(2):\n",
    "    e_id = int(input(\"Enter Employee ID: \"))\n",
    "    name = input(\"Enter Employee Name: \")\n",
    "    age = int(input(\"Enter Age: \"))\n",
    "    salary = float(input(\"Enter Salary: \"))\n",
    "    d_id = int(input(\"Enter Department ID: \"))\n",
    "\n",
    "    # Tuple to hold the record\n",
    "    rec = (e_id, name, age, salary, d_id)\n",
    "\n",
    "    # Insert the record into Employee1 table\n",
    "    cur.execute(\"INSERT INTO Emp1 (E_ID, NAME, AGE, SALARY, D_ID) VALUES (%s,%s,%s,%s,%s)\", rec)\n",
    "    myconn.commit()"
   ]
  },
  {
   "cell_type": "code",
   "execution_count": 93,
   "id": "fa1b8f23-5511-4ce3-b17a-0b606cd41ca6",
   "metadata": {},
   "outputs": [
    {
     "name": "stdout",
     "output_type": "stream",
     "text": [
      "('Soya', 37, 976587.0, 'Sales')\n",
      "('Rihan', 32, 578749.0, 'Sales')\n"
     ]
    }
   ],
   "source": [
    "cur.execute('''\n",
    "    SELECT e.NAME, e.AGE, e.SALARY, d.DNAME \n",
    "    FROM Emp1 e \n",
    "    JOIN Department1 d ON e.D_ID = d.D_ID \n",
    "    WHERE d.DNAME = 'Sales' AND e.AGE BETWEEN 30 AND 40\n",
    "''')\n",
    "\n",
    "result = cur.fetchall()\n",
    "\n",
    "# Loop through the result and print each record\n",
    "for r in result:\n",
    "    print(r)\n"
   ]
  },
  {
   "cell_type": "markdown",
   "id": "0cf5bf49-57bd-405d-9b18-f1eda3eb01d6",
   "metadata": {},
   "source": [
    "2. Create a Python program to accept and add student education details in MySQL\n",
    "database table and display records of those students, who have secured first class in\n",
    "graduation. Assume suitable table structure."
   ]
  },
  {
   "cell_type": "code",
   "execution_count": null,
   "id": "771d7502-cabe-46e1-9e0c-c4f80846eac4",
   "metadata": {},
   "outputs": [],
   "source": [
    "dbs= cur.execute(\"CREATE TABLE stu(s_id INT PRIMARY KEY,name VARCHAR(255) NOT NULL,age INT,course VARCHAR(255), graduation_per FLOAT)\" );"
   ]
  },
  {
   "cell_type": "code",
   "execution_count": 27,
   "id": "ff63f799-5f76-42ef-88a3-d9d29c701a96",
   "metadata": {},
   "outputs": [
    {
     "name": "stdin",
     "output_type": "stream",
     "text": [
      "Enter Student ID: 3\n",
      "Enter Student Name: Riya\n",
      "Enter Age: 25\n",
      "Enter Course: 56\n",
      "Enter Graduation percentage: 55\n",
      "Enter Student ID: 4\n",
      "Enter Student Name: Sam\n",
      "Enter Age: 43\n",
      "Enter Course: DA\n",
      "Enter Graduation percentage: 65\n"
     ]
    }
   ],
   "source": [
    "for i in range(2):\n",
    "    sid= int(input(\"Enter Student ID:\"))\n",
    "    name= input(\"Enter Student Name:\")\n",
    "    age=int(input(\"Enter Age:\"))\n",
    "    course=input(\"Enter Course:\")\n",
    "    graduation_per= int(input(\"Enter Graduation percentage:\"))\n",
    "    rec= (sid,name,age,course, graduation_per)\n",
    "    cur.execute(\"insert into stu(s_id,name,age,course, graduation_per)values(%s,%s,%s,%s,%s)\",rec)\n",
    "    myconn.commit()"
   ]
  },
  {
   "cell_type": "code",
   "execution_count": 29,
   "id": "b500cda8-6f3e-440d-ae39-430d95b9fac3",
   "metadata": {},
   "outputs": [
    {
     "name": "stdout",
     "output_type": "stream",
     "text": [
      "(1, 'Snehal', 21, 'Data Science', 90.0)\n",
      "(2, 'Tulsi', 22, 'Computer Science', 92.0)\n",
      "(3, 'Riya', 25, '56', 55.0)\n",
      "(4, 'Sam', 43, 'DA', 65.0)\n"
     ]
    }
   ],
   "source": [
    "cur.execute(\"select * from stu\")\n",
    "result= cur.fetchall()\n",
    "for r in result:\n",
    "    print(r)"
   ]
  },
  {
   "cell_type": "code",
   "execution_count": 31,
   "id": "bac02df8-dbba-4025-ad49-52d126641f81",
   "metadata": {},
   "outputs": [
    {
     "name": "stdout",
     "output_type": "stream",
     "text": [
      "\n",
      "Students who secured first class in graduation:\n",
      "(1, 'Snehal', 21, 'Data Science', 90.0)\n",
      "(2, 'Tulsi', 22, 'Computer Science', 92.0)\n",
      "(4, 'Sam', 43, 'DA', 65.0)\n"
     ]
    }
   ],
   "source": [
    "# Display students who have secured first class in graduation (60% and above)\n",
    "cur.execute(\"SELECT * FROM stu WHERE graduation_per >= 60\")\n",
    "result = cur.fetchall()\n",
    "print(\"\\nStudents who secured first class in graduation:\")\n",
    "for r in result:\n",
    "    print(r)"
   ]
  },
  {
   "cell_type": "code",
   "execution_count": null,
   "id": "2c1d8d4d-05cc-4317-9cf4-70608059c06d",
   "metadata": {},
   "outputs": [],
   "source": []
  },
  {
   "cell_type": "markdown",
   "id": "49971d1e-b0f9-46ea-bfa7-ad0e48534473",
   "metadata": {},
   "source": [
    "3. Create a Python program to accept Book Details from user. Check if it is available in\n",
    "database table Book.\n",
    "If yes then display proper message, otherwise insert details in to Book table."
   ]
  },
  {
   "cell_type": "code",
   "execution_count": 33,
   "id": "1b7d0b8b-b582-44da-8dec-f61bfe34440c",
   "metadata": {},
   "outputs": [],
   "source": [
    "dbs=cur.execute(\"\"\"\n",
    "    CREATE TABLE Book (\n",
    "        book_id INT PRIMARY KEY,\n",
    "        title VARCHAR(255),\n",
    "        author VARCHAR(255),\n",
    "        genre VARCHAR(255),\n",
    "        price FLOAT\n",
    "    )\n",
    "\"\"\")\n"
   ]
  },
  {
   "cell_type": "code",
   "execution_count": 49,
   "id": "9c5cebd8-d602-4ab9-b615-37f2d0c8ca94",
   "metadata": {},
   "outputs": [
    {
     "name": "stdin",
     "output_type": "stream",
     "text": [
      "Enter Book ID: 4\n",
      "Enter Title Name: To Kill a Mockingbird\n",
      "Enter Author: Harper Lee\n",
      "Enter Genre: Fiction\n",
      "Enter Price: 50\n",
      "Enter Book ID: 6\n",
      "Enter Title Name: Power\n",
      "Enter Author: J.J\n",
      "Enter Genre: Dystopian\n",
      "Enter Price: 86\n"
     ]
    }
   ],
   "source": [
    "for i in range(2):\n",
    "    book_id= int(input(\"Enter Book ID:\"))\n",
    "    title= input(\"Enter Title Name:\")\n",
    "    author=input(\"Enter Author:\")\n",
    "    genre=input(\"Enter Genre:\")\n",
    "    price= float(input(\"Enter Price:\"))\n",
    "    rec= (book_id,title,author,genre,price)\n",
    "    cur.execute(\"insert into Book(book_id,title,author,genre,price)values(%s,%s,%s,%s,%s)\",rec)\n",
    "    myconn.commit()"
   ]
  },
  {
   "cell_type": "code",
   "execution_count": 51,
   "id": "83bffb86-529c-462e-9d5a-2f73db87fcc6",
   "metadata": {},
   "outputs": [
    {
     "name": "stdout",
     "output_type": "stream",
     "text": [
      "(1, 'The Great Gatsby', 'F. Scott Fitzgerald', 'Fiction', 100.0)\n",
      "(2, '1984', 'George Orwell', 'Dystopian', 111.0)\n",
      "(4, 'To Kill a Mockingbird', 'Harper Lee', 'Fiction', 50.0)\n",
      "(6, 'Power', 'J.J', 'Dystopian', 86.0)\n"
     ]
    }
   ],
   "source": [
    "cur.execute(\"select * from Book\")\n",
    "result= cur.fetchall()\n",
    "for r in result:\n",
    "    print(r)"
   ]
  },
  {
   "cell_type": "code",
   "execution_count": 55,
   "id": "74d4f166-4e2e-4a90-b662-5184e84a60e7",
   "metadata": {},
   "outputs": [
    {
     "name": "stdout",
     "output_type": "stream",
     "text": [
      "Book with ID 6 already exists in the database.\n"
     ]
    }
   ],
   "source": [
    "# Check if the book already exists in the database\n",
    "cur.execute(\"SELECT * FROM Book WHERE book_id = %s\", (book_id,))\n",
    "result = cur.fetchall()\n",
    "\n",
    "if result:\n",
    "    print(f\"Book with ID {book_id} already exists in the database.\")\n",
    "else:\n",
    "# Insert the book details if not found in the database\n",
    "    rec = (book_id, title, author, genre, price)\n",
    "    cur.execute(\"INSERT INTO Book (book_id, title, author, genre, price) VALUES (%s, %s, %s, %s, %s)\", rec)\n",
    "    myconn.commit()\n",
    "    print(f\"Book '{title}' has been added to the database.\")"
   ]
  }
 ],
 "metadata": {
  "kernelspec": {
   "display_name": "Python 3 (ipykernel)",
   "language": "python",
   "name": "python3"
  },
  "language_info": {
   "codemirror_mode": {
    "name": "ipython",
    "version": 3
   },
   "file_extension": ".py",
   "mimetype": "text/x-python",
   "name": "python",
   "nbconvert_exporter": "python",
   "pygments_lexer": "ipython3",
   "version": "3.12.4"
  }
 },
 "nbformat": 4,
 "nbformat_minor": 5
}
