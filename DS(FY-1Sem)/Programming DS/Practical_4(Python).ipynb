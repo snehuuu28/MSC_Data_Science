{
 "cells": [
  {
   "cell_type": "markdown",
   "id": "d12492bc-a789-43eb-ba2f-feb95781625b",
   "metadata": {},
   "source": [
    "1. Write a Python program to find the occurrence and position of the substrings within a\n",
    "string."
   ]
  },
  {
   "cell_type": "code",
   "execution_count": 6,
   "id": "fff21b2d-a929-4765-b011-2b53294be50b",
   "metadata": {},
   "outputs": [
    {
     "name": "stdin",
     "output_type": "stream",
     "text": [
      "Enter the string:  Snehal Rajendra Gawade\n",
      "Enter the substring to find:  Raj\n"
     ]
    },
    {
     "name": "stdout",
     "output_type": "stream",
     "text": [
      "The substring 'Raj' was found at positions: [7]\n",
      "Total occurrences: 1\n"
     ]
    }
   ],
   "source": [
    "import re\n",
    "\n",
    "# Input string and substring\n",
    "text = input(\"Enter the string: \")\n",
    "substring = input(\"Enter the substring to find: \")\n",
    "\n",
    "# Find all occurrences and their positions\n",
    "matches = [m.start() for m in re.finditer(substring, text)]\n",
    "\n",
    "if matches:\n",
    "    print(f\"The substring '{substring}' was found at positions: {matches}\")\n",
    "    print(f\"Total occurrences: {len(matches)}\")\n",
    "else:\n",
    "    print(f\"The substring '{substring}' was not found.\")"
   ]
  },
  {
   "cell_type": "markdown",
   "id": "17d036fa-4870-4807-b62a-c5447da581e4",
   "metadata": {},
   "source": [
    "2. Write a Python program to replace whitespaces with an underscore and vice versa in\n",
    "given string."
   ]
  },
  {
   "cell_type": "code",
   "execution_count": 14,
   "id": "000b3893-e252-40ae-bd52-c0021313add3",
   "metadata": {},
   "outputs": [
    {
     "name": "stdin",
     "output_type": "stream",
     "text": [
      "Enter the string:  Sne_hal\n"
     ]
    },
    {
     "name": "stdout",
     "output_type": "stream",
     "text": [
      "Modified string: Sne hal\n"
     ]
    }
   ],
   "source": [
    "import re\n",
    "\n",
    "# Input string\n",
    "text = input(\"Enter the string: \")\n",
    "\n",
    "# Replace whitespaces with underscores\n",
    "text_with_underscores = re.sub(r'\\s', '_', text)\n",
    "\n",
    "# Replace underscores with whitespaces\n",
    "modified_text = re.sub(r'_', ' ', text_with_underscores)\n",
    "\n",
    "print(\"Modified string:\", modified_text)"
   ]
  },
  {
   "cell_type": "markdown",
   "id": "9da37d1f-f694-498b-98fc-41b44f224598",
   "metadata": {},
   "source": [
    "3. Write a Python program to remove leading zeros from an IP address.\n",
    "Example: Input: IP =\"216.008.094.196\" , Output: IP = \"216.8.94.196\""
   ]
  },
  {
   "cell_type": "code",
   "execution_count": 18,
   "id": "ed386767-b930-4472-ad4b-fd1b63000227",
   "metadata": {},
   "outputs": [
    {
     "name": "stdin",
     "output_type": "stream",
     "text": [
      "Enter an IP address:  216.008.094.196\n"
     ]
    },
    {
     "name": "stdout",
     "output_type": "stream",
     "text": [
      "Modified IP address: 216.8.94.196\n"
     ]
    }
   ],
   "source": [
    "import re\n",
    "\n",
    "# Input IP address\n",
    "ip_address = input(\"Enter an IP address: \")\n",
    "\n",
    "# Remove leading zeros from each octet of the IP address\n",
    "modified_ip = re.sub(r'\\b0+(\\d)', r'\\1', ip_address)\n",
    "\n",
    "print(\"Modified IP address:\", modified_ip)"
   ]
  }
 ],
 "metadata": {
  "kernelspec": {
   "display_name": "Python 3 (ipykernel)",
   "language": "python",
   "name": "python3"
  },
  "language_info": {
   "codemirror_mode": {
    "name": "ipython",
    "version": 3
   },
   "file_extension": ".py",
   "mimetype": "text/x-python",
   "name": "python",
   "nbconvert_exporter": "python",
   "pygments_lexer": "ipython3",
   "version": "3.12.4"
  }
 },
 "nbformat": 4,
 "nbformat_minor": 5
}
