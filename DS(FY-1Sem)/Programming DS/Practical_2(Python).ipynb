{
 "cells": [
  {
   "cell_type": "markdown",
   "id": "f593b14d-a846-428c-ac7e-a24b83107fcf",
   "metadata": {},
   "source": [
    "1. Create python program to call a user defined function Fibbo() to print Fibonacci series\n",
    "up to the given term."
   ]
  },
  {
   "cell_type": "code",
   "execution_count": 8,
   "id": "00ccadb6-60f5-43e7-862e-74776163d093",
   "metadata": {},
   "outputs": [
    {
     "name": "stdin",
     "output_type": "stream",
     "text": [
      "Enter the number of terms for Fibonacci series:  12\n"
     ]
    },
    {
     "name": "stdout",
     "output_type": "stream",
     "text": [
      "0 1 1 2 3 5 8 13 21 34 55 89 "
     ]
    }
   ],
   "source": [
    "def Fibbo(n):\n",
    "    a, b = 0, 1\n",
    "    for _ in range(n):\n",
    "        print(a, end=\" \")\n",
    "        a, b = b, a + b\n",
    "\n",
    "# Read number of terms\n",
    "n_terms = int(input(\"Enter the number of terms for Fibonacci series: \"))\n",
    "Fibbo(n_terms)"
   ]
  },
  {
   "cell_type": "markdown",
   "id": "adb05f28-da2d-4f45-a97b-b5bf7a776b3f",
   "metadata": {},
   "source": [
    "2. Create python program to read the content of one disk file, count the number of\n",
    "characters and digits from it and display back to user."
   ]
  },
  {
   "cell_type": "code",
   "execution_count": 10,
   "id": "a08a0861-2433-46da-8d42-12a30938cf85",
   "metadata": {},
   "outputs": [
    {
     "name": "stdin",
     "output_type": "stream",
     "text": [
      "Enter the name of the file:  Practical_1(Python)\n"
     ]
    },
    {
     "name": "stdout",
     "output_type": "stream",
     "text": [
      "File not found.\n"
     ]
    }
   ],
   "source": [
    "filename = input(\"Enter the name of the file: \")\n",
    "\n",
    "try:\n",
    "    with open(filename, 'r') as file:\n",
    "        content = file.read()\n",
    "        char_count = sum(c.isalpha() for c in content)\n",
    "        digit_count = sum(c.isdigit() for c in content)\n",
    "        \n",
    "        print(f\"Number of characters: {char_count}\")\n",
    "        print(f\"Number of digits: {digit_count}\")\n",
    "except FileNotFoundError:\n",
    "    print(\"File not found.\")"
   ]
  },
  {
   "cell_type": "markdown",
   "id": "7da73ce9-80ea-42fa-80d0-bfd5f6077655",
   "metadata": {},
   "source": [
    "3. Create python program to demonstrate the math module with any 5 functions of it.\n"
   ]
  },
  {
   "cell_type": "code",
   "execution_count": 12,
   "id": "e140f56f-ea96-45aa-ba18-c0c58070baff",
   "metadata": {},
   "outputs": [
    {
     "name": "stdout",
     "output_type": "stream",
     "text": [
      "Square Root of 16 : 4.0\n",
      "Factorial of 16 : 20922789888000\n",
      "Sine of 30 degrees: 0.49999999999999994\n",
      "Cosine of 60 degrees: 0.5000000000000001\n",
      "Pi value: 3.141592653589793\n"
     ]
    }
   ],
   "source": [
    "import math\n",
    "\n",
    "# Using 5 math functions\n",
    "num = 16\n",
    "\n",
    "print(\"Square Root of\", num, \":\", math.sqrt(num))    # sqrt\n",
    "print(\"Factorial of\", num, \":\", math.factorial(num)) # factorial\n",
    "print(\"Sine of 30 degrees:\", math.sin(math.radians(30))) # sin\n",
    "print(\"Cosine of 60 degrees:\", math.cos(math.radians(60))) # cos\n",
    "print(\"Pi value:\", math.pi) # pi"
   ]
  },
  {
   "cell_type": "markdown",
   "id": "46d05a78-88e8-4ec2-8a80-a760933f42dc",
   "metadata": {},
   "source": [
    "4. Define a function to check whether given number is prime or not. Function should\n",
    "return Boolean value True or False."
   ]
  },
  {
   "cell_type": "code",
   "execution_count": 14,
   "id": "1fad4181-603f-4d68-b3be-4a87999c32f4",
   "metadata": {},
   "outputs": [
    {
     "name": "stdin",
     "output_type": "stream",
     "text": [
      "Enter a number to check if it's prime:  11\n"
     ]
    },
    {
     "name": "stdout",
     "output_type": "stream",
     "text": [
      "True\n"
     ]
    }
   ],
   "source": [
    "def is_prime(n):\n",
    "    if n <= 1:\n",
    "        return False\n",
    "    for i in range(2, int(n ** 0.5) + 1):\n",
    "        if n % i == 0:\n",
    "            return False\n",
    "    return True\n",
    "\n",
    "# Read number from user\n",
    "num = int(input(\"Enter a number to check if it's prime: \"))\n",
    "print(is_prime(num))"
   ]
  },
  {
   "cell_type": "markdown",
   "id": "8023dcf1-0f93-42cc-9b5d-0988b06ff560",
   "metadata": {},
   "source": [
    "5. Create a python program to demonstrate the use of tell() and seek() function to handle\n",
    "file pointer / cursor in a text file."
   ]
  },
  {
   "cell_type": "code",
   "execution_count": 16,
   "id": "4eb888ef-6313-41af-89be-a66bdaca67ba",
   "metadata": {},
   "outputs": [
    {
     "name": "stdin",
     "output_type": "stream",
     "text": [
      "Enter the file name:  Practical_1(Python)\n"
     ]
    },
    {
     "name": "stdout",
     "output_type": "stream",
     "text": [
      "File not found.\n"
     ]
    }
   ],
   "source": [
    "filename = input(\"Enter the file name: \")\n",
    "\n",
    "try:\n",
    "    with open(filename, 'r') as file:\n",
    "        content = file.read(5)  # Read first 5 characters\n",
    "        print(\"First 5 characters:\", content)\n",
    "        \n",
    "        position = file.tell()  # Get the current file pointer position\n",
    "        print(\"Current file pointer position:\", position)\n",
    "        \n",
    "        file.seek(0)  # Move the pointer back to the beginning\n",
    "        content = file.read(5)  # Read first 5 characters again\n",
    "        print(\"After seek, first 5 characters:\", content)\n",
    "except FileNotFoundError:\n",
    "    print(\"File not found.\")"
   ]
  }
 ],
 "metadata": {
  "kernelspec": {
   "display_name": "Python 3 (ipykernel)",
   "language": "python",
   "name": "python3"
  },
  "language_info": {
   "codemirror_mode": {
    "name": "ipython",
    "version": 3
   },
   "file_extension": ".py",
   "mimetype": "text/x-python",
   "name": "python",
   "nbconvert_exporter": "python",
   "pygments_lexer": "ipython3",
   "version": "3.12.4"
  }
 },
 "nbformat": 4,
 "nbformat_minor": 5
}
