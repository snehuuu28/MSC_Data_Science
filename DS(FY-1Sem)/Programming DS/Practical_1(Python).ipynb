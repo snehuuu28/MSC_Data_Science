{
 "cells": [
  {
   "cell_type": "markdown",
   "id": "6043e125-f78e-41a8-9ad8-f04e4c8c193c",
   "metadata": {},
   "source": [
    "1. Create a python program to read a year from user, find whether that year is leap or\n",
    "not. (Conditions for being leap year: – It should be divisible by four.– If it’s a century year, it should be divisible by 400 also.)\n"
   ]
  },
  {
   "cell_type": "code",
   "execution_count": 4,
   "id": "62f7c60b-c75b-485f-95b4-2cb82579b2fa",
   "metadata": {},
   "outputs": [
    {
     "name": "stdin",
     "output_type": "stream",
     "text": [
      "Enter a year:  2019\n"
     ]
    },
    {
     "name": "stdout",
     "output_type": "stream",
     "text": [
      "2019 is not a Leap Year.\n"
     ]
    }
   ],
   "source": [
    "year = int(input(\"Enter a year: \"))\n",
    "\n",
    "if (year % 4 == 0 and year % 100 != 0) or (year % 400 == 0):\n",
    "    print(f\"{year} is a Leap Year.\")\n",
    "else:\n",
    "    print(f\"{year} is not a Leap Year.\")"
   ]
  },
  {
   "cell_type": "markdown",
   "id": "8ac645c2-7459-4652-9f70-4dc866a2b018",
   "metadata": {},
   "source": [
    "2. Create a python program to read a number from user, and check whether that number\n",
    "is palindrome or not. Display proper message back to user."
   ]
  },
  {
   "cell_type": "code",
   "execution_count": 7,
   "id": "4f639a01-b558-4bcd-9b90-5c043955ee54",
   "metadata": {},
   "outputs": [
    {
     "name": "stdin",
     "output_type": "stream",
     "text": [
      "Enter a number:  121\n"
     ]
    },
    {
     "name": "stdout",
     "output_type": "stream",
     "text": [
      "121 is a Palindrome.\n"
     ]
    }
   ],
   "source": [
    "num = input(\"Enter a number: \")\n",
    "\n",
    "if num == num[::-1]:\n",
    "    print(f\"{num} is a Palindrome.\")\n",
    "else:\n",
    "    print(f\"{num} is not a Palindrome.\")\n"
   ]
  },
  {
   "cell_type": "markdown",
   "id": "26d0f1c5-e8e0-4a9a-8e71-d07bd4ed9226",
   "metadata": {},
   "source": [
    "3. Create a python program to demonstrate the use of while loop in python.\n"
   ]
  },
  {
   "cell_type": "code",
   "execution_count": 10,
   "id": "bf7dfef1-db63-4c6a-8203-d17df8464a6f",
   "metadata": {},
   "outputs": [
    {
     "name": "stdout",
     "output_type": "stream",
     "text": [
      "1\n",
      "2\n",
      "3\n",
      "4\n",
      "5\n"
     ]
    }
   ],
   "source": [
    "i = 1\n",
    "while i <= 5:\n",
    "    print(i)\n",
    "    i += 1\n"
   ]
  },
  {
   "cell_type": "markdown",
   "id": "c8d02908-93a8-44da-bc86-ba01ce4c36b3",
   "metadata": {},
   "source": [
    "4. Create a python program to demonstrate the use of string functions.\n"
   ]
  },
  {
   "cell_type": "code",
   "execution_count": 13,
   "id": "a76b867e-4699-4934-87ae-c9bace178abd",
   "metadata": {},
   "outputs": [
    {
     "name": "stdin",
     "output_type": "stream",
     "text": [
      "Enter a string:  Snehal\n"
     ]
    },
    {
     "name": "stdout",
     "output_type": "stream",
     "text": [
      "Uppercase: SNEHAL\n",
      "Lowercase: snehal\n",
      "Length: 6\n",
      "Replace 'a' with 'o': Snehol\n",
      "Is alphabetic? True\n"
     ]
    }
   ],
   "source": [
    "string = input(\"Enter a string: \")\n",
    "\n",
    "print(\"Uppercase:\", string.upper())\n",
    "print(\"Lowercase:\", string.lower())\n",
    "print(\"Length:\", len(string))\n",
    "print(\"Replace 'a' with 'o':\", string.replace('a', 'o'))\n",
    "print(\"Is alphabetic?\", string.isalpha())\n"
   ]
  },
  {
   "cell_type": "markdown",
   "id": "81fd294c-a75a-439f-8d36-f28c8fe30a47",
   "metadata": {},
   "source": [
    "5. Write a program to accept ‘n’ numbers from user store in list. Separate odd and even\n",
    "integers in separate lists."
   ]
  },
  {
   "cell_type": "code",
   "execution_count": 16,
   "id": "e5c38f5a-1c30-4037-8775-a0461f8eff8b",
   "metadata": {},
   "outputs": [
    {
     "name": "stdin",
     "output_type": "stream",
     "text": [
      "How many numbers do you want to enter?  4\n",
      "Enter a number:  8\n",
      "Enter a number:  6\n",
      "Enter a number:  1\n",
      "Enter a number:  5\n"
     ]
    },
    {
     "name": "stdout",
     "output_type": "stream",
     "text": [
      "Even numbers: [8, 6]\n",
      "Odd numbers: [1, 5]\n"
     ]
    }
   ],
   "source": [
    "n = int(input(\"How many numbers do you want to enter? \"))\n",
    "\n",
    "odd_numbers = []\n",
    "even_numbers = []\n",
    "\n",
    "for _ in range(n):\n",
    "    num = int(input(\"Enter a number: \"))\n",
    "    if num % 2 == 0:\n",
    "        even_numbers.append(num)\n",
    "    else:\n",
    "        odd_numbers.append(num)\n",
    "\n",
    "print(\"Even numbers:\", even_numbers)\n",
    "print(\"Odd numbers:\", odd_numbers)\n"
   ]
  }
 ],
 "metadata": {
  "kernelspec": {
   "display_name": "Python 3 (ipykernel)",
   "language": "python",
   "name": "python3"
  },
  "language_info": {
   "codemirror_mode": {
    "name": "ipython",
    "version": 3
   },
   "file_extension": ".py",
   "mimetype": "text/x-python",
   "name": "python",
   "nbconvert_exporter": "python",
   "pygments_lexer": "ipython3",
   "version": "3.12.4"
  }
 },
 "nbformat": 4,
 "nbformat_minor": 5
}
