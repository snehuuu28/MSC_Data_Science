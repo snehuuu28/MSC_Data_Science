{
 "cells": [
  {
   "cell_type": "code",
   "execution_count": 48,
   "id": "9f457670-467b-4147-b46b-e1885e8249c3",
   "metadata": {},
   "outputs": [],
   "source": [
    "import mysql.connector"
   ]
  },
  {
   "cell_type": "code",
   "execution_count": 50,
   "id": "b9e193e3-cad7-4b9d-8f0b-1bc8c08373d8",
   "metadata": {},
   "outputs": [],
   "source": [
    "myconn = mysql.connector.connect(\n",
    "    host=\"localhost\",\n",
    "    user=\"root\",\n",
    "    passwd=\"Snehal@12345\",\n",
    "    auth_plugin=\"mysql_native_password\"\n",
    ")"
   ]
  },
  {
   "cell_type": "code",
   "execution_count": 52,
   "id": "9c3b32de-3a7e-4824-9206-ca5250a78950",
   "metadata": {},
   "outputs": [],
   "source": [
    "cur = myconn.cursor()"
   ]
  },
  {
   "cell_type": "code",
   "execution_count": 56,
   "id": "2392187a-4054-4fbc-8e7f-7b90c5af77b6",
   "metadata": {},
   "outputs": [],
   "source": [
    "cur.execute(\"create database prac\")"
   ]
  },
  {
   "cell_type": "code",
   "execution_count": 58,
   "id": "4c503d9b-eead-4cce-b8d6-fac407383d3d",
   "metadata": {},
   "outputs": [],
   "source": [
    "myconn = mysql.connector.connect(\n",
    "    host=\"localhost\",\n",
    "    user=\"root\",\n",
    "    passwd=\"Snehal@12345\",\n",
    "    database=\"prac\")"
   ]
  },
  {
   "cell_type": "code",
   "execution_count": 60,
   "id": "b5d0832f-4b82-487b-886f-45b2b0d5f2bd",
   "metadata": {},
   "outputs": [],
   "source": [
    "cur.execute(\"use prac\")"
   ]
  },
  {
   "cell_type": "markdown",
   "id": "c4828fc3-d0ec-46a3-afe6-3a3af651d0a8",
   "metadata": {},
   "source": [
    "#1. Create a Python program to accept product details from user and insert into Producttable of MySQL. Assume suitable table structure."
   ]
  },
  {
   "cell_type": "code",
   "execution_count": 62,
   "id": "44e0aa9c-7dc6-45cd-900c-9d7d387f6691",
   "metadata": {},
   "outputs": [],
   "source": [
    "dbs = cur.execute('''\n",
    "        CREATE TABLE  Product (\n",
    "            Product_ID INT PRIMARY KEY,\n",
    "            Product_Name VARCHAR(100) NOT NULL,\n",
    "            Price FLOAT NOT NULL,\n",
    "            Quantity INT NOT NULL\n",
    "        )\n",
    "    ''')"
   ]
  },
  {
   "cell_type": "code",
   "execution_count": 64,
   "id": "d1b5ff8d-9856-4a37-aabb-a057880a2793",
   "metadata": {},
   "outputs": [
    {
     "name": "stdin",
     "output_type": "stream",
     "text": [
      "Enter Product ID:  1\n",
      "Enter Product Name:  Book\n",
      "Enter Product Price:  70\n",
      "Enter Product Quantity:  3\n",
      "Enter Product ID:  2\n",
      "Enter Product Name:  Pen\n",
      "Enter Product Price:  50\n",
      "Enter Product Quantity:  100\n"
     ]
    }
   ],
   "source": [
    "for i in range(2):\n",
    "    product_id = int(input(\"Enter Product ID: \"))\n",
    "    product_name = input(\"Enter Product Name: \")\n",
    "    price = float(input(\"Enter Product Price: \"))\n",
    "    quantity = int(input(\"Enter Product Quantity: \"))\n",
    "    record = (product_id, product_name, price, quantity)\n",
    "    cur.execute(\"INSERT INTO Product (Product_ID, Product_Name, Price, Quantity) VALUES (%s, %s, %s, %s)\", record)\n",
    "    myconn.commit()"
   ]
  },
  {
   "cell_type": "code",
   "execution_count": 66,
   "id": "be794a48-203b-46a0-b9c8-bd3a77a58eae",
   "metadata": {},
   "outputs": [
    {
     "name": "stdout",
     "output_type": "stream",
     "text": [
      "\n",
      "Product Details:\n",
      "(1, 'Book', 70.0, 3)\n",
      "(2, 'Pen', 50.0, 100)\n"
     ]
    }
   ],
   "source": [
    "cur.execute(\"SELECT * FROM Product\")\n",
    "result = cur.fetchall()\n",
    "print(\"\\nProduct Details:\")\n",
    "for row in result:\n",
    "    print(row)"
   ]
  },
  {
   "cell_type": "code",
   "execution_count": null,
   "id": "cc21bc93-68d0-4039-b9e5-b160c4c90988",
   "metadata": {},
   "outputs": [],
   "source": []
  },
  {
   "cell_type": "code",
   "execution_count": null,
   "id": "d6819de8-15ad-467a-aae1-6bff7d6ceea4",
   "metadata": {},
   "outputs": [],
   "source": [
    "#2. Create a Python program to retrieve student details from Student table those are placed in TCS Company. Assume suitable table structure."
   ]
  },
  {
   "cell_type": "code",
   "execution_count": null,
   "id": "b3ce041e-fbf0-46a0-a25a-28127fb7c8aa",
   "metadata": {},
   "outputs": [],
   "source": [
    "dbs = cur.execute('''\n",
    "    CREATE TABLE IF NOT EXISTS Student (\n",
    "        Student_ID INT PRIMARY KEY,\n",
    "        Name VARCHAR(100) NOT NULL,\n",
    "        Age INT NOT NULL,\n",
    "        Branch VARCHAR(50),\n",
    "        Placement_Company VARCHAR(100)\n",
    "    )\n",
    "''')"
   ]
  },
  {
   "cell_type": "code",
   "execution_count": 77,
   "id": "aacbe83e-db51-4ca6-b5bb-8070acbcee04",
   "metadata": {},
   "outputs": [
    {
     "name": "stdin",
     "output_type": "stream",
     "text": [
      "Enter Student ID:  1\n",
      "Enter Student Name:  Snehal\n",
      "Enter Age:  21\n",
      "Enter Branch:  DS\n",
      "Enter Placement Company:  TCS\n",
      "Enter Student ID:  2\n",
      "Enter Student Name:  Siya\n",
      "Enter Age:  23\n",
      "Enter Branch:  DA\n",
      "Enter Placement Company:  Pattern\n"
     ]
    },
    {
     "name": "stdout",
     "output_type": "stream",
     "text": [
      "Data inserted successfully!\n"
     ]
    }
   ],
   "source": [
    "for i in range(2):  # Adjust the range for the number of records you want to insert\n",
    "    student_id = int(input(\"Enter Student ID: \"))\n",
    "    name = input(\"Enter Student Name: \")\n",
    "    age = int(input(\"Enter Age: \"))\n",
    "    branch = input(\"Enter Branch: \")\n",
    "    placement_company = input(\"Enter Placement Company: \")\n",
    "\n",
    "    # Tuple to hold the record\n",
    "    record = (student_id, name, age, branch, placement_company)\n",
    "\n",
    "    # Insert the record into Student table\n",
    "    cur.execute(\"INSERT INTO Student (Student_ID, Name, Age, Branch, Placement_Company) VALUES (%s, %s, %s, %s, %s)\", record)\n",
    "    myconn.commit()\n",
    "\n",
    "print(\"Data inserted successfully!\")"
   ]
  },
  {
   "cell_type": "code",
   "execution_count": 79,
   "id": "04c1d4a0-423e-4df5-9cda-663de9ca86bc",
   "metadata": {},
   "outputs": [
    {
     "name": "stdout",
     "output_type": "stream",
     "text": [
      "\n",
      "Student Table Data:\n",
      "(1, 'Snehal', 21, 'DS', 'TCS')\n",
      "(2, 'Siya', 23, 'DA', 'Pattern')\n"
     ]
    }
   ],
   "source": [
    "cur.execute(\"SELECT * FROM Student\")\n",
    "result = cur.fetchall()\n",
    "\n",
    "print(\"\\nStudent Table Data:\")\n",
    "for row in result:\n",
    "    print(row)"
   ]
  },
  {
   "cell_type": "code",
   "execution_count": 83,
   "id": "3c28a874-474d-438a-9e39-95508b192caa",
   "metadata": {},
   "outputs": [
    {
     "name": "stdout",
     "output_type": "stream",
     "text": [
      "\n",
      "Student Table Data:\n",
      "(1, 'Snehal', 21, 'DS', 'TCS')\n"
     ]
    }
   ],
   "source": [
    "cur.execute(\"SELECT * FROM Student WHERE Placement_Company = 'TCS'\")\n",
    "result = cur.fetchall()\n",
    "print(\"\\nStudent Table Data:\")\n",
    "for row in result:\n",
    "    print(row)"
   ]
  },
  {
   "cell_type": "code",
   "execution_count": 86,
   "id": "e1a57378-0e08-49ea-b065-2af1ce959bae",
   "metadata": {},
   "outputs": [],
   "source": [
    "#3. Create a Python program to display area wise product sales details for electronic products in a year. Assume suitable table structure."
   ]
  },
  {
   "cell_type": "code",
   "execution_count": 88,
   "id": "1be2f1c3-1232-458e-b4b9-4b4e7fffa6ea",
   "metadata": {},
   "outputs": [],
   "source": [
    "dbs = cur.execute('''\n",
    "        CREATE TABLE ProductSales (\n",
    "            Sale_ID INT PRIMARY KEY,\n",
    "            Product_Name VARCHAR(100) NOT NULL,\n",
    "            Category VARCHAR(50) NOT NULL,\n",
    "            Area VARCHAR(100) NOT NULL,\n",
    "            Sales_Amount FLOAT NOT NULL,\n",
    "            Sale_Date DATE NOT NULL\n",
    "        )\n",
    "    ''')"
   ]
  },
  {
   "cell_type": "code",
   "execution_count": 92,
   "id": "2c31ecfd-50c1-4841-9384-06a8a6c32b4f",
   "metadata": {},
   "outputs": [
    {
     "name": "stdin",
     "output_type": "stream",
     "text": [
      "Enter Sale ID:  3\n",
      "Enter Product Name:  Mobile\n",
      "Enter Product Category:  Electronic\n",
      "Enter Area:  Pune\n",
      "Enter Sales Amount:  50000\n",
      "Enter Sale Date (YYYY-MM-DD):  2024-07-21\n",
      "Enter Sale ID:  4\n",
      "Enter Product Name:  Laptop\n",
      "Enter Product Category:  Electronic\n",
      "Enter Area:  Nagar\n",
      "Enter Sales Amount:  100000\n",
      "Enter Sale Date (YYYY-MM-DD):  2024-12-5\n"
     ]
    },
    {
     "name": "stdout",
     "output_type": "stream",
     "text": [
      "Data inserted successfully!\n"
     ]
    }
   ],
   "source": [
    "for i in range(2):  # Adjust the range for the number of records you want to insert\n",
    "    sale_id = int(input(\"Enter Sale ID: \"))\n",
    "    product_name = input(\"Enter Product Name: \")\n",
    "    category = input(\"Enter Product Category: \")\n",
    "    area = input(\"Enter Area: \")\n",
    "    sales_amount = float(input(\"Enter Sales Amount: \"))\n",
    "    sale_date = input(\"Enter Sale Date (YYYY-MM-DD): \")\n",
    "    \n",
    "    # Tuple to hold the record\n",
    "    record = (sale_id, product_name, category, area, sales_amount, sale_date)\n",
    "\n",
    "    # Insert the record into ProductSales table\n",
    "    cur.execute(\"INSERT INTO ProductSales (Sale_ID, Product_Name, Category, Area, Sales_Amount, Sale_Date) VALUES (%s, %s, %s, %s, %s, %s)\", record)\n",
    "    myconn.commit()\n",
    "\n",
    "print(\"Data inserted successfully!\")"
   ]
  },
  {
   "cell_type": "code",
   "execution_count": 94,
   "id": "83524225-74b5-4ae7-8d25-606327d7d701",
   "metadata": {},
   "outputs": [
    {
     "name": "stdout",
     "output_type": "stream",
     "text": [
      "(1, 'Book', 'Stationary', 'Pune', 70.0, datetime.date(2024, 8, 28))\n",
      "(2, 'Pen', ' Stationary', 'Nagar', 1000.0, datetime.date(2024, 9, 23))\n",
      "(3, 'Mobile', 'Electronic', 'Pune', 50000.0, datetime.date(2024, 7, 21))\n",
      "(4, 'Laptop', 'Electronic', 'Nagar', 100000.0, datetime.date(2024, 12, 5))\n"
     ]
    }
   ],
   "source": [
    "cur.execute(\"select * from ProductSales\")\n",
    "result= cur.fetchall()\n",
    "for r in result:\n",
    "    print(r)"
   ]
  },
  {
   "cell_type": "code",
   "execution_count": 104,
   "id": "bb5646bd-0a4e-4936-a205-9cb9ddd6cac6",
   "metadata": {},
   "outputs": [
    {
     "name": "stdout",
     "output_type": "stream",
     "text": [
      "\n",
      "Area Wise Product Sales for Electronic Products in 2024\n",
      "Area                 Product Name                   Total Sales    \n",
      "-----------------------------------------------------------------\n",
      "Nagar                Laptop                         100000.0       \n",
      "Pune                 Mobile                         50000.0        \n"
     ]
    }
   ],
   "source": [
    "# Query to retrieve and display area-wise product sales details for electronic products in 2024\n",
    "cur.execute('''\n",
    "    SELECT Area, Product_Name, SUM(Sales_Amount) AS Total_Sales\n",
    "    FROM ProductSales\n",
    "    WHERE Category = 'Electronic' AND YEAR(Sale_Date) = 2024\n",
    "    GROUP BY Area, Product_Name\n",
    "    ORDER BY Area, Product_Name\n",
    "''')\n",
    "\n",
    "# Fetch all the results\n",
    "result = cur.fetchall()\n",
    "\n",
    "# Display the results in a formatted manner\n",
    "print(\"\\nArea Wise Product Sales for Electronic Products in 2024\")\n",
    "print(\"{:<20} {:<30} {:<15}\".format(\"Area\", \"Product Name\", \"Total Sales\"))\n",
    "print(\"-\" * 65)\n",
    "\n",
    "for row in result:\n",
    "    area, product_name, total_sales = row\n",
    "    print(\"{:<20} {:<30} {:<15}\".format(area, product_name, total_sales))\n"
   ]
  },
  {
   "cell_type": "code",
   "execution_count": 116,
   "id": "817d7e7c-0ee1-4d48-bb0e-2c4b4fe18179",
   "metadata": {},
   "outputs": [],
   "source": [
    "#4. Create a Python program to increase the salary of employee by 10% those who have working experience more than 20 years. Assume suitable table structure."
   ]
  },
  {
   "cell_type": "code",
   "execution_count": 118,
   "id": "df8a9fda-a1e7-4828-a232-1bd35e45fd5c",
   "metadata": {},
   "outputs": [],
   "source": [
    "dbs= cur.execute('''\n",
    "    CREATE TABLE IF NOT EXISTS Employee (\n",
    "        Employee_ID INT PRIMARY KEY,\n",
    "        Name VARCHAR(100),\n",
    "        Age INT,\n",
    "        Salary FLOAT,\n",
    "        Experience INT\n",
    "    )\n",
    "''')"
   ]
  },
  {
   "cell_type": "code",
   "execution_count": 112,
   "id": "9a4a73b5-7078-404d-862b-2ccedce2d2f0",
   "metadata": {},
   "outputs": [
    {
     "name": "stdin",
     "output_type": "stream",
     "text": [
      "Enter Employee ID:  3\n",
      "Enter Employee Name:  Snehal\n",
      "Enter Employee Age:  25\n",
      "Enter Employee Salary:  50000\n",
      "Enter Employee Experience (in years):  22\n",
      "Enter Employee ID:  4\n",
      "Enter Employee Name:  Ravi\n",
      "Enter Employee Age:  50\n",
      "Enter Employee Salary:  700000\n",
      "Enter Employee Experience (in years):  24\n"
     ]
    },
    {
     "name": "stdout",
     "output_type": "stream",
     "text": [
      "Data inserted successfully!\n"
     ]
    }
   ],
   "source": [
    "for i in range(2):  # Adjust the range for the number of records you want to insert\n",
    "    employee_id = int(input(\"Enter Employee ID: \"))\n",
    "    name = input(\"Enter Employee Name: \")\n",
    "    age = int(input(\"Enter Employee Age: \"))\n",
    "    salary = float(input(\"Enter Employee Salary: \"))\n",
    "    experience = int(input(\"Enter Employee Experience (in years): \"))\n",
    "    \n",
    "    # Tuple to hold the record\n",
    "    record = (employee_id, name, age, salary, experience)\n",
    "\n",
    "    # Insert the record into Employee table\n",
    "    cur.execute(\"INSERT INTO Employee (Employee_ID, Name, Age, Salary, Experience) VALUES (%s, %s, %s, %s, %s)\", record)\n",
    "    myconn.commit()\n",
    "\n",
    "print(\"Data inserted successfully!\")\n"
   ]
  },
  {
   "cell_type": "code",
   "execution_count": 114,
   "id": "cf08a169-2c01-450e-a2c8-1002bd170226",
   "metadata": {},
   "outputs": [
    {
     "name": "stdout",
     "output_type": "stream",
     "text": [
      "\n",
      "Updated Employee Details:\n",
      "------------------------------------------------------------\n",
      "Employee ID     Name                 Age   Salary     Experience\n",
      "------------------------------------------------------------\n",
      "1               Savi                 24    50000.0    2         \n",
      "2               Sai                  25    25.41      21        \n",
      "3               Snehal               25    55000.0    22        \n",
      "4               Ravi                 50    770000.0   24        \n",
      "\n",
      "Salary updated successfully!\n"
     ]
    }
   ],
   "source": [
    "# Increase salary by 10% for employees with more than 20 years of experience\n",
    "cur.execute('''\n",
    "    UPDATE Employee\n",
    "    SET Salary = Salary * 1.10\n",
    "    WHERE Experience > 20\n",
    "''')\n",
    "\n",
    "# Commit the changes to the database\n",
    "myconn.commit()\n",
    "\n",
    "# Display the updated details of employees\n",
    "cur.execute('SELECT * FROM Employee')\n",
    "result = cur.fetchall()\n",
    "\n",
    "print(\"\\nUpdated Employee Details:\")\n",
    "print(\"-\" * 60)\n",
    "print(\"{:<15} {:<20} {:<5} {:<10} {:<10}\".format(\"Employee ID\", \"Name\", \"Age\", \"Salary\", \"Experience\"))\n",
    "print(\"-\" * 60)\n",
    "\n",
    "# Print the employee records\n",
    "for row in result:\n",
    "    print(\"{:<15} {:<20} {:<5} {:<10} {:<10}\".format(row[0], row[1], row[2], row[3], row[4]))\n",
    "\n",
    "print(\"\\nSalary updated successfully!\")\n"
   ]
  }
 ],
 "metadata": {
  "kernelspec": {
   "display_name": "Python 3 (ipykernel)",
   "language": "python",
   "name": "python3"
  },
  "language_info": {
   "codemirror_mode": {
    "name": "ipython",
    "version": 3
   },
   "file_extension": ".py",
   "mimetype": "text/x-python",
   "name": "python",
   "nbconvert_exporter": "python",
   "pygments_lexer": "ipython3",
   "version": "3.12.4"
  }
 },
 "nbformat": 4,
 "nbformat_minor": 5
}
