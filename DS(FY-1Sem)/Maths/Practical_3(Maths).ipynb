{
 "cells": [
  {
   "cell_type": "code",
   "execution_count": 1,
   "id": "3284d58a-9948-48e9-9789-c8702d76cfe3",
   "metadata": {},
   "outputs": [],
   "source": [
    "#Q1 Check the following set of vectors are linearly dependent or independent"
   ]
  },
  {
   "cell_type": "code",
   "execution_count": 2,
   "id": "19eaa023-749b-4dbb-8886-14c48bc93abb",
   "metadata": {},
   "outputs": [
    {
     "name": "stdout",
     "output_type": "stream",
     "text": [
      "Independent\n"
     ]
    }
   ],
   "source": [
    "import numpy as np\n",
    "A=np.array([[1,0,2],[2,1,0],[3,2,1]])\n",
    "rank=np.linalg.matrix_rank(A)\n",
    "col=A.shape[-1]\n",
    "if rank==col:\n",
    "    print(\"Independent\")\n",
    "else:\n",
    "    print(\"Dependent\")"
   ]
  },
  {
   "cell_type": "code",
   "execution_count": 3,
   "id": "508f8e14-6a78-447a-a5a4-800da00d6322",
   "metadata": {},
   "outputs": [],
   "source": [
    "#Q2 Check wheather the given set of vectors forms a basis or not ,get input from users"
   ]
  },
  {
   "cell_type": "code",
   "execution_count": 13,
   "id": "2e1e6b4b-ebaf-4137-a7e9-919fa9df54e8",
   "metadata": {},
   "outputs": [
    {
     "name": "stdin",
     "output_type": "stream",
     "text": [
      "Enter the number 1\n",
      "Enter the number 4\n",
      "Enter the number 3\n",
      "Enter the number 6\n",
      "Enter the number 8\n",
      "Enter the number 2\n",
      "Enter the number 9\n",
      "Enter the number 5\n",
      "Enter the number 3\n"
     ]
    },
    {
     "name": "stdout",
     "output_type": "stream",
     "text": [
      "[1, 4, 3]\n",
      "[6, 8, 2]\n",
      "[9, 5, 3]\n",
      "[[[1 4 3]\n",
      "  [6 8 2]\n",
      "  [9 5 3]]]\n"
     ]
    }
   ],
   "source": [
    "import numpy as np\n",
    "v1=[]\n",
    "v2=[]\n",
    "v3=[]\n",
    "for i in range(1,4):\n",
    "    a=int(input(\"Enter the number\"))\n",
    "    v1.append(a)\n",
    "for i in range(1,4):\n",
    "    a=int(input(\"Enter the number\"))\n",
    "    v2.append(a)\n",
    "for i in range(1,4):\n",
    "    a=int(input(\"Enter the number\"))\n",
    "    v3.append(a)\n",
    "\n",
    "print(v1)\n",
    "print(v2)\n",
    "print(v3)\n",
    "\n",
    "A=np.array([[v1,v2,v3]])\n",
    "print(A)"
   ]
  },
  {
   "cell_type": "code",
   "execution_count": 15,
   "id": "6440a529-1ca7-47dc-869c-bff1731bb924",
   "metadata": {},
   "outputs": [
    {
     "name": "stdout",
     "output_type": "stream",
     "text": [
      "[-112.]\n",
      "[3]\n",
      "3\n",
      "Span\n",
      "\n",
      "Linearly Independent\n",
      "\n",
      "Basis\n"
     ]
    }
   ],
   "source": [
    "det=np.linalg.det(A)\n",
    "print(det)\n",
    "rank=np.linalg.matrix_rank(A)\n",
    "print(rank)\n",
    "col=A.shape[1]\n",
    "print(col)\n",
    "if(det!=0):\n",
    "    print(\"Span\\n\")\n",
    "    if(rank==col):\n",
    "        print(\"Linearly Independent\\n\")\n",
    "        print(\"Basis\")\n",
    "    else:\n",
    "        print(\"Linearly Dependent\\n\")\n",
    "else:\n",
    "        print(\"Not Basis\")\n"
   ]
  },
  {
   "cell_type": "code",
   "execution_count": 17,
   "id": "6b13116a-bcf8-4d49-80a7-bae64662e3aa",
   "metadata": {},
   "outputs": [
    {
     "name": "stdout",
     "output_type": "stream",
     "text": [
      "0.9999999999999987\n",
      "3\n",
      "3\n",
      "Span\n",
      "\n",
      "Linearly Independent\n",
      "\n",
      "Basis\n"
     ]
    }
   ],
   "source": [
    "import numpy as np\n",
    "A=np.array([[1,2,3],[0,1,4],[5,6,0]])\n",
    "det=np.linalg.det(A)\n",
    "print(det)\n",
    "rank=np.linalg.matrix_rank(A)\n",
    "print(rank)\n",
    "col=A.shape[1]\n",
    "print(col)\n",
    "if(det!=0):\n",
    "    print(\"Span\\n\")\n",
    "    if(rank==col):\n",
    "        print(\"Linearly Independent\\n\")\n",
    "        print(\"Basis\")\n",
    "else:\n",
    "        print(\"Not Basis\")"
   ]
  }
 ],
 "metadata": {
  "kernelspec": {
   "display_name": "Python 3 (ipykernel)",
   "language": "python",
   "name": "python3"
  },
  "language_info": {
   "codemirror_mode": {
    "name": "ipython",
    "version": 3
   },
   "file_extension": ".py",
   "mimetype": "text/x-python",
   "name": "python",
   "nbconvert_exporter": "python",
   "pygments_lexer": "ipython3",
   "version": "3.12.4"
  }
 },
 "nbformat": 4,
 "nbformat_minor": 5
}
