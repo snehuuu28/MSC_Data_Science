{
 "cells": [
  {
   "cell_type": "code",
   "execution_count": 1,
   "id": "7ce740e5-5a8b-4a8b-b767-be9e90860de9",
   "metadata": {},
   "outputs": [],
   "source": [
    "import numpy as np\n",
    "import matplotlib.pyplot as plt\n",
    "from sklearn.decomposition import PCA\n",
    "from sklearn.preprocessing import StandardScaler"
   ]
  },
  {
   "cell_type": "code",
   "execution_count": 2,
   "id": "ad9ab904-62b0-47dc-951a-1d19536d73ae",
   "metadata": {},
   "outputs": [],
   "source": [
    "import pandas as pd\n",
    "\n",
    "# Dataset\n",
    "df = pd.DataFrame({\n",
    "    'x': [2.5, 0.5, 2.2, 1.9, 3.1, 2.3, 2.0, 1.0, 1.5, 1.1],\n",
    "    'y': [2.4, 0.7, 2.9, 2.2, 3.0, 2.7, 1.6, 1.1, 1.6, 0.9]\n",
    "})"
   ]
  },
  {
   "cell_type": "code",
   "execution_count": 3,
   "id": "5ba1ec30-e075-4065-95ac-5cf420361b1e",
   "metadata": {},
   "outputs": [],
   "source": [
    "# Step 1: Standardize the data\n",
    "scaler = StandardScaler()\n",
    "scaled_data = scaler.fit_transform(df)"
   ]
  },
  {
   "cell_type": "code",
   "execution_count": 4,
   "id": "ee44fa56-35f7-4c18-88ae-1d1f97f8c921",
   "metadata": {},
   "outputs": [],
   "source": [
    "# Step 2: Apply PCA\n",
    "pca = PCA(n_components=2)  # Two components for 2D data\n",
    "principal_components = pca.fit_transform(scaled_data)"
   ]
  },
  {
   "cell_type": "code",
   "execution_count": 5,
   "id": "70311079-c981-4030-a9cf-7c4b22eecda5",
   "metadata": {},
   "outputs": [],
   "source": [
    "# Step 3: Variance explained by each component\n",
    "explained_variance = pca.explained_variance_ratio_"
   ]
  },
  {
   "cell_type": "code",
   "execution_count": 6,
   "id": "5661f49a-bba0-40e6-96ec-580c300aac69",
   "metadata": {},
   "outputs": [],
   "source": [
    "# Step 4: Transform data\n",
    "df_pca = pd.DataFrame(principal_components, columns=['PC1', 'PC2'])"
   ]
  },
  {
   "cell_type": "code",
   "execution_count": 7,
   "id": "12cd0283-c435-42bb-be66-df2e050690a8",
   "metadata": {
    "scrolled": true
   },
   "outputs": [
    {
     "name": "stdout",
     "output_type": "stream",
     "text": [
      "Principal Components:\n",
      "        PC1       PC2\n",
      "0 -1.086432 -0.223524\n",
      "1  2.308937  0.178081\n",
      "2 -1.241919  0.501509\n",
      "3 -0.340782  0.169919\n",
      "4 -2.184290 -0.264758\n",
      "5 -1.160739  0.230481\n",
      "6  0.092605 -0.453317\n",
      "7  1.482108  0.055667\n",
      "8  0.567226  0.021305\n",
      "9  1.563287 -0.215361\n"
     ]
    }
   ],
   "source": [
    "# Results\n",
    "print(\"Principal Components:\")\n",
    "print(df_pca)"
   ]
  },
  {
   "cell_type": "code",
   "execution_count": 8,
   "id": "cfdd3cdd-c544-4967-a488-30b39831b21a",
   "metadata": {},
   "outputs": [
    {
     "name": "stdout",
     "output_type": "stream",
     "text": [
      "\n",
      "Explained Variance Ratio:\n",
      "[0.96296464 0.03703536]\n"
     ]
    }
   ],
   "source": [
    "print(\"\\nExplained Variance Ratio:\")\n",
    "print(explained_variance)"
   ]
  },
  {
   "cell_type": "code",
   "execution_count": 9,
   "id": "c4e50691-416d-4cde-8dc4-f6ff34e02947",
   "metadata": {},
   "outputs": [
    {
     "data": {
      "text/plain": [
       "<Figure size 800x600 with 0 Axes>"
      ]
     },
     "execution_count": 9,
     "metadata": {},
     "output_type": "execute_result"
    },
    {
     "data": {
      "text/plain": [
       "<Figure size 800x600 with 0 Axes>"
      ]
     },
     "metadata": {},
     "output_type": "display_data"
    }
   ],
   "source": [
    "# Step 5: Visualize original data and principal components\n",
    "plt.figure(figsize=(8, 6))"
   ]
  },
  {
   "cell_type": "code",
   "execution_count": 25,
   "id": "4cd90256-7821-42cc-ba61-f9e502c483e2",
   "metadata": {},
   "outputs": [
    {
     "data": {
      "image/png": "[encoded data removed]",
      "text/plain": [
       "<Figure size 800x600 with 1 Axes>"
      ]
     },
     "metadata": {},
     "output_type": "display_data"
    }
   ],
   "source": [
    "# Plot principal components\n",
    "plt.figure(figsize=(8, 6))\n",
    "\n",
    "# Scatter plot of original data\n",
    "plt.scatter(df['x'], df['y'], color='blue', label='Original Data')\n",
    "\n",
    "# Define origins for the arrows (centered at the mean of the data)\n",
    "origin = np.zeros((2, 2))  # Two origins for two vectors\n",
    "\n",
    "# Plot the principal components as arrows\n",
    "plt.quiver(\n",
    "    origin[:, 0], origin[:, 1],  # x and y coordinates of origins\n",
    "    pca.components_[:, 0], pca.components_[:, 1],  # x and y components of vectors\n",
    "    color=['r', 'g'], scale=3, angles='xy', scale_units='xy', label='Principal Components'\n",
    ")\n",
    "\n",
    "# Plot settings\n",
    "plt.xlabel('x')\n",
    "plt.ylabel('y')\n",
    "plt.title('PCA on Dataset')\n",
    "plt.legend()\n",
    "plt.grid(True)\n",
    "plt.show()\n"
   ]
  },
  {
   "cell_type": "code",
   "execution_count": null,
   "id": "141e7e40-9d0d-4d69-8b23-95e5f981f938",
   "metadata": {},
   "outputs": [],
   "source": []
  }
 ],
 "metadata": {
  "kernelspec": {
   "display_name": "Python 3 (ipykernel)",
   "language": "python",
   "name": "python3"
  },
  "language_info": {
   "codemirror_mode": {
    "name": "ipython",
    "version": 3
   },
   "file_extension": ".py",
   "mimetype": "text/x-python",
   "name": "python",
   "nbconvert_exporter": "python",
   "pygments_lexer": "ipython3",
   "version": "3.12.4"
  }
 },
 "nbformat": 4,
 "nbformat_minor": 5
}
