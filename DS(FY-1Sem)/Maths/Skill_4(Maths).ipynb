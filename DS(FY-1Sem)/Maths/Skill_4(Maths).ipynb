{
 "cells": [
  {
   "cell_type": "raw",
   "id": "493c46cf-7471-46db-8de1-7688773da627",
   "metadata": {},
   "source": [
    "Skill No : 4\n",
    "Title : SVD\n",
    "Name : Snehal Gawade\n",
    "PRN : 2401208025"
   ]
  },
  {
   "cell_type": "raw",
   "id": "62867c42-3e15-4702-befa-4044606d19d8",
   "metadata": {},
   "source": [
    "We start with the original matrix A."
   ]
  },
  {
   "cell_type": "code",
   "execution_count": 1,
   "id": "6bbec26a-dbe8-4f4e-8121-b41d6bfa9af7",
   "metadata": {},
   "outputs": [],
   "source": [
    "# Step 1: Compute SVD\n",
    "import numpy as np\n",
    "\n",
    "A = np.array([[4, 11], [8, 7], [1, 8]])"
   ]
  },
  {
   "cell_type": "raw",
   "id": "5b39bbfa-8e6f-4342-b459-f68075670c34",
   "metadata": {},
   "source": [
    "We perform SVD on A to obtain U, S, and VT."
   ]
  },
  {
   "cell_type": "code",
   "execution_count": 2,
   "id": "7d5823e7-1dc0-44ec-9c50-0d025380587d",
   "metadata": {},
   "outputs": [
    {
     "name": "stdout",
     "output_type": "stream",
     "text": [
      "\n",
      " U (Left Singular Matrix):\n",
      "[[ 0.68183627 -0.29903226 -0.66759195]\n",
      " [ 0.58106096  0.7758056   0.24595493]\n",
      " [ 0.44437312 -0.55561261  0.70272837]]\n",
      "\n",
      " S (Singular Values):\n",
      "[17.02495141  5.01508021]\n",
      "\n",
      " VT (Transpose of Right Singular Matrix):\n",
      "[[ 0.45933793  0.8882616 ]\n",
      " [ 0.8882616  -0.45933793]]\n"
     ]
    }
   ],
   "source": [
    "U, S, VT = np.linalg.svd(A)\n",
    "#Step 2: Result of SVD\n",
    "print(\"\\n U (Left Singular Matrix):\")\n",
    "print(U)\n",
    "print(\"\\n S (Singular Values):\")\n",
    "print(S)\n",
    "print(\"\\n VT (Transpose of Right Singular Matrix):\")\n",
    "print(VT)"
   ]
  },
  {
   "cell_type": "raw",
   "id": "5c6c31a6-ded2-4f75-821d-eebfd3f501f7",
   "metadata": {},
   "source": [
    "We choose the number of dimensions to keep (k). In this example, we set k to 1 for dimensionality reduction."
   ]
  },
  {
   "cell_type": "code",
   "execution_count": 3,
   "id": "e832ce95-1886-4799-b5b5-630ff73311c9",
   "metadata": {},
   "outputs": [
    {
     "name": "stdout",
     "output_type": "stream",
     "text": [
      "Reduced A (2D representation):\n",
      "[[ 5.33209996 10.31114434]\n",
      " [ 4.54401632  8.78715862]\n",
      " [ 3.47508925  6.7200816 ]]\n"
     ]
    }
   ],
   "source": [
    "# Step 3: Dimensionality Reduction\n",
    "k = 1  # Number of dimensions to keep\n",
    "reduced_A = np.dot(U[:, :k], np.dot(np.diag(S[:k]), VT[:k, :]))\n",
    "print(\"Reduced A (2D representation):\")\n",
    "print(reduced_A)"
   ]
  },
  {
   "cell_type": "raw",
   "id": "af37e371-23c6-4cdc-8e05-aa5ea7d707ab",
   "metadata": {},
   "source": [
    "We create reduced matrices reduced_U, reduced_S, and reduced_VT by selecting the first k columns from U, the first k singular values and creating a diagonal matrix reduced_S, and the first k rows from VT.\n",
    "\n",
    "We reconstruct the matrix A by multiplying the reduced matrices, resulting in a lower-dimensional representation of the original matrix."
   ]
  },
  {
   "cell_type": "code",
   "execution_count": 4,
   "id": "5ab67386-d1ec-43f4-b424-9f3db8432717",
   "metadata": {},
   "outputs": [
    {
     "name": "stdout",
     "output_type": "stream",
     "text": [
      "reduced_A: [[0.68183627]\n",
      " [0.58106096]\n",
      " [0.44437312]]\n",
      "reduced_S: [[17.02495141]]\n",
      "reduced_VT: [[0.45933793 0.8882616 ]]\n",
      "Original A: [[ 4 11]\n",
      " [ 8  7]\n",
      " [ 1  8]]\n",
      "\n",
      "Reconstructed A (k = 1 ):\n",
      "[[ 5.33209996 10.31114434]\n",
      " [ 4.54401632  8.78715862]\n",
      " [ 3.47508925  6.7200816 ]]\n"
     ]
    }
   ],
   "source": [
    "# Perform dimensionality reduction and reconstruction\n",
    "reduced_U = U[:, :k]\n",
    "reduced_S = np.diag(S[:k])\n",
    "reduced_VT = VT[:k, :]\n",
    "reconstructed_A = np.dot(reduced_U, np.dot(reduced_S, reduced_VT))\n",
    "print(\"reduced_A:\",reduced_U)\n",
    "print(\"reduced_S:\",reduced_S)\n",
    "print(\"reduced_VT:\",reduced_VT)\n",
    "\n",
    "print(\"Original A:\",A)\n",
    "print(\"\\nReconstructed A (k =\", k, \"):\")\n",
    "print(reconstructed_A)\n"
   ]
  }
 ],
 "metadata": {
  "kernelspec": {
   "display_name": "Python 3 (ipykernel)",
   "language": "python",
   "name": "python3"
  },
  "language_info": {
   "codemirror_mode": {
    "name": "ipython",
    "version": 3
   },
   "file_extension": ".py",
   "mimetype": "text/x-python",
   "name": "python",
   "nbconvert_exporter": "python",
   "pygments_lexer": "ipython3",
   "version": "3.12.4"
  }
 },
 "nbformat": 4,
 "nbformat_minor": 5
}
