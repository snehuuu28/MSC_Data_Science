{
 "cells": [
  {
   "cell_type": "raw",
   "id": "f18a407b-86d6-4d80-9a90-2c6d2ba7da22",
   "metadata": {},
   "source": [
    "# Practical no. 2\n",
    "# Title:To solve system of linear equations andn check LI and LD using python \n",
    "# Date:09/08/2024\n",
    "# Name: Snehal Rajendra Gawade"
   ]
  },
  {
   "cell_type": "code",
   "execution_count": 1,
   "id": "1cc4c329-f840-44ab-8bcc-0b64b7235e0d",
   "metadata": {},
   "outputs": [],
   "source": [
    "# to check given given has unique , infinite and no solutions\n",
    "\n",
    "import numpy as np\n",
    "def classify_solutions(A,B):\n",
    "    augmented_matrix = np.hstack((A,B.reshape(-1,1)))\n",
    "    rank_A = np.linalg.matrix_rank(A)\n",
    "    rank_augmented = np.linalg.matrix_rank(augmented_matrix)\n",
    "    num_variables = A.shape[1]\n",
    "    \n",
    "    if rank_A == rank_augmented< num_variables:\n",
    "        return\"Infinite solution\"\n",
    "    elif rank_A == rank_augmented == num_variables:\n",
    "        return\"unique solution\"\n",
    "    else:\n",
    "        return\"no solution\""
   ]
  },
  {
   "cell_type": "code",
   "execution_count": 2,
   "id": "70d3d1f8-2126-4a33-9a72-84383a12a2ce",
   "metadata": {},
   "outputs": [
    {
     "name": "stdout",
     "output_type": "stream",
     "text": [
      "The system has unique solution\n",
      "the solution are [2.42857143 0.14285714]\n"
     ]
    }
   ],
   "source": [
    "#Q)1.\n",
    "# Example system of linear equations:2x+y=5,3x-2y=7\n",
    "import numpy as np\n",
    "A=np.array([[2,1],[3,-2]])\n",
    "B=np.array([5,7])\n",
    "solution=np.linalg.solve(A,B)\n",
    "solution_classification=classify_solutions(A,B)\n",
    "\n",
    "print(\"The system has\", solution_classification)\n",
    "print(\"the solution are\",solution)\n"
   ]
  },
  {
   "cell_type": "code",
   "execution_count": 3,
   "id": "25ea569f-f719-4994-978b-f433ed91a131",
   "metadata": {},
   "outputs": [
    {
     "name": "stdout",
     "output_type": "stream",
     "text": [
      "The system has unique solution\n",
      "the solution are [ 2.75806452  0.53225806 -0.20967742]\n"
     ]
    }
   ],
   "source": [
    "import numpy as np\n",
    "A=np.array([[2,1,5],[3,-2,1],[1,5,2]])\n",
    "B=np.array([5,7,5])\n",
    "solution=np.linalg.solve(A,B)\n",
    "solution_classification=classify_solutions(A,B)\n",
    "\n",
    "print(\"The system has\", solution_classification)\n",
    "print(\"the solution are\",solution)"
   ]
  },
  {
   "cell_type": "code",
   "execution_count": null,
   "id": "d05dadb0-60b3-48df-962b-f4a98670aa96",
   "metadata": {},
   "outputs": [],
   "source": []
  },
  {
   "cell_type": "code",
   "execution_count": 4,
   "id": "2c39ff86-7c09-4d26-9275-3747275fc7a6",
   "metadata": {},
   "outputs": [
    {
     "name": "stdout",
     "output_type": "stream",
     "text": [
      "The System Has unique solution\n",
      "The Solution are [ 6.61538462  0.23076923 -1.38461538]\n"
     ]
    }
   ],
   "source": [
    "import numpy as np\n",
    "A=np.array([[1,-1,1],[2,3,5],[1,5,2]])\n",
    "B=np.array([5,7,5])\n",
    "solution=np.linalg.solve(A,B)\n",
    "solution_classification=classify_solutions(A,B)\n",
    "print(\"The System Has\",solution_classification)\n",
    "print(\"The Solution are\",solution)"
   ]
  },
  {
   "cell_type": "raw",
   "id": "d7a6390a-bf3f-4e73-b7ed-44bfe24e4089",
   "metadata": {},
   "source": [
    "# Q3.\n",
    "# 4x+3Y-z=0, 3x+4Y+z=0, x-y-2z;\n",
    "# x+y+z+w=1, 2x-3Y+4z+4w=5, 6x-y+z-w=0\n"
   ]
  },
  {
   "cell_type": "code",
   "execution_count": 5,
   "id": "10824c54-b419-4723-ace0-f4e6e6c8ae87",
   "metadata": {},
   "outputs": [
    {
     "name": "stdout",
     "output_type": "stream",
     "text": [
      "The System Has unique solution\n",
      "The Solution are [ 0. -0. -0.]\n"
     ]
    }
   ],
   "source": [
    "A=np.array([[1,3,-1],[3,4,1],[1,-1,-2]])\n",
    "B=np.array([0,0,0])\n",
    "solution=np.linalg.solve(A,B)\n",
    "solution_classification=classify_solutions(A,B)\n",
    "print(\"The System Has\",solution_classification)\n",
    "print(\"The Solution are\",solution)"
   ]
  },
  {
   "cell_type": "code",
   "execution_count": 6,
   "id": "ecdb902e-a043-4f81-945b-1b0034a6e410",
   "metadata": {},
   "outputs": [
    {
     "name": "stdout",
     "output_type": "stream",
     "text": [
      "The System Has unique solution\n",
      "The Solution are [-0.921875 -0.03125   1.421875  0.53125 ]\n"
     ]
    }
   ],
   "source": [
    "import numpy as np\n",
    "A=np.array([[1,1,1,1],[2,-3,4,2],[6,2,8,-9],[1,-1,1,-1]])\n",
    "B=np.array([1,5,1,0])\n",
    "solution=np.linalg.solve(A,B)\n",
    "solution_classification=classify_solutions(A,B)\n",
    "print(\"The System Has\",solution_classification)\n",
    "print(\"The Solution are\",solution)"
   ]
  },
  {
   "cell_type": "code",
   "execution_count": null,
   "id": "8eb6a984-f761-4cba-902d-1529aef2ef67",
   "metadata": {},
   "outputs": [],
   "source": []
  }
 ],
 "metadata": {
  "kernelspec": {
   "display_name": "Python 3 (ipykernel)",
   "language": "python",
   "name": "python3"
  },
  "language_info": {
   "codemirror_mode": {
    "name": "ipython",
    "version": 3
   },
   "file_extension": ".py",
   "mimetype": "text/x-python",
   "name": "python",
   "nbconvert_exporter": "python",
   "pygments_lexer": "ipython3",
   "version": "3.12.4"
  }
 },
 "nbformat": 4,
 "nbformat_minor": 5
}
