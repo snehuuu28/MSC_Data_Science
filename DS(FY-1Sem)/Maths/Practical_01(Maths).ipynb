{
 "cells": [
  {
   "cell_type": "raw",
   "id": "b76bb63b-9731-43ce-811d-c4438064cb64",
   "metadata": {},
   "source": [
    "#Practical No:1\n",
    "Title : Matrices and System of linear Equation using Python\n",
    "Date : 01/08/2024\n",
    "Name of the Student : Snehal Gawade\n",
    "PRN : 2401208025"
   ]
  },
  {
   "cell_type": "code",
   "execution_count": 21,
   "id": "340ed3fe-b0d1-418e-8c3c-54a4b2ea2226",
   "metadata": {},
   "outputs": [],
   "source": [
    "#Define two matrix of 3*3 then find the following \n",
    "# A+B, A-B, A*B, inverse of A and B , transpose, trace, determinant, adjoint, also  find rank of A and B"
   ]
  },
  {
   "cell_type": "code",
   "execution_count": 22,
   "id": "f0b01db6-7a50-4706-b8e5-6c88d0445fa0",
   "metadata": {},
   "outputs": [
    {
     "name": "stdout",
     "output_type": "stream",
     "text": [
      "Defaulting to user installation because normal site-packages is not writeable\n",
      "Requirement already satisfied: numpy in c:\\programdata\\anaconda3\\lib\\site-packages (1.26.4)\n",
      "Note: you may need to restart the kernel to use updated packages.\n"
     ]
    },
    {
     "name": "stderr",
     "output_type": "stream",
     "text": [
      "DEPRECATION: Loading egg at c:\\programdata\\anaconda3\\lib\\site-packages\\vboxapi-1.0-py3.12.egg is deprecated. pip 25.1 will enforce this behaviour change. A possible replacement is to use pip for package installation. Discussion can be found at https://github.com/pypa/pip/issues/12330\n"
     ]
    }
   ],
   "source": [
    "pip install numpy"
   ]
  },
  {
   "cell_type": "code",
   "execution_count": 23,
   "id": "656e4426-725d-4dfb-b5bd-f0ebd5de82d6",
   "metadata": {},
   "outputs": [],
   "source": [
    "import numpy as np"
   ]
  },
  {
   "cell_type": "code",
   "execution_count": 24,
   "id": "94b8ab29-b1c0-4020-99d0-8e29cb99d5c3",
   "metadata": {},
   "outputs": [
    {
     "name": "stdout",
     "output_type": "stream",
     "text": [
      "[[1 2 3]\n",
      " [0 1 2]\n",
      " [1 0 2]]\n",
      "[[ 2  1  0]\n",
      " [ 0  1 -2]\n",
      " [ 2 -3  0]]\n",
      "[[ 3  3  3]\n",
      " [ 0  2  0]\n",
      " [ 3 -3  2]]\n",
      "[[-1  1  3]\n",
      " [ 0  0  4]\n",
      " [-1  3  2]]\n",
      "[[ 5 10 15]\n",
      " [ 0  5 10]\n",
      " [ 5  0 10]]\n",
      "[[-1  1  3]\n",
      " [ 0  0  4]\n",
      " [-1  3  2]]\n",
      "[[ 2  2  0]\n",
      " [ 0  1 -4]\n",
      " [ 2  0  0]]\n",
      "[[ 8 -6 -4]\n",
      " [ 4 -5 -2]\n",
      " [ 6 -5  0]]\n",
      "[[1 0 1]\n",
      " [2 1 0]\n",
      " [3 2 2]]\n",
      "2.9999999999999996\n",
      "[[ 0.66666667 -1.33333333  0.33333333]\n",
      " [ 0.66666667 -0.33333333 -0.66666667]\n",
      " [-0.33333333  0.66666667  0.33333333]]\n",
      "3\n",
      "4\n"
     ]
    }
   ],
   "source": [
    "A = np.array([[1,2,3],[0,1,2],[1,0,2]])\n",
    "B = np.array([[2,1,0],[0,1,-2],[2,-3,0]])\n",
    "c= 5\n",
    "print(A)\n",
    "print(B)\n",
    "print(A+B)\n",
    "print(A-B)\n",
    "print(c*A)\n",
    "print(A-B)\n",
    "print(A*B)\n",
    "print(np.dot(A,B))                    #to find the product\n",
    "print(np.transpose(A))                \n",
    "print(np.linalg.det(A))\n",
    "print(np.linalg.inv(A))\n",
    "print(np.linalg.matrix_rank(A))\n",
    "print(np.trace(A))"
   ]
  },
  {
   "cell_type": "code",
   "execution_count": 25,
   "id": "84719833-3e13-40ff-9357-ac5aeb860eef",
   "metadata": {},
   "outputs": [
    {
     "name": "stdout",
     "output_type": "stream",
     "text": [
      "[[2 3]\n",
      " [1 4]]\n",
      "[[5 6]\n",
      " [7 8]]\n",
      "[[ 7  9]\n",
      " [ 8 12]]\n",
      "[[-3 -3]\n",
      " [-6 -4]]\n",
      "[[10 15]\n",
      " [ 5 20]]\n",
      "[[-3 -3]\n",
      " [-6 -4]]\n",
      "[[10 18]\n",
      " [ 7 32]]\n",
      "[[31 36]\n",
      " [33 38]]\n",
      "[[2 1]\n",
      " [3 4]]\n",
      "5.000000000000001\n",
      "[[ 0.8 -0.6]\n",
      " [-0.2  0.4]]\n",
      "2\n",
      "6\n"
     ]
    }
   ],
   "source": [
    "A = np.array([[2,3],[1,4]])\n",
    "B = np.array([[5,6],[7,8]])\n",
    "c= 5\n",
    "print(A)\n",
    "print(B)\n",
    "print(A+B)\n",
    "print(A-B)\n",
    "print(c*A)\n",
    "print(A-B)\n",
    "print(A*B)\n",
    "print(np.dot(A,B))                    #to find the product\n",
    "print(np.transpose(A))                \n",
    "print(np.linalg.det(A))\n",
    "print(np.linalg.inv(A))\n",
    "print(np.linalg.matrix_rank(A))\n",
    "print(np.trace(A))"
   ]
  },
  {
   "cell_type": "code",
   "execution_count": 26,
   "id": "5bb372a6-6670-4605-92bc-ff5fbd1c1c5f",
   "metadata": {},
   "outputs": [],
   "source": [
    "import sympy as sp"
   ]
  },
  {
   "cell_type": "code",
   "execution_count": 27,
   "id": "5723880d-03ad-4da7-9e14-210babb1cc54",
   "metadata": {},
   "outputs": [
    {
     "data": {
      "text/latex": [
       "$\\displaystyle \\left[\\begin{matrix}4 & -3\\\\-1 & 2\\end{matrix}\\right]$"
      ],
      "text/plain": [
       "Matrix([\n",
       "[ 4, -3],\n",
       "[-1,  2]])"
      ]
     },
     "execution_count": 27,
     "metadata": {},
     "output_type": "execute_result"
    }
   ],
   "source": [
    "sp.Matrix(A).adjugate()"
   ]
  },
  {
   "cell_type": "code",
   "execution_count": 28,
   "id": "80c33de3-81de-45b3-9b99-8c3d8075b6c7",
   "metadata": {},
   "outputs": [],
   "source": [
    "import sympy as sp"
   ]
  },
  {
   "cell_type": "code",
   "execution_count": 29,
   "id": "bf42fc20-2347-4c36-96a3-182c89cdbd3c",
   "metadata": {},
   "outputs": [
    {
     "name": "stdout",
     "output_type": "stream",
     "text": [
      "-5.000000000000001\n",
      " The given vectors are Linearly Independant\n"
     ]
    }
   ],
   "source": [
    "A = np.array([[1,2],[2,-1]])\n",
    "B = np.linalg.det(A)\n",
    "print(B)\n",
    "if B!=0:\n",
    "    print(\" The given vectors are Linearly Independant\")\n",
    "else:\n",
    "    print(\" The given vectors Dependent\")"
   ]
  },
  {
   "cell_type": "code",
   "execution_count": 30,
   "id": "c6be8214-14ea-4243-92fc-a620fc60ed14",
   "metadata": {},
   "outputs": [],
   "source": [
    "import matplotlib.pyplot as plt"
   ]
  },
  {
   "cell_type": "code",
   "execution_count": 31,
   "id": "7d42df3e-e110-438d-ac59-9a9561dead24",
   "metadata": {},
   "outputs": [],
   "source": [
    "#Define the MAtrix A"
   ]
  },
  {
   "cell_type": "code",
   "execution_count": 32,
   "id": "24f56ad9-3109-4396-b44f-e2516dc920fb",
   "metadata": {},
   "outputs": [],
   "source": [
    "A = np.array([[1,2],[2,-1]])"
   ]
  },
  {
   "cell_type": "code",
   "execution_count": 33,
   "id": "a04ad8d6-d9ea-4ae9-9f6f-12402dc513f7",
   "metadata": {},
   "outputs": [],
   "source": [
    "# Origin for the vectors"
   ]
  },
  {
   "cell_type": "code",
   "execution_count": 34,
   "id": "2d00c4d3-1b93-4a23-ad69-7316ca59362a",
   "metadata": {},
   "outputs": [],
   "source": [
    "origin = np.array([[0,0],[0,0]])"
   ]
  },
  {
   "cell_type": "code",
   "execution_count": 35,
   "id": "5ec5bdc6-63b3-44fe-abb9-de437734ec97",
   "metadata": {},
   "outputs": [
    {
     "data": {
      "image/png": "[encoded data removed]",
      "text/plain": [
       "<Figure size 640x480 with 1 Axes>"
      ]
     },
     "metadata": {},
     "output_type": "display_data"
    }
   ],
   "source": [
    "#create the plot\n",
    "plt.quiver(*origin,A[0],A[1],color=['r','b'],scale=1,scale_units='xy',angles='xy')\n",
    "\n",
    "#set the limits of the plot\n",
    "plt.xlim(-1,5)\n",
    "plt.ylim(-1,5)\n",
    "\n",
    "#add grid\n",
    "plt.grid()\n",
    "\n",
    "#add Labels\n",
    "plt.xlabel('X-axis')\n",
    "plt.ylabel('Y-axis')\n",
    "plt.title('Vectors from MAtrix A')\n",
    "\n",
    "#Show Plot\n",
    "plt.show()\n"
   ]
  },
  {
   "cell_type": "code",
   "execution_count": 36,
   "id": "f9701212-e6ec-4aa7-b596-ed8d669e548e",
   "metadata": {},
   "outputs": [
    {
     "name": "stdout",
     "output_type": "stream",
     "text": [
      "\n",
      "A= [[ 1  2]\n",
      " [ 5 -1]]\n",
      "\n",
      "B= [[ 5  3]\n",
      " [ 9 -1]]\n",
      "\n",
      "A+B= [[ 6  5]\n",
      " [14 -2]]\n",
      "\n",
      "A-B= [[-4 -1]\n",
      " [-4  0]]\n",
      "\n",
      "mul= [[23  1]\n",
      " [16 16]]\n",
      "\n",
      "A*B= [[ 5  6]\n",
      " [45  1]]\n",
      "\n",
      "Tranpose_A= [[ 1  5]\n",
      " [ 2 -1]]\n",
      "\n",
      "Determindant= -11.000000000000002\n",
      "\n",
      "Inverse= [[ 0.09090909  0.18181818]\n",
      " [ 0.45454545 -0.09090909]]\n",
      "\n",
      "Trace= 0\n",
      "\n",
      "Eigen Values,Vectors= [ 3.31662479 -3.31662479] [[ 0.65348485 -0.42039403]\n",
      " [ 0.7569396   0.90734164]]\n",
      "\n",
      "Rank= 2\n",
      "\n",
      "Norm= 5.5677643628300215\n"
     ]
    },
    {
     "data": {
      "image/png": "[encoded data removed]",
      "text/plain": [
       "<Figure size 640x480 with 1 Axes>"
      ]
     },
     "metadata": {},
     "output_type": "display_data"
    }
   ],
   "source": [
    "# Declare a matrix of 2*2 print their add, sub, mul, transpose, det, inv, trace, eigenval, eigenvec, rank\n",
    "\n",
    "A = np.array([[1,2],[5,-1]])\n",
    "B = np.array([[5,3],[9,-1]])\n",
    "print(\"\\nA=\",A)\n",
    "print(\"\\nB=\",B)\n",
    "Add=A + B\n",
    "print(\"\\nA+B=\",Add)\n",
    "Sub=A - B\n",
    "print(\"\\nA-B=\",Sub)\n",
    "mul=np.dot(A,B)\n",
    "print(\"\\nmul=\",mul)\n",
    "Mul=A * B\n",
    "print(\"\\nA*B=\",Mul)\n",
    "Transpose_A=A.T\n",
    "print(\"\\nTranpose_A=\",Transpose_A)\n",
    "Det_A=np.linalg.det(A)\n",
    "print(\"\\nDetermindant=\",Det_A)\n",
    "inverse_A=np.linalg.inv(A)\n",
    "print(\"\\nInverse=\",inverse_A)\n",
    "trace_A=np.trace(A)\n",
    "print(\"\\nTrace=\",trace_A)\n",
    "eigenvalues_A,eigenvectors_A=np.linalg.eig(A)\n",
    "print(\"\\nEigen Values,Vectors=\",eigenvalues_A,eigenvectors_A)\n",
    "rank_A=np.linalg.matrix_rank(A)\n",
    "print(\"\\nRank=\",rank_A)\n",
    "norm_A=np.linalg.norm(A)\n",
    "print(\"\\nNorm=\",norm_A)\n",
    "\n",
    "origin = np.array([[0,0],[0,0]])\n",
    "plt.quiver(*origin,A[0],A[1],color=['r','b'],scale=1,scale_units='xy',angles='xy')\n",
    "\n",
    "#set the limits of the plot\n",
    "plt.xlim(-1,5)\n",
    "plt.ylim(-1,5)\n",
    "\n",
    "#add grid\n",
    "plt.grid()\n",
    "\n",
    "#add Labels\n",
    "plt.xlabel('X-axis')\n",
    "plt.ylabel('Y-axis')\n",
    "plt.title('Vectors from MAtrix A')\n",
    "\n",
    "#Show Plot\n",
    "plt.show()\n"
   ]
  },
  {
   "cell_type": "code",
   "execution_count": 37,
   "id": "ec682ee1-f303-4110-bf37-bc44e273d219",
   "metadata": {},
   "outputs": [
    {
     "name": "stdout",
     "output_type": "stream",
     "text": [
      "\n",
      "A= [[1 4 3]\n",
      " [0 5 2]\n",
      " [1 6 2]]\n",
      "\n",
      "B= [[ 2  9  0]\n",
      " [ 0  8 -2]\n",
      " [ 2  7  0]]\n",
      "\n",
      "A+B= [[ 3 13  3]\n",
      " [ 0 13  0]\n",
      " [ 3 13  2]]\n",
      "\n",
      "A-B= [[-1 -5  3]\n",
      " [ 0 -3  4]\n",
      " [-1 -1  2]]\n",
      "\n",
      "mul= [[  8  62  -8]\n",
      " [  4  54 -10]\n",
      " [  6  71 -12]]\n",
      "\n",
      "A*B= [[ 2 36  0]\n",
      " [ 0 40 -4]\n",
      " [ 2 42  0]]\n",
      "\n",
      "Tranpose_A= [[1 0 1]\n",
      " [4 5 6]\n",
      " [3 2 2]]\n",
      "\n",
      "Determindant_A= -8.999999999999998\n",
      "\n",
      "Inverse_A= [[ 0.22222222 -1.11111111  0.77777778]\n",
      " [-0.22222222  0.11111111  0.22222222]\n",
      " [ 0.55555556  0.22222222 -0.55555556]]\n",
      "\n",
      "Trace_A= 8\n",
      "\n",
      "Eigen Values_A,Eigen Vectors_A= [-0.89952191  1.32005528  7.57946663] [[ 0.63391292 -0.91498566 -0.5911151 ]\n",
      " [ 0.24831125  0.19267235 -0.49423348]\n",
      " [-0.73245883 -0.35451179 -0.63742938]]\n",
      "\n",
      "Rank_A= 3\n",
      "\n",
      "Norm_A= 9.797958971132712\n",
      "Diagonal= [1 5 2]\n"
     ]
    },
    {
     "data": {
      "image/png": "[encoded data removed]",
      "text/plain": [
       "<Figure size 640x480 with 1 Axes>"
      ]
     },
     "metadata": {},
     "output_type": "display_data"
    }
   ],
   "source": [
    "import seaborn as sns\n",
    "A = np.array([[1,4,3],[0,5,2],[1,6,2]])\n",
    "B = np.array([[2,9,0],[0,8,-2],[2,7,0]])\n",
    "print(\"\\nA=\",A)\n",
    "print(\"\\nB=\",B)\n",
    "Add=A + B\n",
    "print(\"\\nA+B=\",Add)\n",
    "Sub=A - B\n",
    "print(\"\\nA-B=\",Sub)\n",
    "mul=np.dot(A,B)\n",
    "print(\"\\nmul=\",mul)\n",
    "Mul=A * B\n",
    "print(\"\\nA*B=\",Mul)\n",
    "Transpose_A=A.T\n",
    "print(\"\\nTranpose_A=\",Transpose_A)\n",
    "Det_A=np.linalg.det(A)\n",
    "print(\"\\nDetermindant_A=\",Det_A)\n",
    "inverse_A=np.linalg.inv(A)\n",
    "print(\"\\nInverse_A=\",inverse_A)\n",
    "trace_A=np.trace(A)\n",
    "print(\"\\nTrace_A=\",trace_A)\n",
    "eigenvalues_A,eigenvectors_A=np.linalg.eig(A)\n",
    "print(\"\\nEigen Values_A,Eigen Vectors_A=\",eigenvalues_A,eigenvectors_A)\n",
    "rank_A=np.linalg.matrix_rank(A)\n",
    "print(\"\\nRank_A=\",rank_A)\n",
    "norm_A=np.linalg.norm(A)\n",
    "print(\"\\nNorm_A=\",norm_A)\n",
    "print(\"Diagonal=\",np.diag(A))\n",
    "origin=np.array([[0,0,0],[0,0,0]])\n",
    "plt.quiver(*origin,A[0],A[1],A[2],color=['red','blue'],scale=1,scale_units='xy',angles='xy')\n",
    "\n",
    "#set the limits of the plot\n",
    "plt.xlim(-1,5)\n",
    "plt.ylim(-1,5)\n",
    "\n",
    "#add grid\n",
    "plt.grid()\n",
    "\n",
    "#add Labels\n",
    "plt.xlabel('X-axis')\n",
    "plt.ylabel('Y-axis')\n",
    "plt.title('Vectors from MAtrix A')\n",
    "\n",
    "#Show Plot\n",
    "plt.show()"
   ]
  },
  {
   "cell_type": "code",
   "execution_count": 38,
   "id": "69b49496-613c-4221-ad51-989c9d1493f8",
   "metadata": {},
   "outputs": [
    {
     "name": "stdout",
     "output_type": "stream",
     "text": [
      "The vectors are linearly independent.\n"
     ]
    }
   ],
   "source": [
    "vectors=np.array([[1,2,1],[4,5,6],[7,8,9]])\n",
    "matrix_rank=np.linalg.matrix_rank(vectors)\n",
    "if matrix_rank == vectors.shape[0]:\n",
    "    print(\"The vectors are linearly independent.\")\n",
    "else:\n",
    "    print(\"The vectors are linearly dependent.\")\n"
   ]
  },
  {
   "cell_type": "code",
   "execution_count": 39,
   "id": "4ef48ae7-4209-43f7-a8c1-2e4f33b6dac2",
   "metadata": {},
   "outputs": [
    {
     "data": {
      "text/plain": [
       "'its LI'"
      ]
     },
     "execution_count": 39,
     "metadata": {},
     "output_type": "execute_result"
    }
   ],
   "source": [
    "# user define function to check linear dependancy and independancy \n",
    "def check_Linearindependance(matrix):\n",
    "    rank_A=np.linalg.matrix_rank(matrix)\n",
    "    if rank_A==A.shape[0]:\n",
    "        return (\"its LI\")\n",
    "    else:\n",
    "        return(\"its depe\")\n",
    "check_Linearindependance(A)\n",
    "check_Linearindependance(B)\n",
    "\n"
   ]
  },
  {
   "cell_type": "code",
   "execution_count": 40,
   "id": "24419a9e-8df7-458e-b596-2568d02ca29e",
   "metadata": {},
   "outputs": [
    {
     "data": {
      "text/plain": [
       "'\\nA=[1,2,3,4]\\nB=[1,5,7]\\nC=[8,12]\\nD=[20] '"
      ]
     },
     "execution_count": 40,
     "metadata": {},
     "output_type": "execute_result"
    }
   ],
   "source": [
    "\"\"\"\n",
    "A=[1,2,3,4]\n",
    "B=[1,5,7]\n",
    "C=[8,12]\n",
    "D=[20] \"\"\""
   ]
  },
  {
   "cell_type": "code",
   "execution_count": 41,
   "id": "169b156d-b1ae-4e75-a2a1-bc205d899a86",
   "metadata": {},
   "outputs": [
    {
     "name": "stdout",
     "output_type": "stream",
     "text": [
      "[3, 5, 7]\n",
      "[8, 12]\n",
      "[20]\n"
     ]
    }
   ],
   "source": [
    "A=[1,2,3,4]\n",
    "B=[]\n",
    "C=[]\n",
    "D=[]\n",
    "for i in range(len(A)-1):\n",
    "    B.append(A[i]+A[i+1])\n",
    "print(B)\n",
    "for j in range(len(B)-1):\n",
    "    C.append(B[j]+B[j+1])\n",
    "print(C)\n",
    "for k in range(len(C)-1):\n",
    "    D.append(C[k]+C[k+1])\n",
    "print(D)\n",
    "\n",
    "    "
   ]
  },
  {
   "cell_type": "code",
   "execution_count": 42,
   "id": "b3b6cc47-67ba-440c-971a-a516a41922cc",
   "metadata": {},
   "outputs": [
    {
     "name": "stdout",
     "output_type": "stream",
     "text": [
      "['Rahul', 'Dravid']\n",
      "5\n",
      "5\n"
     ]
    },
    {
     "ename": "AttributeError",
     "evalue": "'int' object has no attribute 'join'",
     "output_type": "error",
     "traceback": [
      "\u001b[1;31m---------------------------------------------------------------------------\u001b[0m",
      "\u001b[1;31mAttributeError\u001b[0m                            Traceback (most recent call last)",
      "Cell \u001b[1;32mIn[42], line 10\u001b[0m\n\u001b[0;32m      8\u001b[0m     b\u001b[38;5;241m.\u001b[39mappend(i[::\u001b[38;5;241m-\u001b[39m\u001b[38;5;241m1\u001b[39m])\n\u001b[0;32m      9\u001b[0m     \u001b[38;5;28mprint\u001b[39m(c)\n\u001b[1;32m---> 10\u001b[0m \u001b[38;5;28mprint\u001b[39m(c\u001b[38;5;241m.\u001b[39mjoin)\n",
      "\u001b[1;31mAttributeError\u001b[0m: 'int' object has no attribute 'join'"
     ]
    }
   ],
   "source": [
    "# a='Rahul Dravid     out: luhaR divarD\n",
    "\n",
    "str=\"Rahul Dravid\"\n",
    "a=str.split()\n",
    "print(a)\n",
    "b=[]\n",
    "for i in a:\n",
    "    b.append(i[::-1])\n",
    "    print(c)\n",
    "print(c.join)"
   ]
  }
 ],
 "metadata": {
  "kernelspec": {
   "display_name": "Python 3 (ipykernel)",
   "language": "python",
   "name": "python3"
  },
  "language_info": {
   "codemirror_mode": {
    "name": "ipython",
    "version": 3
   },
   "file_extension": ".py",
   "mimetype": "text/x-python",
   "name": "python",
   "nbconvert_exporter": "python",
   "pygments_lexer": "ipython3",
   "version": "3.12.4"
  }
 },
 "nbformat": 4,
 "nbformat_minor": 5
}
