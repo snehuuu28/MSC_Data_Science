{
 "cells": [
  {
   "cell_type": "code",
   "execution_count": null,
   "id": "e4f9d6f6-0811-400f-a497-01b8c7006336",
   "metadata": {},
   "outputs": [],
   "source": [
    "# Practical : 6\n",
    "# Title : Linear transformation\n",
    "# Name: Snehal Gawade\n",
    "# PRN:2401208025"
   ]
  },
  {
   "cell_type": "code",
   "execution_count": 1,
   "id": "3908f27e",
   "metadata": {
    "id": "3908f27e"
   },
   "outputs": [],
   "source": [
    "#To find the kernel, range, null space, and perform linear transformations"
   ]
  },
  {
   "cell_type": "code",
   "execution_count": 1,
   "id": "7a320b0e-c836-4dc6-96e6-be4b87eb4c98",
   "metadata": {},
   "outputs": [
    {
     "name": "stdout",
     "output_type": "stream",
     "text": [
      "Original Matrix:\n",
      "[[1 2 3]\n",
      " [4 5 6]\n",
      " [7 8 9]]\n",
      "\n",
      "Null Space (Kernel):\n",
      "[[-0.40824829  0.81649658 -0.40824829]]\n",
      "\n",
      "Range (Column Space) Dimension:\n",
      "2\n",
      "\n",
      "Linear Transformation:\n",
      "Original Vector: [1 2 3]\n",
      "Transformed Vector: [14 32 50]\n"
     ]
    }
   ],
   "source": [
    "import numpy as np\n",
    "from sympy import Matrix\n",
    "\n",
    "# Define a matrix for the linear transformation\n",
    "A = np.array([[1, 2, 3],\n",
    "              [4, 5, 6],\n",
    "              [7, 8, 9]])\n",
    "\n",
    "# Convert the matrix to a symbolic matrix for symbolic computations\n",
    "A_symbolic = Matrix(A)\n",
    "\n",
    "# Find the kernel (null space) using SVD\n",
    "_, s, vh = np.linalg.svd(A)\n",
    "tolerance = 1e-10  # Threshold for considering singular values as zero\n",
    "null_space = vh[np.abs(s) < tolerance]\n",
    "\n",
    "# Find the range (column space) dimension using NumPy\n",
    "range_dimension = np.linalg.matrix_rank(A)\n",
    "\n",
    "# Perform a linear transformation on a vector using NumPy\n",
    "vector_to_transform = np.array([1, 2, 3])\n",
    "transformed_vector = np.dot(A, vector_to_transform)\n",
    "\n",
    "# Print the results\n",
    "print(\"Original Matrix:\")\n",
    "print(A)\n",
    "\n",
    "print(\"\\nNull Space (Kernel):\")\n",
    "if null_space.size == 0:\n",
    "    print(\"No null space (kernel is trivial).\")\n",
    "else:\n",
    "    print(null_space)\n",
    "\n",
    "print(\"\\nRange (Column Space) Dimension:\")\n",
    "print(range_dimension)\n",
    "\n",
    "print(\"\\nLinear Transformation:\")\n",
    "print(\"Original Vector:\", vector_to_transform)\n",
    "print(\"Transformed Vector:\", transformed_vector)\n"
   ]
  },
  {
   "cell_type": "code",
   "execution_count": 3,
   "id": "b252db23",
   "metadata": {
    "id": "b252db23",
    "outputId": "9bfa8a42-cecd-4d78-955c-bb4658b30901"
   },
   "outputs": [
    {
     "name": "stdout",
     "output_type": "stream",
     "text": [
      "Vector to Project:\n",
      "[1 2 3]\n",
      "\n",
      "Orthogonal Projection:\n",
      "[ 2. -1.  3.]\n"
     ]
    }
   ],
   "source": [
    "# Find orthogonal projection\n",
    "import numpy as np\n",
    "\n",
    "def orthogonal_projection(vector, subspace_vectors):\n",
    "    subspace_matrix = np.array(subspace_vectors).T\n",
    "    projection_matrix = np.dot(subspace_matrix, np.linalg.inv(np.dot(subspace_matrix.T, subspace_matrix)))\n",
    "    projection = np.dot(projection_matrix, vector)\n",
    "    return projection\n",
    "\n",
    "# Example: Find the orthogonal projection of [1, 2, 3] onto the subspace spanned by v1, v2, v3\n",
    "v1 = np.array([1, 1, 0])\n",
    "v2 = np.array([0, 1, 1])\n",
    "v3 = np.array([0, 0, 1])\n",
    "\n",
    "vector_to_project = np.array([1, 2, 3])\n",
    "projection_result = orthogonal_projection(vector_to_project, [v1, v2, v3])\n",
    "\n",
    "print(\"Vector to Project:\")\n",
    "print(vector_to_project)\n",
    "\n",
    "print(\"\\nOrthogonal Projection:\")\n",
    "print(projection_result)\n"
   ]
  }
 ],
 "metadata": {
  "colab": {
   "provenance": []
  },
  "kernelspec": {
   "display_name": "Python 3 (ipykernel)",
   "language": "python",
   "name": "python3"
  },
  "language_info": {
   "codemirror_mode": {
    "name": "ipython",
    "version": 3
   },
   "file_extension": ".py",
   "mimetype": "text/x-python",
   "name": "python",
   "nbconvert_exporter": "python",
   "pygments_lexer": "ipython3",
   "version": "3.12.4"
  }
 },
 "nbformat": 4,
 "nbformat_minor": 5
}
