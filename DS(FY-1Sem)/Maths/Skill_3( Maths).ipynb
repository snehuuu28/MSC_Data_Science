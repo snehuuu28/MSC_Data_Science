{
 "cells": [
  {
   "cell_type": "raw",
   "id": "cc89dff3-58a6-4bfb-a812-92110f6393cc",
   "metadata": {},
   "source": [
    "Skill No : 3\n",
    "Title : Confusion Matrics\n",
    "Name : Snehal Rajendra Gawade\n",
    "PRN : 2401208025\n"
   ]
  },
  {
   "cell_type": "code",
   "execution_count": 1,
   "id": "a71bf47e-9a39-44b6-a3da-fc429dfee7d5",
   "metadata": {},
   "outputs": [],
   "source": [
    "#Confusion matrics and performance measurement metrics"
   ]
  },
  {
   "cell_type": "code",
   "execution_count": 2,
   "id": "728feb19-b0c6-40a8-b21f-dcb07da6f059",
   "metadata": {},
   "outputs": [],
   "source": [
    "from sklearn.metrics import confusion_matrix,accuracy_score,recall_score,f1_score,precision_score"
   ]
  },
  {
   "cell_type": "code",
   "execution_count": 3,
   "id": "a7fe19c5-d498-4579-b6d5-7b8c1a42a751",
   "metadata": {},
   "outputs": [],
   "source": [
    "from sklearn.metrics import classification_report"
   ]
  },
  {
   "cell_type": "code",
   "execution_count": 4,
   "id": "cd598ca2-1dbc-49d1-bdc5-89f176a19c59",
   "metadata": {},
   "outputs": [
    {
     "data": {
      "text/plain": [
       "array([[3, 2],\n",
       "       [1, 6]], dtype=int64)"
      ]
     },
     "execution_count": 4,
     "metadata": {},
     "output_type": "execute_result"
    }
   ],
   "source": [
    "expected=[1,1,1,1,1,1,1,1,0,0,0,0]\n",
    "predicted=[0,0,1,1,1,1,1,1,0,0,0,1]\n",
    "results=confusion_matrix(predicted,expected)\n",
    "results"
   ]
  },
  {
   "cell_type": "code",
   "execution_count": 5,
   "id": "6c4981c9-ee49-4c51-8bed-7cd055ce37d3",
   "metadata": {},
   "outputs": [
    {
     "data": {
      "text/plain": [
       "0.75"
      ]
     },
     "execution_count": 5,
     "metadata": {},
     "output_type": "execute_result"
    }
   ],
   "source": [
    "accuracy_score(predicted,expected)"
   ]
  },
  {
   "cell_type": "code",
   "execution_count": 6,
   "id": "f0eab0c1-82d5-4b69-94e4-3caa71eb5ca7",
   "metadata": {},
   "outputs": [
    {
     "data": {
      "text/plain": [
       "0.8"
      ]
     },
     "execution_count": 6,
     "metadata": {},
     "output_type": "execute_result"
    }
   ],
   "source": [
    "f1_score(predicted,expected)"
   ]
  },
  {
   "cell_type": "code",
   "execution_count": 7,
   "id": "e8f55244-7bbd-4821-9c13-d73656b9f1f6",
   "metadata": {},
   "outputs": [
    {
     "name": "stdout",
     "output_type": "stream",
     "text": [
      "              precision    recall  f1-score   support\n",
      "\n",
      "           0       0.75      0.60      0.67         5\n",
      "           1       0.75      0.86      0.80         7\n",
      "\n",
      "    accuracy                           0.75        12\n",
      "   macro avg       0.75      0.73      0.73        12\n",
      "weighted avg       0.75      0.75      0.74        12\n",
      "\n"
     ]
    }
   ],
   "source": [
    "print(classification_report(predicted,expected))"
   ]
  }
 ],
 "metadata": {
  "kernelspec": {
   "display_name": "Python 3 (ipykernel)",
   "language": "python",
   "name": "python3"
  },
  "language_info": {
   "codemirror_mode": {
    "name": "ipython",
    "version": 3
   },
   "file_extension": ".py",
   "mimetype": "text/x-python",
   "name": "python",
   "nbconvert_exporter": "python",
   "pygments_lexer": "ipython3",
   "version": "3.12.4"
  }
 },
 "nbformat": 4,
 "nbformat_minor": 5
}
