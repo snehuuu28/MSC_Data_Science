{
 "cells": [
  {
   "cell_type": "raw",
   "id": "a2c18b50-fdc6-43ca-9a92-484ef41d198a",
   "metadata": {},
   "source": [
    "# Practical No = 4\n",
    "# Title: Eigen Value , Eigen Vector and Diagonalizable by using Python"
   ]
  },
  {
   "cell_type": "code",
   "execution_count": 1,
   "id": "1eac49ef-6b78-4af7-87e3-7b1f1df75fa4",
   "metadata": {},
   "outputs": [],
   "source": [
    "import numpy as np"
   ]
  },
  {
   "cell_type": "markdown",
   "id": "c200c2d1-e59e-4265-bdb9-5355bcef09eb",
   "metadata": {},
   "source": [
    "* Q1. Find the Eigen Value & EigenVector of the Folloing Matrix"
   ]
  },
  {
   "cell_type": "code",
   "execution_count": 5,
   "id": "4c01a040-5e01-4d79-9ee7-dcb86b74bde9",
   "metadata": {},
   "outputs": [
    {
     "name": "stdout",
     "output_type": "stream",
     "text": [
      "EighResult(eigenvalues=array([-4.79071104,  4.02386408,  8.76684696]), eigenvectors=array([[-0.49358016, -0.5555655 , -0.669123  ],\n",
      "       [-0.62649221, -0.30651401,  0.71662868],\n",
      "       [ 0.60322975, -0.77291405,  0.19676823]]))\n",
      "Eigenvalues: [1.5+2.78388218j 1.5-2.78388218j 5. +0.j        ]\n",
      "Eigenvector: [[ 4.77889504e-01+0.20467509j  4.77889504e-01-0.20467509j\n",
      "   9.99257961e-17+0.j        ]\n",
      " [-1.47042924e-01+0.40935018j -1.47042924e-01-0.40935018j\n",
      "   7.07106781e-01+0.j        ]\n",
      " [ 7.35214622e-01+0.j          7.35214622e-01-0.j\n",
      "   7.07106781e-01+0.j        ]]\n"
     ]
    }
   ],
   "source": [
    "A=np.array([[4,2,-2],[-5,3,2],[2,4,1]])\n",
    "print(np.linalg.eigh(A))\n",
    "eigenvalues,eigenvectors = np.linalg.eig(A)\n",
    "print(\"Eigenvalues:\",eigenvalues)\n",
    "print(\"Eigenvector:\",eigenvectors)"
   ]
  },
  {
   "cell_type": "code",
   "execution_count": 3,
   "id": "089fe8dc-e9f6-4215-8a5e-40bea78c1021",
   "metadata": {},
   "outputs": [
    {
     "name": "stdout",
     "output_type": "stream",
     "text": [
      "Diagonalized Matrix A:\n",
      " [[ 1.61168440e+01 -1.59005022e-15  6.34993565e-16]\n",
      " [ 5.35184690e-16 -1.11684397e+00  2.31510743e-16]\n",
      " [ 3.45615948e-15 -5.08144199e-16 -1.81298661e-16]]\n"
     ]
    }
   ],
   "source": [
    "import numpy as np\n",
    "\n",
    "A = np.array([[1, 2, 3], [4, 5, 6], [7, 8, 9]])\n",
    "eigenvalues, eigenvectors = np.linalg.eig(A)\n",
    "\n",
    "# Creating a diagonal matrix using eigenvalues\n",
    "D = np.diag(eigenvalues)\n",
    "\n",
    "# Finding the inverse of the eigenvector matrix\n",
    "P = np.linalg.inv(eigenvectors)\n",
    "\n",
    "# Diagonalizing matrix A\n",
    "diagonalized_A = np.dot(np.dot(P, A), eigenvectors)\n",
    "\n",
    "print(\"Diagonalized Matrix A:\\n\", diagonalized_A)\n"
   ]
  },
  {
   "cell_type": "markdown",
   "id": "2184647d-0390-4c15-b925-a32dcf0bebe6",
   "metadata": {},
   "source": [
    "* Q3. Write code for Matrix is Diagonalized or not"
   ]
  },
  {
   "cell_type": "code",
   "execution_count": 4,
   "id": "1cf090ca-3b12-4252-90ec-0dab4940df4d",
   "metadata": {},
   "outputs": [
    {
     "name": "stdout",
     "output_type": "stream",
     "text": [
      "EighResult(eigenvalues=array([2., 2., 8.]), eigenvectors=array([[ 0.57735027,  0.        , -0.81649658],\n",
      "       [ 0.57735027,  0.70710678,  0.40824829],\n",
      "       [-0.57735027,  0.70710678, -0.40824829]]))\n",
      "\n",
      "Matrix is Diagonalize\n"
     ]
    }
   ],
   "source": [
    "A=np.array([[6,-2,2],[-2,3,-1],[2,-1,3]])\n",
    "print(np.linalg.eigh(A))\n",
    "eigenvalues,eigenvectors = np.linalg.eig(A)\n",
    "if len(eigenvalues)==len(np.unique(eigenvalues)):\n",
    "    print(\"\\nMatrix is Diagonalize\")\n",
    "else:\n",
    "     print(\"\\nMatrix is Not Diagonalize\")\n"
   ]
  }
 ],
 "metadata": {
  "kernelspec": {
   "display_name": "Python 3 (ipykernel)",
   "language": "python",
   "name": "python3"
  },
  "language_info": {
   "codemirror_mode": {
    "name": "ipython",
    "version": 3
   },
   "file_extension": ".py",
   "mimetype": "text/x-python",
   "name": "python",
   "nbconvert_exporter": "python",
   "pygments_lexer": "ipython3",
   "version": "3.12.4"
  }
 },
 "nbformat": 4,
 "nbformat_minor": 5
}
