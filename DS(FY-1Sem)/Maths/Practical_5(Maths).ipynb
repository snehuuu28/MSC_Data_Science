{
 "cells": [
  {
   "cell_type": "markdown",
   "id": "4ae09e54-fc76-4942-bebd-858d306699ed",
   "metadata": {},
   "source": [
    "# Practical 5: Principal Component Analysis (PCA)\n",
    "# Name: Snehal Rajendra Gawade\n"
   ]
  },
  {
   "cell_type": "code",
   "execution_count": 17,
   "id": "86ddba93-bda9-49a4-9aa3-c7ce4446ca63",
   "metadata": {},
   "outputs": [],
   "source": [
    "import pandas as pd\n",
    "import numpy as np\n",
    "import matplotlib.pyplot as plt\n",
    "import math\n",
    "import statistics"
   ]
  },
  {
   "cell_type": "code",
   "execution_count": 23,
   "id": "339d40ed-3091-4839-8e6d-69c2e0e3785b",
   "metadata": {},
   "outputs": [],
   "source": [
    "df = pd.DataFrame({'x':[2.5,0.5,2.2,1.9,3.1,2.3,2.0,1.0,1.5,1.1],'y':[2.4,0.7,2.9,2.2,3.0,2.7,1.6,1.1,1.6,0.9]})"
   ]
  },
  {
   "cell_type": "code",
   "execution_count": 25,
   "id": "286ce743-b91f-4463-9b6c-c6e213bd3120",
   "metadata": {},
   "outputs": [
    {
     "data": {
      "text/html": [
       "<div>\n",
       "<style scoped>\n",
       "    .dataframe tbody tr th:only-of-type {\n",
       "        vertical-align: middle;\n",
       "    }\n",
       "\n",
       "    .dataframe tbody tr th {\n",
       "        vertical-align: top;\n",
       "    }\n",
       "\n",
       "    .dataframe thead th {\n",
       "        text-align: right;\n",
       "    }\n",
       "</style>\n",
       "<table border=\"1\" class=\"dataframe\">\n",
       "  <thead>\n",
       "    <tr style=\"text-align: right;\">\n",
       "      <th></th>\n",
       "      <th>x</th>\n",
       "      <th>y</th>\n",
       "    </tr>\n",
       "  </thead>\n",
       "  <tbody>\n",
       "    <tr>\n",
       "      <th>0</th>\n",
       "      <td>2.5</td>\n",
       "      <td>2.4</td>\n",
       "    </tr>\n",
       "    <tr>\n",
       "      <th>1</th>\n",
       "      <td>0.5</td>\n",
       "      <td>0.7</td>\n",
       "    </tr>\n",
       "    <tr>\n",
       "      <th>2</th>\n",
       "      <td>2.2</td>\n",
       "      <td>2.9</td>\n",
       "    </tr>\n",
       "    <tr>\n",
       "      <th>3</th>\n",
       "      <td>1.9</td>\n",
       "      <td>2.2</td>\n",
       "    </tr>\n",
       "    <tr>\n",
       "      <th>4</th>\n",
       "      <td>3.1</td>\n",
       "      <td>3.0</td>\n",
       "    </tr>\n",
       "    <tr>\n",
       "      <th>5</th>\n",
       "      <td>2.3</td>\n",
       "      <td>2.7</td>\n",
       "    </tr>\n",
       "    <tr>\n",
       "      <th>6</th>\n",
       "      <td>2.0</td>\n",
       "      <td>1.6</td>\n",
       "    </tr>\n",
       "    <tr>\n",
       "      <th>7</th>\n",
       "      <td>1.0</td>\n",
       "      <td>1.1</td>\n",
       "    </tr>\n",
       "    <tr>\n",
       "      <th>8</th>\n",
       "      <td>1.5</td>\n",
       "      <td>1.6</td>\n",
       "    </tr>\n",
       "    <tr>\n",
       "      <th>9</th>\n",
       "      <td>1.1</td>\n",
       "      <td>0.9</td>\n",
       "    </tr>\n",
       "  </tbody>\n",
       "</table>\n",
       "</div>"
      ],
      "text/plain": [
       "     x    y\n",
       "0  2.5  2.4\n",
       "1  0.5  0.7\n",
       "2  2.2  2.9\n",
       "3  1.9  2.2\n",
       "4  3.1  3.0\n",
       "5  2.3  2.7\n",
       "6  2.0  1.6\n",
       "7  1.0  1.1\n",
       "8  1.5  1.6\n",
       "9  1.1  0.9"
      ]
     },
     "execution_count": 25,
     "metadata": {},
     "output_type": "execute_result"
    }
   ],
   "source": [
    "df"
   ]
  },
  {
   "cell_type": "code",
   "execution_count": 27,
   "id": "2a57da6e-4db4-4f97-a4d1-49acf099fb32",
   "metadata": {},
   "outputs": [
    {
     "data": {
      "text/html": [
       "<div>\n",
       "<style scoped>\n",
       "    .dataframe tbody tr th:only-of-type {\n",
       "        vertical-align: middle;\n",
       "    }\n",
       "\n",
       "    .dataframe tbody tr th {\n",
       "        vertical-align: top;\n",
       "    }\n",
       "\n",
       "    .dataframe thead th {\n",
       "        text-align: right;\n",
       "    }\n",
       "</style>\n",
       "<table border=\"1\" class=\"dataframe\">\n",
       "  <thead>\n",
       "    <tr style=\"text-align: right;\">\n",
       "      <th></th>\n",
       "      <th>x</th>\n",
       "      <th>y</th>\n",
       "    </tr>\n",
       "  </thead>\n",
       "  <tbody>\n",
       "    <tr>\n",
       "      <th>count</th>\n",
       "      <td>10.000000</td>\n",
       "      <td>10.000000</td>\n",
       "    </tr>\n",
       "    <tr>\n",
       "      <th>mean</th>\n",
       "      <td>1.810000</td>\n",
       "      <td>1.910000</td>\n",
       "    </tr>\n",
       "    <tr>\n",
       "      <th>std</th>\n",
       "      <td>0.785211</td>\n",
       "      <td>0.846496</td>\n",
       "    </tr>\n",
       "    <tr>\n",
       "      <th>min</th>\n",
       "      <td>0.500000</td>\n",
       "      <td>0.700000</td>\n",
       "    </tr>\n",
       "    <tr>\n",
       "      <th>25%</th>\n",
       "      <td>1.200000</td>\n",
       "      <td>1.225000</td>\n",
       "    </tr>\n",
       "    <tr>\n",
       "      <th>50%</th>\n",
       "      <td>1.950000</td>\n",
       "      <td>1.900000</td>\n",
       "    </tr>\n",
       "    <tr>\n",
       "      <th>75%</th>\n",
       "      <td>2.275000</td>\n",
       "      <td>2.625000</td>\n",
       "    </tr>\n",
       "    <tr>\n",
       "      <th>max</th>\n",
       "      <td>3.100000</td>\n",
       "      <td>3.000000</td>\n",
       "    </tr>\n",
       "  </tbody>\n",
       "</table>\n",
       "</div>"
      ],
      "text/plain": [
       "               x          y\n",
       "count  10.000000  10.000000\n",
       "mean    1.810000   1.910000\n",
       "std     0.785211   0.846496\n",
       "min     0.500000   0.700000\n",
       "25%     1.200000   1.225000\n",
       "50%     1.950000   1.900000\n",
       "75%     2.275000   2.625000\n",
       "max     3.100000   3.000000"
      ]
     },
     "execution_count": 27,
     "metadata": {},
     "output_type": "execute_result"
    }
   ],
   "source": [
    "df.describe()"
   ]
  },
  {
   "cell_type": "code",
   "execution_count": 5,
   "id": "3ae60f7e-35a5-4712-961f-e53a02e12494",
   "metadata": {},
   "outputs": [
    {
     "name": "stdout",
     "output_type": "stream",
     "text": [
      "<class 'numpy.ndarray'>\n"
     ]
    }
   ],
   "source": [
    "x_values_array=df[\"x\"].values\n",
    "print(type(x_values_array))\n",
    "y_values_array=df[\"y\"].values"
   ]
  },
  {
   "cell_type": "code",
   "execution_count": 33,
   "id": "64fc2edd-27e2-4538-95a0-04cfc2e72e09",
   "metadata": {},
   "outputs": [
    {
     "data": {
      "text/plain": [
       "<matplotlib.collections.PathCollection at 0x229fb22aa80>"
      ]
     },
     "execution_count": 33,
     "metadata": {},
     "output_type": "execute_result"
    },
    {
     "data": {
      "image/png": "[encoded data removed]",
      "text/plain": [
       "<Figure size 640x480 with 1 Axes>"
      ]
     },
     "metadata": {},
     "output_type": "display_data"
    }
   ],
   "source": [
    "plt.scatter(x='x',y='y', data=df)"
   ]
  },
  {
   "cell_type": "code",
   "execution_count": 6,
   "id": "ef94eb55-5ae2-4cee-a05c-6ebeb3c7b8d2",
   "metadata": {},
   "outputs": [
    {
     "data": {
      "text/plain": [
       "<matplotlib.collections.PathCollection at 0x1d4e4c27320>"
      ]
     },
     "execution_count": 6,
     "metadata": {},
     "output_type": "execute_result"
    },
    {
     "data": {
      "image/png": "[encoded data removed]",
      "text/plain": [
       "<Figure size 640x480 with 1 Axes>"
      ]
     },
     "metadata": {},
     "output_type": "display_data"
    }
   ],
   "source": [
    "plt.scatter(x_values_array,y_values_array)"
   ]
  },
  {
   "cell_type": "code",
   "execution_count": 7,
   "id": "7de0e585-21ed-4d03-9ece-68c6032a4817",
   "metadata": {},
   "outputs": [
    {
     "data": {
      "text/html": [
       "<div>\n",
       "<style scoped>\n",
       "    .dataframe tbody tr th:only-of-type {\n",
       "        vertical-align: middle;\n",
       "    }\n",
       "\n",
       "    .dataframe tbody tr th {\n",
       "        vertical-align: top;\n",
       "    }\n",
       "\n",
       "    .dataframe thead th {\n",
       "        text-align: right;\n",
       "    }\n",
       "</style>\n",
       "<table border=\"1\" class=\"dataframe\">\n",
       "  <thead>\n",
       "    <tr style=\"text-align: right;\">\n",
       "      <th></th>\n",
       "      <th>x</th>\n",
       "      <th>y</th>\n",
       "    </tr>\n",
       "  </thead>\n",
       "  <tbody>\n",
       "    <tr>\n",
       "      <th>x</th>\n",
       "      <td>0.616556</td>\n",
       "      <td>0.615444</td>\n",
       "    </tr>\n",
       "    <tr>\n",
       "      <th>y</th>\n",
       "      <td>0.615444</td>\n",
       "      <td>0.716556</td>\n",
       "    </tr>\n",
       "  </tbody>\n",
       "</table>\n",
       "</div>"
      ],
      "text/plain": [
       "          x         y\n",
       "x  0.616556  0.615444\n",
       "y  0.615444  0.716556"
      ]
     },
     "execution_count": 7,
     "metadata": {},
     "output_type": "execute_result"
    }
   ],
   "source": [
    "df.cov()"
   ]
  },
  {
   "cell_type": "code",
   "execution_count": 8,
   "id": "64d3805e-ba3a-40b1-9933-a223323a7cc0",
   "metadata": {},
   "outputs": [
    {
     "data": {
      "text/plain": [
       "EigResult(eigenvalues=array([0.0490834 , 1.28402771]), eigenvectors=array([[-0.73517866, -0.6778734 ],\n",
       "       [ 0.6778734 , -0.73517866]]))"
      ]
     },
     "execution_count": 8,
     "metadata": {},
     "output_type": "execute_result"
    }
   ],
   "source": [
    "np.linalg.eig(df.cov())"
   ]
  },
  {
   "cell_type": "code",
   "execution_count": 9,
   "id": "8a788166-dbc5-4825-b297-b8fd72fbf4cc",
   "metadata": {},
   "outputs": [],
   "source": [
    "eigenvalues, eigenvectors=np.linalg.eig(df.cov())"
   ]
  },
  {
   "cell_type": "code",
   "execution_count": 10,
   "id": "54d505e7-7704-456a-a129-2b27113aa97b",
   "metadata": {},
   "outputs": [
    {
     "data": {
      "text/plain": [
       "array([0.0490834 , 1.28402771])"
      ]
     },
     "execution_count": 10,
     "metadata": {},
     "output_type": "execute_result"
    }
   ],
   "source": [
    "eigenvalues"
   ]
  },
  {
   "cell_type": "code",
   "execution_count": 11,
   "id": "34b98cc9-e1c7-470e-be11-3298fc404fa5",
   "metadata": {},
   "outputs": [
    {
     "data": {
      "text/plain": [
       "array([-0.73517866, -0.6778734 ])"
      ]
     },
     "execution_count": 11,
     "metadata": {},
     "output_type": "execute_result"
    }
   ],
   "source": [
    "eigenvectors[0]"
   ]
  },
  {
   "cell_type": "code",
   "execution_count": 12,
   "id": "992a26b7-2ddc-486d-83b2-7c90724ab104",
   "metadata": {},
   "outputs": [
    {
     "name": "stdout",
     "output_type": "stream",
     "text": [
      "[-0.73517866  0.6778734 ]\n"
     ]
    }
   ],
   "source": [
    "V = eigenvectors\n",
    "print(V[:,0])"
   ]
  },
  {
   "cell_type": "code",
   "execution_count": 13,
   "id": "99f879c8-8d4e-4970-b470-e706fa49caf6",
   "metadata": {},
   "outputs": [],
   "source": [
    "V = eigenvectors\n",
    "origin = np.array([[0, 0],[0, 0]]) # origin point"
   ]
  },
  {
   "cell_type": "code",
   "execution_count": 14,
   "id": "d5652a56-7e38-431a-b16f-570908292116",
   "metadata": {},
   "outputs": [
    {
     "data": {
      "image/png": "[encoded data removed]",
      "text/plain": [
       "<Figure size 640x480 with 1 Axes>"
      ]
     },
     "metadata": {},
     "output_type": "display_data"
    }
   ],
   "source": [
    "plt.quiver(*origin, V[0], V[1], color=['r','b'], scale=3)\n",
    "plt.title(\"The two eigen vectors are perpendicular\")\n",
    "plt.show()\n"
   ]
  },
  {
   "cell_type": "code",
   "execution_count": 15,
   "id": "3887850e-ebd4-48e6-a1b6-99b8b41c2f7a",
   "metadata": {},
   "outputs": [
    {
     "data": {
      "text/plain": [
       "1.81"
      ]
     },
     "execution_count": 15,
     "metadata": {},
     "output_type": "execute_result"
    }
   ],
   "source": [
    "x_bar=statistics.mean(df[\"x\"].values)\n",
    "x_bar"
   ]
  },
  {
   "cell_type": "code",
   "execution_count": 16,
   "id": "04d8300b-4d32-4a75-9305-3e7f0cd4d675",
   "metadata": {},
   "outputs": [
    {
     "data": {
      "text/plain": [
       "1.9100000000000001"
      ]
     },
     "execution_count": 16,
     "metadata": {},
     "output_type": "execute_result"
    }
   ],
   "source": [
    "y_bar=statistics.mean(df[\"y\"].values)\n",
    "y_bar"
   ]
  },
  {
   "cell_type": "code",
   "execution_count": 17,
   "id": "7bb793f2-cac0-4c15-8449-adc71dd29ba5",
   "metadata": {},
   "outputs": [
    {
     "name": "stdout",
     "output_type": "stream",
     "text": [
      "[[-0.73517866 -0.6778734 ]\n",
      " [ 0.6778734  -0.73517866]]\n"
     ]
    },
    {
     "data": {
      "image/png": "[encoded data removed]",
      "text/plain": [
       "<Figure size 640x480 with 1 Axes>"
      ]
     },
     "metadata": {},
     "output_type": "display_data"
    }
   ],
   "source": [
    "plt.scatter(x_values_array, y_values_array)\n",
    "V = eigenvectors\n",
    "print(V)\n",
    "origin = np.array([[x_bar, x_bar],[y_bar, y_bar]]) # origin point"
   ]
  },
  {
   "cell_type": "code",
   "execution_count": 18,
   "id": "6afee4e8-b7c6-40f1-b7d8-1090c3ed0215",
   "metadata": {},
   "outputs": [
    {
     "data": {
      "image/png": "[encoded data removed]",
      "text/plain": [
       "<Figure size 640x480 with 1 Axes>"
      ]
     },
     "metadata": {},
     "output_type": "display_data"
    }
   ],
   "source": [
    "plt.quiver(*origin, V[0], V[1], color=['r','b'], scale=2)\n",
    "plt.title(\"Largest Eigen values correspond to the dimensions \\n that have the strongest correlation in the dataset \")\n",
    "plt.show()"
   ]
  },
  {
   "cell_type": "code",
   "execution_count": 19,
   "id": "8973bbd3-ebd6-468c-9cdd-b315cf3f9e5d",
   "metadata": {},
   "outputs": [
    {
     "data": {
      "text/plain": [
       "array([0.0490834 , 1.28402771])"
      ]
     },
     "execution_count": 19,
     "metadata": {},
     "output_type": "execute_result"
    }
   ],
   "source": [
    "eigenvalues"
   ]
  },
  {
   "cell_type": "code",
   "execution_count": 20,
   "id": "5203607d-4370-46a5-bca8-a2845f515859",
   "metadata": {},
   "outputs": [],
   "source": [
    "lambda_max,lambda_min= max(eigenvalues),min(eigenvalues)"
   ]
  },
  {
   "cell_type": "code",
   "execution_count": 21,
   "id": "e2738f43-5482-44ab-aea4-3ad0b6a84aa3",
   "metadata": {},
   "outputs": [
    {
     "data": {
      "text/plain": [
       "1.2840277121727837"
      ]
     },
     "execution_count": 21,
     "metadata": {},
     "output_type": "execute_result"
    }
   ],
   "source": [
    "lambda_max"
   ]
  },
  {
   "cell_type": "code",
   "execution_count": 22,
   "id": "2d92e76e-152f-4fc5-82fb-0cf1e52c77b2",
   "metadata": {},
   "outputs": [
    {
     "data": {
      "text/plain": [
       "0.04908339893832736"
      ]
     },
     "execution_count": 22,
     "metadata": {},
     "output_type": "execute_result"
    }
   ],
   "source": [
    "lambda_min"
   ]
  },
  {
   "cell_type": "code",
   "execution_count": 23,
   "id": "4d162635-d0ba-4c68-ba19-03aa423c2041",
   "metadata": {},
   "outputs": [],
   "source": [
    "lambda_max_index = np.argmax(eigenvalues)\n",
    "lambda_min_index = np.argmin(eigenvalues)"
   ]
  },
  {
   "cell_type": "code",
   "execution_count": 24,
   "id": "4bdb270d-d03a-4614-a168-70221ee4be7d",
   "metadata": {},
   "outputs": [
    {
     "data": {
      "text/plain": [
       "1"
      ]
     },
     "execution_count": 24,
     "metadata": {},
     "output_type": "execute_result"
    }
   ],
   "source": [
    "lambda_max_index"
   ]
  },
  {
   "cell_type": "code",
   "execution_count": 25,
   "id": "4d9a5f69-9764-4716-a8b2-6bff46622494",
   "metadata": {},
   "outputs": [
    {
     "data": {
      "text/plain": [
       "0"
      ]
     },
     "execution_count": 25,
     "metadata": {},
     "output_type": "execute_result"
    }
   ],
   "source": [
    "lambda_min_index"
   ]
  },
  {
   "cell_type": "code",
   "execution_count": 26,
   "id": "7b5f6ab0-7d70-4a3e-a645-000d93982f02",
   "metadata": {},
   "outputs": [
    {
     "data": {
      "text/plain": [
       "[0.69,\n",
       " -1.31,\n",
       " 0.3900000000000001,\n",
       " 0.08999999999999986,\n",
       " 1.29,\n",
       " 0.48999999999999977,\n",
       " 0.18999999999999995,\n",
       " -0.81,\n",
       " -0.31000000000000005,\n",
       " -0.71]"
      ]
     },
     "execution_count": 26,
     "metadata": {},
     "output_type": "execute_result"
    }
   ],
   "source": [
    "x_dev=[ele-x_bar for ele in x_values_array]\n",
    "x_dev"
   ]
  },
  {
   "cell_type": "code",
   "execution_count": 27,
   "id": "61448fa1-b507-4ebb-b0b0-430af837bba8",
   "metadata": {},
   "outputs": [
    {
     "data": {
      "text/plain": [
       "[0.48999999999999977,\n",
       " -1.2100000000000002,\n",
       " 0.9899999999999998,\n",
       " 0.29000000000000004,\n",
       " 1.0899999999999999,\n",
       " 0.79,\n",
       " -0.31000000000000005,\n",
       " -0.81,\n",
       " -0.31000000000000005,\n",
       " -1.0100000000000002]"
      ]
     },
     "execution_count": 27,
     "metadata": {},
     "output_type": "execute_result"
    }
   ],
   "source": [
    "y_dev=[ele-y_bar for ele in y_values_array]\n",
    "y_dev"
   ]
  },
  {
   "cell_type": "code",
   "execution_count": 28,
   "id": "9099a4d1-cfec-4153-bb11-d9501162e88b",
   "metadata": {},
   "outputs": [
    {
     "data": {
      "image/png": "[encoded data removed]",
      "text/plain": [
       "<Figure size 640x480 with 1 Axes>"
      ]
     },
     "metadata": {},
     "output_type": "display_data"
    }
   ],
   "source": [
    "plt.scatter(x_dev,y_dev)\n",
    "plt.title(\"the data centered at (x_bar,y_bar) \\n has been shifted to (0,0)\")\n",
    "plt.show()"
   ]
  },
  {
   "cell_type": "code",
   "execution_count": 29,
   "id": "c1024035-8482-4d32-9fad-ef86dda9abc0",
   "metadata": {},
   "outputs": [
    {
     "data": {
      "text/plain": [
       "array([[ 0.69,  0.49],\n",
       "       [-1.31, -1.21],\n",
       "       [ 0.39,  0.99],\n",
       "       [ 0.09,  0.29],\n",
       "       [ 1.29,  1.09],\n",
       "       [ 0.49,  0.79],\n",
       "       [ 0.19, -0.31],\n",
       "       [-0.81, -0.81],\n",
       "       [-0.31, -0.31],\n",
       "       [-0.71, -1.01]])"
      ]
     },
     "execution_count": 29,
     "metadata": {},
     "output_type": "execute_result"
    }
   ],
   "source": [
    "np.column_stack((x_dev,y_dev))"
   ]
  },
  {
   "cell_type": "code",
   "execution_count": 30,
   "id": "cf58b923-e1e8-4f81-ba0b-431ca75c1781",
   "metadata": {},
   "outputs": [],
   "source": [
    "vector1 = eigenvectors[:,1]\n",
    "vector2 = np.array([1,0])\n",
    "\n",
    "unit_vector1 = vector1 / np.linalg.norm(vector1)\n",
    "unit_vector2 = vector2 / np.linalg.norm(vector2)\n",
    "\n",
    "dot_product = np.dot(unit_vector1, unit_vector2)\n"
   ]
  },
  {
   "cell_type": "code",
   "execution_count": 31,
   "id": "11c44b1a-be68-4bb9-a4f9-9fbd70b8e1e7",
   "metadata": {},
   "outputs": [
    {
     "name": "stdout",
     "output_type": "stream",
     "text": [
      "-2.315662457290723\n"
     ]
    }
   ],
   "source": [
    "angle = -np.arccos(dot_product) #radians\n",
    "print(angle)\n",
    "angle_degree=angle*180/math.pi"
   ]
  },
  {
   "cell_type": "code",
   "execution_count": 32,
   "id": "56be37f2-7092-4c2e-a31e-84ea1b46aa25",
   "metadata": {},
   "outputs": [
    {
     "name": "stdout",
     "output_type": "stream",
     "text": [
      "47.32231442034831\n",
      "0.8259301962990699\n"
     ]
    }
   ],
   "source": [
    "angle=angle+ math.pi\n",
    "angle_degree=angle*180/math.pi\n",
    "print(angle_degree)\n",
    "print(angle)\n"
   ]
  },
  {
   "cell_type": "code",
   "execution_count": 33,
   "id": "5ea1b24f-33b2-421c-9212-ba5a5307c96c",
   "metadata": {},
   "outputs": [],
   "source": [
    "R=[[math.cos(angle),math.sin(angle)],[-math.sin(angle),math.cos(angle)]]\n"
   ]
  },
  {
   "cell_type": "code",
   "execution_count": 34,
   "id": "bab0399e-f7ed-4138-81a4-15338ec20369",
   "metadata": {},
   "outputs": [
    {
     "data": {
      "text/plain": [
       "array([[ 0.6778734 ,  0.73517866],\n",
       "       [-0.73517866,  0.6778734 ]])"
      ]
     },
     "execution_count": 34,
     "metadata": {},
     "output_type": "execute_result"
    }
   ],
   "source": [
    "Rotation_matrix=np.array(R)\n",
    "Rotation_matrix"
   ]
  },
  {
   "cell_type": "code",
   "execution_count": 35,
   "id": "abeb32a1-813e-4145-8adc-32ab3e79ce7b",
   "metadata": {},
   "outputs": [
    {
     "data": {
      "text/plain": [
       "(2, 2)"
      ]
     },
     "execution_count": 35,
     "metadata": {},
     "output_type": "execute_result"
    }
   ],
   "source": [
    "Rotation_matrix.shape\n"
   ]
  },
  {
   "cell_type": "code",
   "execution_count": 36,
   "id": "d924f79c-ef51-4cb2-86d0-85cfa10d73c5",
   "metadata": {},
   "outputs": [],
   "source": [
    "data=[x_dev,y_dev]\n"
   ]
  },
  {
   "cell_type": "code",
   "execution_count": 37,
   "id": "0a5b8aa1-ba6a-4a98-8d58-a387344db837",
   "metadata": {},
   "outputs": [],
   "source": [
    "data_array=np.array(data)\n"
   ]
  },
  {
   "cell_type": "code",
   "execution_count": 38,
   "id": "c6f270a0-f2bd-410a-90fb-149c7e60a872",
   "metadata": {},
   "outputs": [],
   "source": [
    "transformed_data=Rotation_matrix @ data_array\n"
   ]
  },
  {
   "cell_type": "code",
   "execution_count": 39,
   "id": "1d81761b-8f0a-42f7-946c-4303289e5592",
   "metadata": {},
   "outputs": [
    {
     "data": {
      "text/plain": [
       "array([[ 0.82797019, -1.77758033,  0.99219749,  0.27421042,  1.67580142,\n",
       "         0.9129491 , -0.09910944, -1.14457216, -0.43804614, -1.22382056],\n",
       "       [-0.17511531,  0.14285723,  0.38437499,  0.13041721, -0.20949846,\n",
       "         0.17528244, -0.3498247 ,  0.04641726,  0.01776463, -0.16267529]])"
      ]
     },
     "execution_count": 39,
     "metadata": {},
     "output_type": "execute_result"
    }
   ],
   "source": [
    "transformed_data"
   ]
  },
  {
   "cell_type": "code",
   "execution_count": 40,
   "id": "f5ec2101-4e69-4dd0-bf19-4de25a8c1d5e",
   "metadata": {},
   "outputs": [
    {
     "data": {
      "text/plain": [
       "<matplotlib.collections.PathCollection at 0x1d4e4cff320>"
      ]
     },
     "execution_count": 40,
     "metadata": {},
     "output_type": "execute_result"
    },
    {
     "data": {
      "image/png": "[encoded data removed]",
      "text/plain": [
       "<Figure size 640x480 with 1 Axes>"
      ]
     },
     "metadata": {},
     "output_type": "display_data"
    }
   ],
   "source": [
    "plt.scatter(transformed_data[0], transformed_data[1])\n"
   ]
  },
  {
   "cell_type": "code",
   "execution_count": 41,
   "id": "aaa12ef7-2360-41c9-9dc7-083d96b97000",
   "metadata": {},
   "outputs": [
    {
     "name": "stdout",
     "output_type": "stream",
     "text": [
      "EigenVectors:  [[-0.73517866 -0.6778734 ]\n",
      " [ 0.6778734  -0.73517866]]\n"
     ]
    }
   ],
   "source": [
    "v=eigenvectors\n",
    "print(\"EigenVectors: \",v)\n"
   ]
  },
  {
   "cell_type": "code",
   "execution_count": 42,
   "id": "00372bb8-1ddd-433a-b052-0b812a8185a1",
   "metadata": {},
   "outputs": [
    {
     "name": "stdout",
     "output_type": "stream",
     "text": [
      "EigenValues:  [0.0490834  1.28402771]\n"
     ]
    }
   ],
   "source": [
    "w=eigenvalues\n",
    "print(\"EigenValues: \",w)\n"
   ]
  },
  {
   "cell_type": "code",
   "execution_count": 43,
   "id": "ca1853e8-297e-4e74-bcf2-c8f2a4af6ef9",
   "metadata": {},
   "outputs": [
    {
     "data": {
      "text/plain": [
       "0.04908339893832736"
      ]
     },
     "execution_count": 43,
     "metadata": {},
     "output_type": "execute_result"
    }
   ],
   "source": [
    "w[0]"
   ]
  },
  {
   "cell_type": "code",
   "execution_count": 44,
   "id": "2dc4f367-b6d5-490f-bdae-9abeef13e37c",
   "metadata": {},
   "outputs": [
    {
     "data": {
      "text/plain": [
       "array([-0.73517866,  0.6778734 ])"
      ]
     },
     "execution_count": 44,
     "metadata": {},
     "output_type": "execute_result"
    }
   ],
   "source": [
    "v[:,0]\n"
   ]
  }
 ],
 "metadata": {
  "kernelspec": {
   "display_name": "Python 3 (ipykernel)",
   "language": "python",
   "name": "python3"
  },
  "language_info": {
   "codemirror_mode": {
    "name": "ipython",
    "version": 3
   },
   "file_extension": ".py",
   "mimetype": "text/x-python",
   "name": "python",
   "nbconvert_exporter": "python",
   "pygments_lexer": "ipython3",
   "version": "3.12.4"
  }
 },
 "nbformat": 4,
 "nbformat_minor": 5
}
