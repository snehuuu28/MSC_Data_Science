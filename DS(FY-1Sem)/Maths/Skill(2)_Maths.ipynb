{
 "cells": [
  {
   "cell_type": "code",
   "execution_count": 12,
   "id": "35bce5b3-c56a-4631-adb0-4366f18a243b",
   "metadata": {},
   "outputs": [],
   "source": [
    "import numpy as np\n",
    "import pandas as pd\n",
    "import matplotlib.pyplot as plt\n",
    "from sklearn.decomposition import PCA\n",
    "from sklearn.preprocessing import StandardScaler"
   ]
  },
  {
   "cell_type": "code",
   "execution_count": 13,
   "id": "79f50de1-9664-42ce-b078-75be3c8e9a19",
   "metadata": {},
   "outputs": [],
   "source": [
    "df = pd.DataFrame({'Physics':[3,2,6],\n",
    "        'Maths':[4,8,9]})"
   ]
  },
  {
   "cell_type": "code",
   "execution_count": 14,
   "id": "3d2b0437-a200-4119-8bf6-59c8f9efaece",
   "metadata": {},
   "outputs": [
    {
     "data": {
      "text/html": [
       "<div>\n",
       "<style scoped>\n",
       "    .dataframe tbody tr th:only-of-type {\n",
       "        vertical-align: middle;\n",
       "    }\n",
       "\n",
       "    .dataframe tbody tr th {\n",
       "        vertical-align: top;\n",
       "    }\n",
       "\n",
       "    .dataframe thead th {\n",
       "        text-align: right;\n",
       "    }\n",
       "</style>\n",
       "<table border=\"1\" class=\"dataframe\">\n",
       "  <thead>\n",
       "    <tr style=\"text-align: right;\">\n",
       "      <th></th>\n",
       "      <th>Physics</th>\n",
       "      <th>Maths</th>\n",
       "    </tr>\n",
       "  </thead>\n",
       "  <tbody>\n",
       "    <tr>\n",
       "      <th>0</th>\n",
       "      <td>3</td>\n",
       "      <td>4</td>\n",
       "    </tr>\n",
       "    <tr>\n",
       "      <th>1</th>\n",
       "      <td>2</td>\n",
       "      <td>8</td>\n",
       "    </tr>\n",
       "    <tr>\n",
       "      <th>2</th>\n",
       "      <td>6</td>\n",
       "      <td>9</td>\n",
       "    </tr>\n",
       "  </tbody>\n",
       "</table>\n",
       "</div>"
      ],
      "text/plain": [
       "   Physics  Maths\n",
       "0        3      4\n",
       "1        2      8\n",
       "2        6      9"
      ]
     },
     "execution_count": 14,
     "metadata": {},
     "output_type": "execute_result"
    }
   ],
   "source": [
    "df"
   ]
  },
  {
   "cell_type": "code",
   "execution_count": 15,
   "id": "d78b2d79-2b1a-4ce3-be16-603d3979bb36",
   "metadata": {},
   "outputs": [
    {
     "data": {
      "text/plain": [
       "<matplotlib.collections.PathCollection at 0x2861caf0560>"
      ]
     },
     "execution_count": 15,
     "metadata": {},
     "output_type": "execute_result"
    },
    {
     "data": {
      "image/png": "[encoded data removed]",
      "text/plain": [
       "<Figure size 640x480 with 1 Axes>"
      ]
     },
     "metadata": {},
     "output_type": "display_data"
    }
   ],
   "source": [
    "plt.scatter(x=df['Physics'], y=df['Maths'])"
   ]
  },
  {
   "cell_type": "code",
   "execution_count": 16,
   "id": "b98a4a23-d8fa-45a8-8fc2-e353c5afc023",
   "metadata": {},
   "outputs": [
    {
     "name": "stdout",
     "output_type": "stream",
     "text": [
      "Physics    3.666667\n",
      "Maths      7.000000\n",
      "dtype: float64\n"
     ]
    }
   ],
   "source": [
    "#makind data mean centric\n",
    "Meanbycolumn = np.mean(df.T, axis=1)\n",
    "print(Meanbycolumn)\n",
    "\n",
    "Scaled_Data = df - Meanbycolumn\n"
   ]
  },
  {
   "cell_type": "code",
   "execution_count": 17,
   "id": "779a7b21-e0fe-49a5-b1ad-7688c80de9b7",
   "metadata": {},
   "outputs": [
    {
     "data": {
      "text/html": [
       "<div>\n",
       "<style scoped>\n",
       "    .dataframe tbody tr th:only-of-type {\n",
       "        vertical-align: middle;\n",
       "    }\n",
       "\n",
       "    .dataframe tbody tr th {\n",
       "        vertical-align: top;\n",
       "    }\n",
       "\n",
       "    .dataframe thead th {\n",
       "        text-align: right;\n",
       "    }\n",
       "</style>\n",
       "<table border=\"1\" class=\"dataframe\">\n",
       "  <thead>\n",
       "    <tr style=\"text-align: right;\">\n",
       "      <th></th>\n",
       "      <th>0</th>\n",
       "      <th>1</th>\n",
       "      <th>2</th>\n",
       "    </tr>\n",
       "  </thead>\n",
       "  <tbody>\n",
       "    <tr>\n",
       "      <th>Physics</th>\n",
       "      <td>3</td>\n",
       "      <td>2</td>\n",
       "      <td>6</td>\n",
       "    </tr>\n",
       "    <tr>\n",
       "      <th>Maths</th>\n",
       "      <td>4</td>\n",
       "      <td>8</td>\n",
       "      <td>9</td>\n",
       "    </tr>\n",
       "  </tbody>\n",
       "</table>\n",
       "</div>"
      ],
      "text/plain": [
       "         0  1  2\n",
       "Physics  3  2  6\n",
       "Maths    4  8  9"
      ]
     },
     "execution_count": 17,
     "metadata": {},
     "output_type": "execute_result"
    }
   ],
   "source": [
    "df.T"
   ]
  },
  {
   "cell_type": "code",
   "execution_count": 18,
   "id": "8bcd6a5a-0dbe-4457-a07c-3eaf4b4c19f4",
   "metadata": {},
   "outputs": [
    {
     "data": {
      "text/html": [
       "<div>\n",
       "<style scoped>\n",
       "    .dataframe tbody tr th:only-of-type {\n",
       "        vertical-align: middle;\n",
       "    }\n",
       "\n",
       "    .dataframe tbody tr th {\n",
       "        vertical-align: top;\n",
       "    }\n",
       "\n",
       "    .dataframe thead th {\n",
       "        text-align: right;\n",
       "    }\n",
       "</style>\n",
       "<table border=\"1\" class=\"dataframe\">\n",
       "  <thead>\n",
       "    <tr style=\"text-align: right;\">\n",
       "      <th></th>\n",
       "      <th>Physics</th>\n",
       "      <th>Maths</th>\n",
       "    </tr>\n",
       "  </thead>\n",
       "  <tbody>\n",
       "    <tr>\n",
       "      <th>0</th>\n",
       "      <td>-0.666667</td>\n",
       "      <td>-3.0</td>\n",
       "    </tr>\n",
       "    <tr>\n",
       "      <th>1</th>\n",
       "      <td>-1.666667</td>\n",
       "      <td>1.0</td>\n",
       "    </tr>\n",
       "    <tr>\n",
       "      <th>2</th>\n",
       "      <td>2.333333</td>\n",
       "      <td>2.0</td>\n",
       "    </tr>\n",
       "  </tbody>\n",
       "</table>\n",
       "</div>"
      ],
      "text/plain": [
       "    Physics  Maths\n",
       "0 -0.666667   -3.0\n",
       "1 -1.666667    1.0\n",
       "2  2.333333    2.0"
      ]
     },
     "execution_count": 18,
     "metadata": {},
     "output_type": "execute_result"
    }
   ],
   "source": [
    "Scaled_Data"
   ]
  },
  {
   "cell_type": "code",
   "execution_count": 19,
   "id": "d2043738-03b2-422a-bff7-d52d3a4ba638",
   "metadata": {},
   "outputs": [
    {
     "data": {
      "text/plain": [
       "array([[4.33333333, 2.5       ],\n",
       "       [2.5       , 7.        ]])"
      ]
     },
     "execution_count": 19,
     "metadata": {},
     "output_type": "execute_result"
    }
   ],
   "source": [
    "#Find covariance matrix of above scaled data\n",
    "Cov_mat = np.cov(Scaled_Data.T)\n",
    "Cov_mat"
   ]
  },
  {
   "cell_type": "code",
   "execution_count": 20,
   "id": "d8270ddd-eb00-4d57-8472-3c44ab84ba46",
   "metadata": {},
   "outputs": [
    {
     "name": "stdout",
     "output_type": "stream",
     "text": [
      "EighResult(eigenvalues=array([2.83333333, 8.5       ]), eigenvectors=array([[-0.85749293,  0.51449576],\n",
      "       [ 0.51449576,  0.85749293]]))\n"
     ]
    }
   ],
   "source": [
    "A=np.array([[4.33333333, 2.5],[2.5, 7.]])\n",
    "print(np.linalg.eigh(A))\n",
    "eigenvalues,eigenvectors = np.linalg.eig(A)\n"
   ]
  },
  {
   "cell_type": "code",
   "execution_count": 21,
   "id": "a3ac6890-ce4b-44ce-9f99-80953242ebee",
   "metadata": {},
   "outputs": [
    {
     "name": "stdout",
     "output_type": "stream",
     "text": [
      "eigenvalues: [2.83333333 8.5       ]\n",
      "eigenvectors: [[-0.85749293 -0.51449576]\n",
      " [ 0.51449576 -0.85749293]]\n"
     ]
    }
   ],
   "source": [
    "#Find corresponding eigen value and eigen vector of above covariance matrix\n",
    "print(\"eigenvalues:\",eigenvalues)\n",
    "print(\"eigenvectors:\",eigenvectors)"
   ]
  },
  {
   "cell_type": "code",
   "execution_count": 22,
   "id": "93a13ad5-a37e-4fc8-b25d-7e3498666052",
   "metadata": {},
   "outputs": [
    {
     "name": "stdout",
     "output_type": "stream",
     "text": [
      "[[-9.71825315e-01  2.91547595e+00]\n",
      " [ 1.94365063e+00 -5.04407627e-10]\n",
      " [-9.71825317e-01 -2.91547595e+00]]\n"
     ]
    }
   ],
   "source": [
    "#Get Original Data Projected to Principal components as new axis\n",
    "Projected_data = eigenvectors.T.dot(Scaled_Data.T)\n",
    "print(Projected_data.T)"
   ]
  },
  {
   "cell_type": "code",
   "execution_count": 23,
   "id": "4be25ba5-e811-4922-96b2-fac1afe4afa2",
   "metadata": {},
   "outputs": [
    {
     "data": {
      "text/plain": [
       "array([[ 2.91547595e+00, -9.71825316e-01],\n",
       "       [-6.86635020e-16,  1.94365063e+00],\n",
       "       [-2.91547595e+00, -9.71825316e-01]])"
      ]
     },
     "execution_count": 23,
     "metadata": {},
     "output_type": "execute_result"
    }
   ],
   "source": [
    "from sklearn.decomposition import PCA\n",
    "pca = PCA(n_components=2)\n",
    "pca.fit_transform(df)"
   ]
  },
  {
   "cell_type": "code",
   "execution_count": 24,
   "id": "52d1bd84-f17f-4581-a1fd-d72012f2b182",
   "metadata": {},
   "outputs": [
    {
     "data": {
      "text/plain": [
       "array([0.75, 0.25])"
      ]
     },
     "execution_count": 24,
     "metadata": {},
     "output_type": "execute_result"
    }
   ],
   "source": [
    "pca.explained_variance_ratio_ #variance explanation ratio by each PC"
   ]
  },
  {
   "cell_type": "code",
   "execution_count": 25,
   "id": "5b26a128-922c-4ea9-8333-6ac169745d2e",
   "metadata": {},
   "outputs": [],
   "source": [
    "#DataFrame for PC\n",
    "PCDF = pd.DataFrame(data = pca.fit_transform(df), columns = ['PC1', 'PC2']) "
   ]
  },
  {
   "cell_type": "code",
   "execution_count": 26,
   "id": "22d93e18-2a51-453e-9eeb-8ad244511782",
   "metadata": {},
   "outputs": [
    {
     "data": {
      "text/html": [
       "<div>\n",
       "<style scoped>\n",
       "    .dataframe tbody tr th:only-of-type {\n",
       "        vertical-align: middle;\n",
       "    }\n",
       "\n",
       "    .dataframe tbody tr th {\n",
       "        vertical-align: top;\n",
       "    }\n",
       "\n",
       "    .dataframe thead th {\n",
       "        text-align: right;\n",
       "    }\n",
       "</style>\n",
       "<table border=\"1\" class=\"dataframe\">\n",
       "  <thead>\n",
       "    <tr style=\"text-align: right;\">\n",
       "      <th></th>\n",
       "      <th>PC1</th>\n",
       "      <th>PC2</th>\n",
       "    </tr>\n",
       "  </thead>\n",
       "  <tbody>\n",
       "    <tr>\n",
       "      <th>0</th>\n",
       "      <td>2.915476e+00</td>\n",
       "      <td>-0.971825</td>\n",
       "    </tr>\n",
       "    <tr>\n",
       "      <th>1</th>\n",
       "      <td>-6.866350e-16</td>\n",
       "      <td>1.943651</td>\n",
       "    </tr>\n",
       "    <tr>\n",
       "      <th>2</th>\n",
       "      <td>-2.915476e+00</td>\n",
       "      <td>-0.971825</td>\n",
       "    </tr>\n",
       "  </tbody>\n",
       "</table>\n",
       "</div>"
      ],
      "text/plain": [
       "            PC1       PC2\n",
       "0  2.915476e+00 -0.971825\n",
       "1 -6.866350e-16  1.943651\n",
       "2 -2.915476e+00 -0.971825"
      ]
     },
     "execution_count": 26,
     "metadata": {},
     "output_type": "execute_result"
    }
   ],
   "source": [
    "PCDF"
   ]
  },
  {
   "cell_type": "code",
   "execution_count": 27,
   "id": "41b11f83-1b9a-45aa-9d43-8c8230ac5212",
   "metadata": {},
   "outputs": [
    {
     "data": {
      "text/plain": [
       "<matplotlib.collections.PathCollection at 0x2861d31e660>"
      ]
     },
     "execution_count": 27,
     "metadata": {},
     "output_type": "execute_result"
    },
    {
     "data": {
      "image/png": "[encoded data removed]",
      "text/plain": [
       "<Figure size 640x480 with 1 Axes>"
      ]
     },
     "metadata": {},
     "output_type": "display_data"
    }
   ],
   "source": [
    "plt.scatter(PCDF[\"PC1\"],PCDF[\"PC2\"])"
   ]
  },
  {
   "cell_type": "code",
   "execution_count": 28,
   "id": "f08dc6eb-caee-4287-863a-85ffcfe5fbb8",
   "metadata": {},
   "outputs": [
    {
     "data": {
      "text/plain": [
       "array([[3., 4.],\n",
       "       [2., 8.],\n",
       "       [6., 9.]])"
      ]
     },
     "execution_count": 28,
     "metadata": {},
     "output_type": "execute_result"
    }
   ],
   "source": [
    "#inverse transform\n",
    "pca.inverse_transform(pca.fit_transform(df))"
   ]
  },
  {
   "cell_type": "code",
   "execution_count": 29,
   "id": "77059677-da0c-4c64-b099-867b0da7965c",
   "metadata": {},
   "outputs": [
    {
     "data": {
      "text/html": [
       "<div>\n",
       "<style scoped>\n",
       "    .dataframe tbody tr th:only-of-type {\n",
       "        vertical-align: middle;\n",
       "    }\n",
       "\n",
       "    .dataframe tbody tr th {\n",
       "        vertical-align: top;\n",
       "    }\n",
       "\n",
       "    .dataframe thead th {\n",
       "        text-align: right;\n",
       "    }\n",
       "</style>\n",
       "<table border=\"1\" class=\"dataframe\">\n",
       "  <thead>\n",
       "    <tr style=\"text-align: right;\">\n",
       "      <th></th>\n",
       "      <th>PC1</th>\n",
       "      <th>PC2</th>\n",
       "    </tr>\n",
       "  </thead>\n",
       "  <tbody>\n",
       "    <tr>\n",
       "      <th>Physics</th>\n",
       "      <td>-0.514496</td>\n",
       "      <td>-0.857493</td>\n",
       "    </tr>\n",
       "    <tr>\n",
       "      <th>Maths</th>\n",
       "      <td>-0.857493</td>\n",
       "      <td>0.514496</td>\n",
       "    </tr>\n",
       "  </tbody>\n",
       "</table>\n",
       "</div>"
      ],
      "text/plain": [
       "              PC1       PC2\n",
       "Physics -0.514496 -0.857493\n",
       "Maths   -0.857493  0.514496"
      ]
     },
     "execution_count": 29,
     "metadata": {},
     "output_type": "execute_result"
    }
   ],
   "source": [
    "#How much weight each variable has in principal components\n",
    "loadings = pd.DataFrame(pca.components_.T, columns=['PC1', 'PC2'],index=[\"Physics\",\"Maths\"])\n",
    "loadings"
   ]
  }
 ],
 "metadata": {
  "kernelspec": {
   "display_name": "Python 3 (ipykernel)",
   "language": "python",
   "name": "python3"
  },
  "language_info": {
   "codemirror_mode": {
    "name": "ipython",
    "version": 3
   },
   "file_extension": ".py",
   "mimetype": "text/x-python",
   "name": "python",
   "nbconvert_exporter": "python",
   "pygments_lexer": "ipython3",
   "version": "3.12.4"
  }
 },
 "nbformat": 4,
 "nbformat_minor": 5
}
