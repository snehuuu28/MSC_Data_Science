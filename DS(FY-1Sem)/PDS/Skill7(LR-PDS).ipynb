{
 "cells": [
  {
   "cell_type": "code",
   "execution_count": 37,
   "metadata": {
    "id": "BgSIBWi2bDyc"
   },
   "outputs": [],
   "source": [
    "import pandas as pd\n",
    "import matplotlib.pyplot as plt"
   ]
  },
  {
   "cell_type": "code",
   "execution_count": 38,
   "metadata": {
    "colab": {
     "base_uri": "https://localhost:8080/",
     "height": 206
    },
    "id": "ygkxE9Rkbnz8",
    "outputId": "712ba4c6-1f07-47f6-e4a9-2b34f00b090b"
   },
   "outputs": [
    {
     "data": {
      "text/html": [
       "<div>\n",
       "<style scoped>\n",
       "    .dataframe tbody tr th:only-of-type {\n",
       "        vertical-align: middle;\n",
       "    }\n",
       "\n",
       "    .dataframe tbody tr th {\n",
       "        vertical-align: top;\n",
       "    }\n",
       "\n",
       "    .dataframe thead th {\n",
       "        text-align: right;\n",
       "    }\n",
       "</style>\n",
       "<table border=\"1\" class=\"dataframe\">\n",
       "  <thead>\n",
       "    <tr style=\"text-align: right;\">\n",
       "      <th></th>\n",
       "      <th>YearsExperience</th>\n",
       "      <th>Salary</th>\n",
       "    </tr>\n",
       "  </thead>\n",
       "  <tbody>\n",
       "    <tr>\n",
       "      <th>0</th>\n",
       "      <td>1.1</td>\n",
       "      <td>39343</td>\n",
       "    </tr>\n",
       "    <tr>\n",
       "      <th>1</th>\n",
       "      <td>1.3</td>\n",
       "      <td>46205</td>\n",
       "    </tr>\n",
       "    <tr>\n",
       "      <th>2</th>\n",
       "      <td>1.5</td>\n",
       "      <td>37731</td>\n",
       "    </tr>\n",
       "    <tr>\n",
       "      <th>3</th>\n",
       "      <td>2.0</td>\n",
       "      <td>43525</td>\n",
       "    </tr>\n",
       "    <tr>\n",
       "      <th>4</th>\n",
       "      <td>2.2</td>\n",
       "      <td>39891</td>\n",
       "    </tr>\n",
       "  </tbody>\n",
       "</table>\n",
       "</div>"
      ],
      "text/plain": [
       "   YearsExperience  Salary\n",
       "0              1.1   39343\n",
       "1              1.3   46205\n",
       "2              1.5   37731\n",
       "3              2.0   43525\n",
       "4              2.2   39891"
      ]
     },
     "execution_count": 38,
     "metadata": {},
     "output_type": "execute_result"
    }
   ],
   "source": [
    "data = pd.read_csv(r\"C:\\Users\\user\\Desktop\\MSC(Data Science)\\Principle of Data Science\\Salary_Data.csv\")\n",
    "data.head()"
   ]
  },
  {
   "cell_type": "code",
   "execution_count": 39,
   "metadata": {
    "colab": {
     "base_uri": "https://localhost:8080/"
    },
    "id": "hjKxs4i_b1n_",
    "outputId": "7a0daa13-b6ba-40b9-95df-74e6b1c9ec6d"
   },
   "outputs": [
    {
     "name": "stdout",
     "output_type": "stream",
     "text": [
      "<class 'pandas.core.frame.DataFrame'>\n",
      "RangeIndex: 30 entries, 0 to 29\n",
      "Data columns (total 2 columns):\n",
      " #   Column           Non-Null Count  Dtype  \n",
      "---  ------           --------------  -----  \n",
      " 0   YearsExperience  30 non-null     float64\n",
      " 1   Salary           30 non-null     int64  \n",
      "dtypes: float64(1), int64(1)\n",
      "memory usage: 612.0 bytes\n"
     ]
    }
   ],
   "source": [
    "data.info()"
   ]
  },
  {
   "cell_type": "code",
   "execution_count": 40,
   "metadata": {
    "id": "Ff7Tq-M8cMcx"
   },
   "outputs": [],
   "source": [
    "### Divide the data into features and targets\n",
    "#x = data['YearsExperience'].values\n",
    "x = data.iloc[:,0].values\n",
    "y = data.iloc[:,1].values"
   ]
  },
  {
   "cell_type": "code",
   "execution_count": 41,
   "metadata": {
    "id": "vbtWQXaQdGh7"
   },
   "outputs": [],
   "source": [
    "### Shape of feature should be (no.of samples,no.of features)\n",
    "### Shape of target should be (no.of samples,no.of target) or (no.of samples,)"
   ]
  },
  {
   "cell_type": "code",
   "execution_count": 42,
   "metadata": {
    "colab": {
     "base_uri": "https://localhost:8080/"
    },
    "id": "b0ik_lise9ep",
    "outputId": "ae3e6ccb-e064-4b7d-f242-b873f04c05bf"
   },
   "outputs": [
    {
     "name": "stdout",
     "output_type": "stream",
     "text": [
      "(30,)\n",
      "(30,)\n"
     ]
    }
   ],
   "source": [
    "print(x.shape)\n",
    "print(y.shape)"
   ]
  },
  {
   "cell_type": "code",
   "execution_count": 43,
   "metadata": {
    "colab": {
     "base_uri": "https://localhost:8080/"
    },
    "id": "zei1BcgOfAPT",
    "outputId": "18120847-320a-4866-8146-9caeff47f35d"
   },
   "outputs": [
    {
     "data": {
      "text/plain": [
       "(30, 1)"
      ]
     },
     "execution_count": 43,
     "metadata": {},
     "output_type": "execute_result"
    }
   ],
   "source": [
    "x = x.reshape((30,1))\n",
    "x.shape"
   ]
  },
  {
   "cell_type": "code",
   "execution_count": 44,
   "metadata": {
    "id": "cAStkvmzgAxz"
   },
   "outputs": [],
   "source": [
    "### Split the data into training and testing samples\n",
    "from sklearn.model_selection import train_test_split\n",
    "xtrain,xtest,ytrain,ytest = train_test_split(x,y,train_size=0.80,random_state=0)"
   ]
  },
  {
   "cell_type": "code",
   "execution_count": 45,
   "metadata": {
    "colab": {
     "base_uri": "https://localhost:8080/"
    },
    "id": "tVymQdNCgamI",
    "outputId": "e1e88622-17d2-4c60-d839-a8b4d0f82ce8"
   },
   "outputs": [
    {
     "data": {
      "text/plain": [
       "array([[ 9.6],\n",
       "       [ 4. ],\n",
       "       [ 5.3],\n",
       "       [ 7.9],\n",
       "       [ 2.9],\n",
       "       [ 5.1],\n",
       "       [ 3.2],\n",
       "       [ 4.5],\n",
       "       [ 8.2],\n",
       "       [ 6.8],\n",
       "       [ 1.3],\n",
       "       [10.5],\n",
       "       [ 3. ],\n",
       "       [ 2.2],\n",
       "       [ 5.9],\n",
       "       [ 6. ],\n",
       "       [ 3.7],\n",
       "       [ 3.2],\n",
       "       [ 9. ],\n",
       "       [ 2. ],\n",
       "       [ 1.1],\n",
       "       [ 7.1],\n",
       "       [ 4.9],\n",
       "       [ 4. ]])"
      ]
     },
     "execution_count": 45,
     "metadata": {},
     "output_type": "execute_result"
    }
   ],
   "source": [
    "xtrain"
   ]
  },
  {
   "cell_type": "code",
   "execution_count": 46,
   "metadata": {
    "colab": {
     "base_uri": "https://localhost:8080/"
    },
    "id": "QbAKGUoGhBby",
    "outputId": "a68b9e14-4654-485d-be36-2960207e538c"
   },
   "outputs": [
    {
     "data": {
      "text/plain": [
       "array([[ 1.5],\n",
       "       [10.3],\n",
       "       [ 4.1],\n",
       "       [ 3.9],\n",
       "       [ 9.5],\n",
       "       [ 8.7]])"
      ]
     },
     "execution_count": 46,
     "metadata": {},
     "output_type": "execute_result"
    }
   ],
   "source": [
    "xtest"
   ]
  },
  {
   "cell_type": "code",
   "execution_count": 47,
   "metadata": {
    "id": "MJwIJuK0hCgc"
   },
   "outputs": [],
   "source": [
    "#### Build the model\n",
    "from sklearn.linear_model import LinearRegression\n",
    "model = LinearRegression()"
   ]
  },
  {
   "cell_type": "code",
   "execution_count": 48,
   "metadata": {
    "colab": {
     "base_uri": "https://localhost:8080/",
     "height": 80
    },
    "id": "lBYQErUujAsi",
    "outputId": "c9184f0e-9a60-4021-f9ca-584e7ae74cba"
   },
   "outputs": [
    {
     "data": {
      "text/html": [
       "<style>#sk-container-id-2 {\n",
       "  /* Definition of color scheme common for light and dark mode */\n",
       "  --sklearn-color-text: black;\n",
       "  --sklearn-color-line: gray;\n",
       "  /* Definition of color scheme for unfitted estimators */\n",
       "  --sklearn-color-unfitted-level-0: #fff5e6;\n",
       "  --sklearn-color-unfitted-level-1: #f6e4d2;\n",
       "  --sklearn-color-unfitted-level-2: #ffe0b3;\n",
       "  --sklearn-color-unfitted-level-3: chocolate;\n",
       "  /* Definition of color scheme for fitted estimators */\n",
       "  --sklearn-color-fitted-level-0: #f0f8ff;\n",
       "  --sklearn-color-fitted-level-1: #d4ebff;\n",
       "  --sklearn-color-fitted-level-2: #b3dbfd;\n",
       "  --sklearn-color-fitted-level-3: cornflowerblue;\n",
       "\n",
       "  /* Specific color for light theme */\n",
       "  --sklearn-color-text-on-default-background: var(--sg-text-color, var(--theme-code-foreground, var(--jp-content-font-color1, black)));\n",
       "  --sklearn-color-background: var(--sg-background-color, var(--theme-background, var(--jp-layout-color0, white)));\n",
       "  --sklearn-color-border-box: var(--sg-text-color, var(--theme-code-foreground, var(--jp-content-font-color1, black)));\n",
       "  --sklearn-color-icon: #696969;\n",
       "\n",
       "  @media (prefers-color-scheme: dark) {\n",
       "    /* Redefinition of color scheme for dark theme */\n",
       "    --sklearn-color-text-on-default-background: var(--sg-text-color, var(--theme-code-foreground, var(--jp-content-font-color1, white)));\n",
       "    --sklearn-color-background: var(--sg-background-color, var(--theme-background, var(--jp-layout-color0, #111)));\n",
       "    --sklearn-color-border-box: var(--sg-text-color, var(--theme-code-foreground, var(--jp-content-font-color1, white)));\n",
       "    --sklearn-color-icon: #878787;\n",
       "  }\n",
       "}\n",
       "\n",
       "#sk-container-id-2 {\n",
       "  color: var(--sklearn-color-text);\n",
       "}\n",
       "\n",
       "#sk-container-id-2 pre {\n",
       "  padding: 0;\n",
       "}\n",
       "\n",
       "#sk-container-id-2 input.sk-hidden--visually {\n",
       "  border: 0;\n",
       "  clip: rect(1px 1px 1px 1px);\n",
       "  clip: rect(1px, 1px, 1px, 1px);\n",
       "  height: 1px;\n",
       "  margin: -1px;\n",
       "  overflow: hidden;\n",
       "  padding: 0;\n",
       "  position: absolute;\n",
       "  width: 1px;\n",
       "}\n",
       "\n",
       "#sk-container-id-2 div.sk-dashed-wrapped {\n",
       "  border: 1px dashed var(--sklearn-color-line);\n",
       "  margin: 0 0.4em 0.5em 0.4em;\n",
       "  box-sizing: border-box;\n",
       "  padding-bottom: 0.4em;\n",
       "  background-color: var(--sklearn-color-background);\n",
       "}\n",
       "\n",
       "#sk-container-id-2 div.sk-container {\n",
       "  /* jupyter's `normalize.less` sets `[hidden] { display: none; }`\n",
       "     but bootstrap.min.css set `[hidden] { display: none !important; }`\n",
       "     so we also need the `!important` here to be able to override the\n",
       "     default hidden behavior on the sphinx rendered scikit-learn.org.\n",
       "     See: https://github.com/scikit-learn/scikit-learn/issues/21755 */\n",
       "  display: inline-block !important;\n",
       "  position: relative;\n",
       "}\n",
       "\n",
       "#sk-container-id-2 div.sk-text-repr-fallback {\n",
       "  display: none;\n",
       "}\n",
       "\n",
       "div.sk-parallel-item,\n",
       "div.sk-serial,\n",
       "div.sk-item {\n",
       "  /* draw centered vertical line to link estimators */\n",
       "  background-image: linear-gradient(var(--sklearn-color-text-on-default-background), var(--sklearn-color-text-on-default-background));\n",
       "  background-size: 2px 100%;\n",
       "  background-repeat: no-repeat;\n",
       "  background-position: center center;\n",
       "}\n",
       "\n",
       "/* Parallel-specific style estimator block */\n",
       "\n",
       "#sk-container-id-2 div.sk-parallel-item::after {\n",
       "  content: \"\";\n",
       "  width: 100%;\n",
       "  border-bottom: 2px solid var(--sklearn-color-text-on-default-background);\n",
       "  flex-grow: 1;\n",
       "}\n",
       "\n",
       "#sk-container-id-2 div.sk-parallel {\n",
       "  display: flex;\n",
       "  align-items: stretch;\n",
       "  justify-content: center;\n",
       "  background-color: var(--sklearn-color-background);\n",
       "  position: relative;\n",
       "}\n",
       "\n",
       "#sk-container-id-2 div.sk-parallel-item {\n",
       "  display: flex;\n",
       "  flex-direction: column;\n",
       "}\n",
       "\n",
       "#sk-container-id-2 div.sk-parallel-item:first-child::after {\n",
       "  align-self: flex-end;\n",
       "  width: 50%;\n",
       "}\n",
       "\n",
       "#sk-container-id-2 div.sk-parallel-item:last-child::after {\n",
       "  align-self: flex-start;\n",
       "  width: 50%;\n",
       "}\n",
       "\n",
       "#sk-container-id-2 div.sk-parallel-item:only-child::after {\n",
       "  width: 0;\n",
       "}\n",
       "\n",
       "/* Serial-specific style estimator block */\n",
       "\n",
       "#sk-container-id-2 div.sk-serial {\n",
       "  display: flex;\n",
       "  flex-direction: column;\n",
       "  align-items: center;\n",
       "  background-color: var(--sklearn-color-background);\n",
       "  padding-right: 1em;\n",
       "  padding-left: 1em;\n",
       "}\n",
       "\n",
       "\n",
       "/* Toggleable style: style used for estimator/Pipeline/ColumnTransformer box that is\n",
       "clickable and can be expanded/collapsed.\n",
       "- Pipeline and ColumnTransformer use this feature and define the default style\n",
       "- Estimators will overwrite some part of the style using the `sk-estimator` class\n",
       "*/\n",
       "\n",
       "/* Pipeline and ColumnTransformer style (default) */\n",
       "\n",
       "#sk-container-id-2 div.sk-toggleable {\n",
       "  /* Default theme specific background. It is overwritten whether we have a\n",
       "  specific estimator or a Pipeline/ColumnTransformer */\n",
       "  background-color: var(--sklearn-color-background);\n",
       "}\n",
       "\n",
       "/* Toggleable label */\n",
       "#sk-container-id-2 label.sk-toggleable__label {\n",
       "  cursor: pointer;\n",
       "  display: block;\n",
       "  width: 100%;\n",
       "  margin-bottom: 0;\n",
       "  padding: 0.5em;\n",
       "  box-sizing: border-box;\n",
       "  text-align: center;\n",
       "}\n",
       "\n",
       "#sk-container-id-2 label.sk-toggleable__label-arrow:before {\n",
       "  /* Arrow on the left of the label */\n",
       "  content: \"▸\";\n",
       "  float: left;\n",
       "  margin-right: 0.25em;\n",
       "  color: var(--sklearn-color-icon);\n",
       "}\n",
       "\n",
       "#sk-container-id-2 label.sk-toggleable__label-arrow:hover:before {\n",
       "  color: var(--sklearn-color-text);\n",
       "}\n",
       "\n",
       "/* Toggleable content - dropdown */\n",
       "\n",
       "#sk-container-id-2 div.sk-toggleable__content {\n",
       "  max-height: 0;\n",
       "  max-width: 0;\n",
       "  overflow: hidden;\n",
       "  text-align: left;\n",
       "  /* unfitted */\n",
       "  background-color: var(--sklearn-color-unfitted-level-0);\n",
       "}\n",
       "\n",
       "#sk-container-id-2 div.sk-toggleable__content.fitted {\n",
       "  /* fitted */\n",
       "  background-color: var(--sklearn-color-fitted-level-0);\n",
       "}\n",
       "\n",
       "#sk-container-id-2 div.sk-toggleable__content pre {\n",
       "  margin: 0.2em;\n",
       "  border-radius: 0.25em;\n",
       "  color: var(--sklearn-color-text);\n",
       "  /* unfitted */\n",
       "  background-color: var(--sklearn-color-unfitted-level-0);\n",
       "}\n",
       "\n",
       "#sk-container-id-2 div.sk-toggleable__content.fitted pre {\n",
       "  /* unfitted */\n",
       "  background-color: var(--sklearn-color-fitted-level-0);\n",
       "}\n",
       "\n",
       "#sk-container-id-2 input.sk-toggleable__control:checked~div.sk-toggleable__content {\n",
       "  /* Expand drop-down */\n",
       "  max-height: 200px;\n",
       "  max-width: 100%;\n",
       "  overflow: auto;\n",
       "}\n",
       "\n",
       "#sk-container-id-2 input.sk-toggleable__control:checked~label.sk-toggleable__label-arrow:before {\n",
       "  content: \"▾\";\n",
       "}\n",
       "\n",
       "/* Pipeline/ColumnTransformer-specific style */\n",
       "\n",
       "#sk-container-id-2 div.sk-label input.sk-toggleable__control:checked~label.sk-toggleable__label {\n",
       "  color: var(--sklearn-color-text);\n",
       "  background-color: var(--sklearn-color-unfitted-level-2);\n",
       "}\n",
       "\n",
       "#sk-container-id-2 div.sk-label.fitted input.sk-toggleable__control:checked~label.sk-toggleable__label {\n",
       "  background-color: var(--sklearn-color-fitted-level-2);\n",
       "}\n",
       "\n",
       "/* Estimator-specific style */\n",
       "\n",
       "/* Colorize estimator box */\n",
       "#sk-container-id-2 div.sk-estimator input.sk-toggleable__control:checked~label.sk-toggleable__label {\n",
       "  /* unfitted */\n",
       "  background-color: var(--sklearn-color-unfitted-level-2);\n",
       "}\n",
       "\n",
       "#sk-container-id-2 div.sk-estimator.fitted input.sk-toggleable__control:checked~label.sk-toggleable__label {\n",
       "  /* fitted */\n",
       "  background-color: var(--sklearn-color-fitted-level-2);\n",
       "}\n",
       "\n",
       "#sk-container-id-2 div.sk-label label.sk-toggleable__label,\n",
       "#sk-container-id-2 div.sk-label label {\n",
       "  /* The background is the default theme color */\n",
       "  color: var(--sklearn-color-text-on-default-background);\n",
       "}\n",
       "\n",
       "/* On hover, darken the color of the background */\n",
       "#sk-container-id-2 div.sk-label:hover label.sk-toggleable__label {\n",
       "  color: var(--sklearn-color-text);\n",
       "  background-color: var(--sklearn-color-unfitted-level-2);\n",
       "}\n",
       "\n",
       "/* Label box, darken color on hover, fitted */\n",
       "#sk-container-id-2 div.sk-label.fitted:hover label.sk-toggleable__label.fitted {\n",
       "  color: var(--sklearn-color-text);\n",
       "  background-color: var(--sklearn-color-fitted-level-2);\n",
       "}\n",
       "\n",
       "/* Estimator label */\n",
       "\n",
       "#sk-container-id-2 div.sk-label label {\n",
       "  font-family: monospace;\n",
       "  font-weight: bold;\n",
       "  display: inline-block;\n",
       "  line-height: 1.2em;\n",
       "}\n",
       "\n",
       "#sk-container-id-2 div.sk-label-container {\n",
       "  text-align: center;\n",
       "}\n",
       "\n",
       "/* Estimator-specific */\n",
       "#sk-container-id-2 div.sk-estimator {\n",
       "  font-family: monospace;\n",
       "  border: 1px dotted var(--sklearn-color-border-box);\n",
       "  border-radius: 0.25em;\n",
       "  box-sizing: border-box;\n",
       "  margin-bottom: 0.5em;\n",
       "  /* unfitted */\n",
       "  background-color: var(--sklearn-color-unfitted-level-0);\n",
       "}\n",
       "\n",
       "#sk-container-id-2 div.sk-estimator.fitted {\n",
       "  /* fitted */\n",
       "  background-color: var(--sklearn-color-fitted-level-0);\n",
       "}\n",
       "\n",
       "/* on hover */\n",
       "#sk-container-id-2 div.sk-estimator:hover {\n",
       "  /* unfitted */\n",
       "  background-color: var(--sklearn-color-unfitted-level-2);\n",
       "}\n",
       "\n",
       "#sk-container-id-2 div.sk-estimator.fitted:hover {\n",
       "  /* fitted */\n",
       "  background-color: var(--sklearn-color-fitted-level-2);\n",
       "}\n",
       "\n",
       "/* Specification for estimator info (e.g. \"i\" and \"?\") */\n",
       "\n",
       "/* Common style for \"i\" and \"?\" */\n",
       "\n",
       ".sk-estimator-doc-link,\n",
       "a:link.sk-estimator-doc-link,\n",
       "a:visited.sk-estimator-doc-link {\n",
       "  float: right;\n",
       "  font-size: smaller;\n",
       "  line-height: 1em;\n",
       "  font-family: monospace;\n",
       "  background-color: var(--sklearn-color-background);\n",
       "  border-radius: 1em;\n",
       "  height: 1em;\n",
       "  width: 1em;\n",
       "  text-decoration: none !important;\n",
       "  margin-left: 1ex;\n",
       "  /* unfitted */\n",
       "  border: var(--sklearn-color-unfitted-level-1) 1pt solid;\n",
       "  color: var(--sklearn-color-unfitted-level-1);\n",
       "}\n",
       "\n",
       ".sk-estimator-doc-link.fitted,\n",
       "a:link.sk-estimator-doc-link.fitted,\n",
       "a:visited.sk-estimator-doc-link.fitted {\n",
       "  /* fitted */\n",
       "  border: var(--sklearn-color-fitted-level-1) 1pt solid;\n",
       "  color: var(--sklearn-color-fitted-level-1);\n",
       "}\n",
       "\n",
       "/* On hover */\n",
       "div.sk-estimator:hover .sk-estimator-doc-link:hover,\n",
       ".sk-estimator-doc-link:hover,\n",
       "div.sk-label-container:hover .sk-estimator-doc-link:hover,\n",
       ".sk-estimator-doc-link:hover {\n",
       "  /* unfitted */\n",
       "  background-color: var(--sklearn-color-unfitted-level-3);\n",
       "  color: var(--sklearn-color-background);\n",
       "  text-decoration: none;\n",
       "}\n",
       "\n",
       "div.sk-estimator.fitted:hover .sk-estimator-doc-link.fitted:hover,\n",
       ".sk-estimator-doc-link.fitted:hover,\n",
       "div.sk-label-container:hover .sk-estimator-doc-link.fitted:hover,\n",
       ".sk-estimator-doc-link.fitted:hover {\n",
       "  /* fitted */\n",
       "  background-color: var(--sklearn-color-fitted-level-3);\n",
       "  color: var(--sklearn-color-background);\n",
       "  text-decoration: none;\n",
       "}\n",
       "\n",
       "/* Span, style for the box shown on hovering the info icon */\n",
       ".sk-estimator-doc-link span {\n",
       "  display: none;\n",
       "  z-index: 9999;\n",
       "  position: relative;\n",
       "  font-weight: normal;\n",
       "  right: .2ex;\n",
       "  padding: .5ex;\n",
       "  margin: .5ex;\n",
       "  width: min-content;\n",
       "  min-width: 20ex;\n",
       "  max-width: 50ex;\n",
       "  color: var(--sklearn-color-text);\n",
       "  box-shadow: 2pt 2pt 4pt #999;\n",
       "  /* unfitted */\n",
       "  background: var(--sklearn-color-unfitted-level-0);\n",
       "  border: .5pt solid var(--sklearn-color-unfitted-level-3);\n",
       "}\n",
       "\n",
       ".sk-estimator-doc-link.fitted span {\n",
       "  /* fitted */\n",
       "  background: var(--sklearn-color-fitted-level-0);\n",
       "  border: var(--sklearn-color-fitted-level-3);\n",
       "}\n",
       "\n",
       ".sk-estimator-doc-link:hover span {\n",
       "  display: block;\n",
       "}\n",
       "\n",
       "/* \"?\"-specific style due to the `<a>` HTML tag */\n",
       "\n",
       "#sk-container-id-2 a.estimator_doc_link {\n",
       "  float: right;\n",
       "  font-size: 1rem;\n",
       "  line-height: 1em;\n",
       "  font-family: monospace;\n",
       "  background-color: var(--sklearn-color-background);\n",
       "  border-radius: 1rem;\n",
       "  height: 1rem;\n",
       "  width: 1rem;\n",
       "  text-decoration: none;\n",
       "  /* unfitted */\n",
       "  color: var(--sklearn-color-unfitted-level-1);\n",
       "  border: var(--sklearn-color-unfitted-level-1) 1pt solid;\n",
       "}\n",
       "\n",
       "#sk-container-id-2 a.estimator_doc_link.fitted {\n",
       "  /* fitted */\n",
       "  border: var(--sklearn-color-fitted-level-1) 1pt solid;\n",
       "  color: var(--sklearn-color-fitted-level-1);\n",
       "}\n",
       "\n",
       "/* On hover */\n",
       "#sk-container-id-2 a.estimator_doc_link:hover {\n",
       "  /* unfitted */\n",
       "  background-color: var(--sklearn-color-unfitted-level-3);\n",
       "  color: var(--sklearn-color-background);\n",
       "  text-decoration: none;\n",
       "}\n",
       "\n",
       "#sk-container-id-2 a.estimator_doc_link.fitted:hover {\n",
       "  /* fitted */\n",
       "  background-color: var(--sklearn-color-fitted-level-3);\n",
       "}\n",
       "</style><div id=\"sk-container-id-2\" class=\"sk-top-container\"><div class=\"sk-text-repr-fallback\"><pre>LinearRegression()</pre><b>In a Jupyter environment, please rerun this cell to show the HTML representation or trust the notebook. <br />On GitHub, the HTML representation is unable to render, please try loading this page with nbviewer.org.</b></div><div class=\"sk-container\" hidden><div class=\"sk-item\"><div class=\"sk-estimator fitted sk-toggleable\"><input class=\"sk-toggleable__control sk-hidden--visually\" id=\"sk-estimator-id-2\" type=\"checkbox\" checked><label for=\"sk-estimator-id-2\" class=\"sk-toggleable__label fitted sk-toggleable__label-arrow fitted\">&nbsp;&nbsp;LinearRegression<a class=\"sk-estimator-doc-link fitted\" rel=\"noreferrer\" target=\"_blank\" href=\"https://scikit-learn.org/1.4/modules/generated/sklearn.linear_model.LinearRegression.html\">?<span>Documentation for LinearRegression</span></a><span class=\"sk-estimator-doc-link fitted\">i<span>Fitted</span></span></label><div class=\"sk-toggleable__content fitted\"><pre>LinearRegression()</pre></div> </div></div></div></div>"
      ],
      "text/plain": [
       "LinearRegression()"
      ]
     },
     "execution_count": 48,
     "metadata": {},
     "output_type": "execute_result"
    }
   ],
   "source": [
    "## Training the model\n",
    "model.fit(xtrain,ytrain)"
   ]
  },
  {
   "cell_type": "code",
   "execution_count": 49,
   "metadata": {
    "colab": {
     "base_uri": "https://localhost:8080/"
    },
    "id": "pNKgHUsmjVkb",
    "outputId": "1a0b3bfe-0404-46b1-fdbf-5a67235d0209"
   },
   "outputs": [
    {
     "data": {
      "text/plain": [
       "array([ 40748.96184072, 122699.62295594,  64961.65717022,  63099.14214487,\n",
       "       115249.56285456, 107799.50275317])"
      ]
     },
     "execution_count": 49,
     "metadata": {},
     "output_type": "execute_result"
    }
   ],
   "source": [
    "### Prediction\n",
    "ypred = model.predict(xtest)\n",
    "ypred"
   ]
  },
  {
   "cell_type": "code",
   "execution_count": 50,
   "metadata": {
    "colab": {
     "base_uri": "https://localhost:8080/"
    },
    "id": "N4252YgRlGTU",
    "outputId": "f1fa88c4-3291-4753-d7bd-21131d5e799b"
   },
   "outputs": [
    {
     "data": {
      "text/plain": [
       "array([ 37731, 122391,  57081,  63218, 116969, 109431], dtype=int64)"
      ]
     },
     "execution_count": 50,
     "metadata": {},
     "output_type": "execute_result"
    }
   ],
   "source": [
    "ytest"
   ]
  },
  {
   "cell_type": "code",
   "execution_count": 51,
   "metadata": {
    "colab": {
     "base_uri": "https://localhost:8080/"
    },
    "id": "PTCQbzXdlOlb",
    "outputId": "b12555c3-8d16-46bb-d6bb-18ea92afd57a"
   },
   "outputs": [
    {
     "data": {
      "text/plain": [
       "array([[ 1.5],\n",
       "       [10.3],\n",
       "       [ 4.1],\n",
       "       [ 3.9],\n",
       "       [ 9.5],\n",
       "       [ 8.7]])"
      ]
     },
     "execution_count": 51,
     "metadata": {},
     "output_type": "execute_result"
    }
   ],
   "source": [
    "xtest"
   ]
  },
  {
   "cell_type": "code",
   "execution_count": 52,
   "metadata": {
    "colab": {
     "base_uri": "https://localhost:8080/"
    },
    "id": "jQg_-7IHlREW",
    "outputId": "0bb30c38-1956-4ffa-e2ae-e698e876d725"
   },
   "outputs": [
    {
     "data": {
      "text/plain": [
       "98.8169515729126"
      ]
     },
     "execution_count": 52,
     "metadata": {},
     "output_type": "execute_result"
    }
   ],
   "source": [
    "from sklearn.metrics import r2_score\n",
    "score = r2_score(ytest,ypred)\n",
    "score*100"
   ]
  },
  {
   "cell_type": "code",
   "execution_count": 53,
   "metadata": {
    "colab": {
     "base_uri": "https://localhost:8080/",
     "height": 430
    },
    "id": "zH0FAg66lsYj",
    "outputId": "8eb263b8-2d5e-4bde-e9c8-2fd9779fd955"
   },
   "outputs": [
    {
     "data": {
      "image/png": "[encoded data removed]",
      "text/plain": [
       "<Figure size 640x480 with 1 Axes>"
      ]
     },
     "metadata": {},
     "output_type": "display_data"
    }
   ],
   "source": [
    "### Draw the line of regression (Training samples)\n",
    "plt.scatter(xtrain,ytrain,color='blue',label=\"Actual Points\")\n",
    "plt.scatter(xtrain,model.predict(xtrain),color='red',label=\"Predicted Points\")\n",
    "plt.plot(xtrain,model.predict(xtrain),color='yellow',label=\"Line Of Regression\")\n",
    "plt.legend()\n",
    "plt.show()"
   ]
  },
  {
   "cell_type": "code",
   "execution_count": 54,
   "metadata": {
    "colab": {
     "base_uri": "https://localhost:8080/",
     "height": 430
    },
    "id": "m0IRMwy0rX7o",
    "outputId": "8fca5d4d-0ffd-48cf-d499-95d04d53eb6a"
   },
   "outputs": [
    {
     "data": {
      "image/png": "[encoded data removed]",
      "text/plain": [
       "<Figure size 640x480 with 1 Axes>"
      ]
     },
     "metadata": {},
     "output_type": "display_data"
    }
   ],
   "source": [
    "### Draw the line of regression (Testing samples)\n",
    "plt.scatter(xtest,ytest,color='blue',label=\"Actual Points\")\n",
    "plt.scatter(xtest,ypred,color='red',label=\"Predicted Points\")\n",
    "plt.plot(xtest,ypred,color='yellow',label=\"Line Of Regression\")\n",
    "plt.legend()\n",
    "plt.show()"
   ]
  },
  {
   "cell_type": "code",
   "execution_count": 55,
   "metadata": {
    "id": "T4fV8bunsez7"
   },
   "outputs": [],
   "source": [
    "accuracy = []\n",
    "for i in range(501):\n",
    "  xtrain1,xtest1,ytrain1,ytest1 = train_test_split(x,y,train_size=0.80,random_state=i)\n",
    "  model1 = LinearRegression()\n",
    "  model1.fit(xtrain1,ytrain1)\n",
    "  ypred1 = model1.predict(xtest1)\n",
    "  score1 = r2_score(ytest1,ypred1)\n",
    "  accuracy.append(score1)"
   ]
  },
  {
   "cell_type": "code",
   "execution_count": 56,
   "metadata": {
    "colab": {
     "base_uri": "https://localhost:8080/"
    },
    "id": "IdSkfZjSuvqj",
    "outputId": "a75ca457-f923-436d-96fb-0b5123be8120"
   },
   "outputs": [
    {
     "data": {
      "text/plain": [
       "[0.988169515729126,\n",
       " 0.7616681465472094,\n",
       " 0.8886956733784562,\n",
       " 0.9695039421049821,\n",
       " 0.9504404484884268,\n",
       " 0.9439628569611375,\n",
       " 0.9368146227107088,\n",
       " 0.8143022783109007,\n",
       " 0.9631182154839476,\n",
       " 0.9388416537799072,\n",
       " 0.9816423482070253,\n",
       " 0.940882728477622,\n",
       " 0.9429269163491424,\n",
       " 0.9394460269118793,\n",
       " 0.9606215790278543,\n",
       " 0.8697012433817218,\n",
       " 0.7949890249259295,\n",
       " 0.9384744808306155,\n",
       " 0.8864330645841889,\n",
       " 0.9415531751862448,\n",
       " 0.9441299149555877,\n",
       " 0.9398582853702571,\n",
       " 0.8870702615446784,\n",
       " 0.9184170849214232,\n",
       " 0.9520702017424296,\n",
       " 0.9531732818427658,\n",
       " 0.9835849730044816,\n",
       " 0.9636425773684422,\n",
       " 0.9217841352107623,\n",
       " 0.9467172742609804,\n",
       " 0.9944092048209745,\n",
       " 0.8967649524853983,\n",
       " 0.8985995727228404,\n",
       " 0.9350785573211586,\n",
       " 0.9244141448042442,\n",
       " 0.8839476512584652,\n",
       " 0.955021106900739,\n",
       " 0.9778242092591887,\n",
       " 0.972479448737762,\n",
       " 0.9928344802911049,\n",
       " 0.7775083459037235,\n",
       " 0.9802519469633169,\n",
       " 0.9024461774180497,\n",
       " 0.8688045158887867,\n",
       " 0.934951117043928,\n",
       " 0.9250487875802144,\n",
       " 0.9789129767378081,\n",
       " 0.98399193890564,\n",
       " 0.980277279178695,\n",
       " 0.9497670285223545,\n",
       " 0.8824679635169839,\n",
       " 0.9608624689052039,\n",
       " 0.9743646706957547,\n",
       " 0.9501154883629506,\n",
       " 0.9492729968840661,\n",
       " 0.8924137091604106,\n",
       " 0.9804067424885895,\n",
       " 0.8096351469357631,\n",
       " 0.4815220524569873,\n",
       " 0.9547990109846669,\n",
       " 0.9139925364405546,\n",
       " 0.9505222881477348,\n",
       " 0.9719509793938972,\n",
       " 0.9582008985104701,\n",
       " 0.9140067830429536,\n",
       " 0.811270086006565,\n",
       " 0.7782285644532063,\n",
       " 0.9588832495320916,\n",
       " 0.9791787060652751,\n",
       " 0.8711824073761935,\n",
       " 0.9429397733426299,\n",
       " 0.9694792167947474,\n",
       " 0.9562771755752736,\n",
       " 0.981214310330871,\n",
       " 0.9618591691900452,\n",
       " 0.9652242905568414,\n",
       " 0.8468270318540349,\n",
       " 0.9782012346646264,\n",
       " 0.9861836585536035,\n",
       " 0.9806625667591384,\n",
       " 0.9356346952232668,\n",
       " 0.9760426364249574,\n",
       " 0.9561094647440507,\n",
       " 0.953240654259053,\n",
       " 0.9535679874886691,\n",
       " 0.977173992682254,\n",
       " 0.9743110017459554,\n",
       " 0.9534669191518677,\n",
       " 0.9770761663991681,\n",
       " 0.9744265816506664,\n",
       " 0.9676701872390631,\n",
       " 0.5524142829082118,\n",
       " 0.9793995823406392,\n",
       " 0.9682219576297961,\n",
       " 0.9676991009836634,\n",
       " 0.9059754831220264,\n",
       " 0.9359396033635742,\n",
       " 0.9537039102493191,\n",
       " 0.3397513854022739,\n",
       " 0.9102354571044845,\n",
       " 0.9720725422361338,\n",
       " 0.993422386435995,\n",
       " 0.9514303308376894,\n",
       " 0.993951370348244,\n",
       " 0.923551573304823,\n",
       " 0.942305013171397,\n",
       " 0.948036562674564,\n",
       " 0.9167407278644975,\n",
       " 0.9581214060756787,\n",
       " 0.974143810559606,\n",
       " 0.9458719613187272,\n",
       " 0.9140896140716743,\n",
       " 0.9744533591342565,\n",
       " 0.7067080298759723,\n",
       " 0.8969184343196763,\n",
       " 0.9643784690800864,\n",
       " 0.9809041874061502,\n",
       " 0.9624544504513641,\n",
       " 0.9403605009491255,\n",
       " 0.9569237636359414,\n",
       " 0.969201601811706,\n",
       " 0.9426102773227347,\n",
       " 0.8314282027856672,\n",
       " 0.9711590965698117,\n",
       " 0.959425996638188,\n",
       " 0.8853691773789206,\n",
       " 0.9351781113190842,\n",
       " 0.8871370210991901,\n",
       " 0.8816634513963472,\n",
       " 0.9766134443801546,\n",
       " 0.9693237228921455,\n",
       " 0.9628150835061432,\n",
       " 0.9353949018583004,\n",
       " 0.9709691542389867,\n",
       " 0.9035398966004999,\n",
       " 0.9741726420842486,\n",
       " 0.957842520171026,\n",
       " 0.9711354452524612,\n",
       " 0.8694650910857331,\n",
       " 0.9546561177635546,\n",
       " 0.9758329776898194,\n",
       " 0.9450380685152899,\n",
       " 0.9559923177407321,\n",
       " 0.9649336584866021,\n",
       " 0.9448507972795978,\n",
       " 0.8449650000297961,\n",
       " 0.5822280600077009,\n",
       " 0.9478316304839808,\n",
       " 0.9075029901638413,\n",
       " 0.9516106361115769,\n",
       " 0.9596167623070662,\n",
       " 0.9402503517787064,\n",
       " 0.8957631087832572,\n",
       " 0.9145394103280926,\n",
       " 0.9426402309990841,\n",
       " 0.9518369325259827,\n",
       " 0.933793219956961,\n",
       " 0.9843512789791997,\n",
       " 0.9585524727702663,\n",
       " 0.9780987254510393,\n",
       " 0.9621705643828616,\n",
       " 0.949444823144052,\n",
       " 0.9200482925733225,\n",
       " 0.9499456323207299,\n",
       " 0.9555715853779447,\n",
       " 0.8839908155845717,\n",
       " 0.9305836440315953,\n",
       " 0.9932156213730909,\n",
       " 0.9864154376087744,\n",
       " 0.9513552895244858,\n",
       " 0.8773894469882995,\n",
       " 0.960929979295671,\n",
       " 0.9201348920476704,\n",
       " 0.9044203412945566,\n",
       " 0.9614687354107081,\n",
       " 0.9669073401764426,\n",
       " 0.8843691365028532,\n",
       " 0.8976424872331359,\n",
       " 0.9502545043219971,\n",
       " 0.8927546777449028,\n",
       " 0.9629485298775464,\n",
       " 0.7440224096019279,\n",
       " 0.9172878674673552,\n",
       " 0.976156008155332,\n",
       " 0.9685177747353091,\n",
       " 0.8823148255766502,\n",
       " 0.9634854326525794,\n",
       " 0.7788592737857019,\n",
       " 0.9254482470869073,\n",
       " 0.8872094764399351,\n",
       " 0.9478290543549621,\n",
       " 0.9376525545746504,\n",
       " 0.6075719619008022,\n",
       " 0.9407957279953786,\n",
       " 0.9505478201330253,\n",
       " 0.951419220195714,\n",
       " 0.9623404402868286,\n",
       " 0.9680210264507269,\n",
       " 0.9821278944501098,\n",
       " 0.9043638161837544,\n",
       " 0.9952429110093546,\n",
       " 0.9574899187661282,\n",
       " 0.9906524413209954,\n",
       " 0.9482503595698928,\n",
       " 0.9647766965261255,\n",
       " 0.9494339723924751,\n",
       " 0.9157179140109509,\n",
       " 0.9663509078659444,\n",
       " 0.9805909492370417,\n",
       " 0.8767618756965906,\n",
       " 0.9062046482988906,\n",
       " 0.9501209102439497,\n",
       " 0.9515727163406867,\n",
       " 0.9349561564235962,\n",
       " 0.42322027491470726,\n",
       " 0.9628724892712616,\n",
       " 0.8977817993201392,\n",
       " 0.9618961564380782,\n",
       " 0.9653156219786904,\n",
       " 0.9528659580761881,\n",
       " 0.9612823827734808,\n",
       " 0.9329164770976627,\n",
       " 0.976523249176461,\n",
       " 0.9574763758899383,\n",
       " 0.9626667015805849,\n",
       " 0.9387654047932767,\n",
       " 0.9748393431398527,\n",
       " 0.93832129615285,\n",
       " 0.9249320758180194,\n",
       " 0.9390586506255431,\n",
       " 0.9537671927002505,\n",
       " 0.9578955059593178,\n",
       " 0.9821531726157032,\n",
       " 0.8802490427653341,\n",
       " 0.9400380805593752,\n",
       " 0.9506840140225761,\n",
       " 0.9240203987172713,\n",
       " 0.96069794282716,\n",
       " 0.9557364730110924,\n",
       " 0.931543924532029,\n",
       " 0.9545758377518041,\n",
       " 0.9508540777006826,\n",
       " 0.9752893678304031,\n",
       " 0.9694451439354064,\n",
       " 0.9063631622439331,\n",
       " 0.9445465850668773,\n",
       " 0.9422466156971665,\n",
       " 0.9689097172430862,\n",
       " 0.9483473444970703,\n",
       " 0.9677654478381043,\n",
       " 0.8888932290918311,\n",
       " 0.9397924907779216,\n",
       " 0.9702346045953483,\n",
       " 0.9842569785332597,\n",
       " 0.9474569382824548,\n",
       " 0.9401026714509406,\n",
       " 0.9553041067326024,\n",
       " 0.9887014555518095,\n",
       " 0.9249483001266274,\n",
       " 0.9801241683705093,\n",
       " 0.882791320666698,\n",
       " 0.9367908279102948,\n",
       " 0.9437159112219031,\n",
       " 0.9575703835213645,\n",
       " 0.9276186014844053,\n",
       " 0.9094343639020072,\n",
       " 0.8180546128860345,\n",
       " 0.9580711077077905,\n",
       " 0.8629195023134444,\n",
       " 0.8939000539996173,\n",
       " 0.9258011670995567,\n",
       " 0.9723662701717581,\n",
       " 0.9240388343632948,\n",
       " 0.9514218884351788,\n",
       " 0.9286663865985184,\n",
       " 0.915977653412763,\n",
       " 0.934294156342874,\n",
       " 0.8510306040950119,\n",
       " 0.9313387951265095,\n",
       " 0.8962467925227375,\n",
       " 0.8582528171086797,\n",
       " 0.9386936970053862,\n",
       " 0.9644682536114649,\n",
       " 0.9671688815456763,\n",
       " 0.9569677288711765,\n",
       " 0.9686286434665914,\n",
       " 0.9681307377541689,\n",
       " 0.9584963768110079,\n",
       " 0.9284391238003984,\n",
       " 0.8709522316877525,\n",
       " 0.8998260743075643,\n",
       " 0.9828929197755568,\n",
       " 0.913177990512414,\n",
       " 0.9103842809431602,\n",
       " 0.9620915954900193,\n",
       " 0.8224364077189523,\n",
       " 0.9747424830242786,\n",
       " 0.9678780881362677,\n",
       " 0.9771569669145379,\n",
       " 0.923762274049086,\n",
       " -2.175274357832557,\n",
       " 0.9782741040339776,\n",
       " 0.9827282185048205,\n",
       " 0.9832970238943499,\n",
       " 0.9868137587268364,\n",
       " 0.9228797371934636,\n",
       " 0.9241953831328015,\n",
       " 0.9706829077505805,\n",
       " 0.9734828712263711,\n",
       " 0.9668318629149866,\n",
       " 0.9755453723566425,\n",
       " 0.9717199946773938,\n",
       " 0.8952012705427325,\n",
       " 0.9345232296884088,\n",
       " 0.9018764358154756,\n",
       " 0.9553217976056723,\n",
       " 0.961770642601842,\n",
       " 0.9420311956797234,\n",
       " 0.9289407262064421,\n",
       " 0.9655705070629778,\n",
       " 0.9604782062347975,\n",
       " 0.9290148357619183,\n",
       " 0.988024925310538,\n",
       " 0.9421321136934616,\n",
       " 0.984819206023585,\n",
       " 0.9582033915914415,\n",
       " 0.9765888431364822,\n",
       " 0.8523219589927007,\n",
       " 0.9527535376592942,\n",
       " 0.9364773378148156,\n",
       " 0.9750335178364884,\n",
       " 0.9197261800045895,\n",
       " 0.9611092645555072,\n",
       " 0.9421901163257497,\n",
       " 0.9568229413474396,\n",
       " 0.9624934239394792,\n",
       " 0.9442032416197733,\n",
       " 0.9415967828419688,\n",
       " 0.8741621911554218,\n",
       " 0.91879278127018,\n",
       " 0.8777336855392486,\n",
       " 0.7741738018852197,\n",
       " 0.4927649907153494,\n",
       " 0.9174129229623054,\n",
       " 0.913632186052151,\n",
       " 0.9623661311342273,\n",
       " 0.9721335782446513,\n",
       " 0.9452693088190398,\n",
       " 0.94906599049595,\n",
       " 0.9800872513980994,\n",
       " 0.9536200175966912,\n",
       " 0.9839317794607522,\n",
       " 0.9702537977119801,\n",
       " 0.9317041744112311,\n",
       " 0.9711845434063586,\n",
       " 0.9232168583317828,\n",
       " 0.9677797267999915,\n",
       " 0.9364178127970495,\n",
       " 0.9586270780141151,\n",
       " 0.9117865447831565,\n",
       " 0.9072305797372391,\n",
       " 0.9288080716567694,\n",
       " 0.9395304557094496,\n",
       " 0.945592888250152,\n",
       " 0.8663479360216312,\n",
       " 0.90222423303666,\n",
       " 0.9384180729718122,\n",
       " 0.9153822642434364,\n",
       " 0.8640038996961943,\n",
       " 0.9731386892832472,\n",
       " 0.9675044986151415,\n",
       " 0.9763615359455476,\n",
       " 0.7754633680831431,\n",
       " 0.8579028661970862,\n",
       " 0.8178553082974258,\n",
       " 0.9451418283007481,\n",
       " 0.9755336334699206,\n",
       " 0.8927957253962784,\n",
       " -0.12038325518752302,\n",
       " 0.9478327463320066,\n",
       " 0.9149908029824452,\n",
       " 0.965846997843408,\n",
       " 0.9567435049194214,\n",
       " 0.9290982417876945,\n",
       " 0.9060402715057205,\n",
       " 0.9418842526313294,\n",
       " 0.9372279384965194,\n",
       " 0.9722819435903672,\n",
       " 0.9632625173645575,\n",
       " 0.9767388481902819,\n",
       " 0.9329434467250439,\n",
       " 0.9679219660859564,\n",
       " 0.9452313733736595,\n",
       " 0.8492724942099854,\n",
       " 0.9521242959811101,\n",
       " 0.9610021436153754,\n",
       " 0.9201700537747247,\n",
       " 0.8316851791302221,\n",
       " 0.7418275789432849,\n",
       " 0.9417598439045696,\n",
       " 0.9898434390588872,\n",
       " 0.9767827249581711,\n",
       " 0.8885681046263565,\n",
       " 0.939027512368197,\n",
       " 0.9417898937084337,\n",
       " 0.970066617766628,\n",
       " 0.914496375633173,\n",
       " 0.9569552519415893,\n",
       " 0.9506261936336415,\n",
       " 0.9738809199309472,\n",
       " 0.9562936554075491,\n",
       " 0.9521495213183243,\n",
       " 0.9233520431912319,\n",
       " 0.9762981408435532,\n",
       " 0.9362131576104327,\n",
       " 0.9526078313488782,\n",
       " 0.9287582434289873,\n",
       " 0.9149879005916816,\n",
       " 0.9374701392819708,\n",
       " 0.9477399563525247,\n",
       " 0.9823751294462938,\n",
       " 0.9628174543536127,\n",
       " 0.9307783431484524,\n",
       " 0.8405934469306451,\n",
       " 0.9524927528629347,\n",
       " 0.9584993488485485,\n",
       " 0.9696458072304072,\n",
       " 0.9432752536744781,\n",
       " 0.6889784969517632,\n",
       " 0.8872254193412725,\n",
       " 0.9750378291723829,\n",
       " -0.16474183748777427,\n",
       " 0.9433008990265421,\n",
       " 0.9775914736367702,\n",
       " 0.9451642883888033,\n",
       " 0.8459718769645332,\n",
       " 0.9758259120366866,\n",
       " 0.9640496752989668,\n",
       " 0.9632572060781348,\n",
       " 0.9263407268555749,\n",
       " 0.8239534370082879,\n",
       " 0.8808927348644479,\n",
       " 0.9069078118126628,\n",
       " 0.8705324778787957,\n",
       " 0.9203652315176376,\n",
       " 0.9497201211175037,\n",
       " 0.9449143349401226,\n",
       " 0.9694411777911821,\n",
       " 0.8664326770330526,\n",
       " 0.9827173515096721,\n",
       " 0.9584672351750042,\n",
       " 0.9376964418573707,\n",
       " 0.9721574945710459,\n",
       " 0.9305025488469474,\n",
       " 0.93252373511542,\n",
       " 0.9198758699403127,\n",
       " 0.9379586850369461,\n",
       " 0.9627671465013857,\n",
       " 0.9746885156297657,\n",
       " 0.9388776097661393,\n",
       " 0.8022547284289652,\n",
       " 0.9846725654835887,\n",
       " 0.9572487893087314,\n",
       " 0.9774459918785455,\n",
       " 0.8957590637668916,\n",
       " 0.9371022180493387,\n",
       " 0.9628022627176109,\n",
       " 0.9901641327766026,\n",
       " 0.9227907294033851,\n",
       " 0.893435180051926,\n",
       " 0.961671748226427,\n",
       " 0.9626803243941433,\n",
       " 0.9422036608385018,\n",
       " 0.9496469403244371,\n",
       " 0.9280748703099434,\n",
       " 0.9686776645323301,\n",
       " 0.9089645972300915,\n",
       " 0.9200418295723104,\n",
       " 0.9466854541704197,\n",
       " 0.9396761172666035,\n",
       " 0.8928155654093239,\n",
       " 0.9506312178510892,\n",
       " 0.9361846293702508,\n",
       " 0.9670461229645954,\n",
       " 0.9003236750410633,\n",
       " 0.9357786181886607,\n",
       " 0.949229837077689,\n",
       " 0.9672211781816686,\n",
       " 0.4703004176194139,\n",
       " 0.8693981713910438,\n",
       " 0.8049523574997428,\n",
       " 0.9808152835202145,\n",
       " 0.9606849543645315,\n",
       " 0.8921759578899421,\n",
       " 0.9519106868096108,\n",
       " 0.8236978985135598,\n",
       " 0.9446111008218258,\n",
       " 0.9789836285697657,\n",
       " 0.9626062626007694,\n",
       " 0.8272933043147526,\n",
       " 0.9423807325268493]"
      ]
     },
     "execution_count": 56,
     "metadata": {},
     "output_type": "execute_result"
    }
   ],
   "source": [
    "accuracy"
   ]
  },
  {
   "cell_type": "code",
   "execution_count": 57,
   "metadata": {
    "colab": {
     "base_uri": "https://localhost:8080/"
    },
    "id": "KFLIZS5LuzDv",
    "outputId": "0512c091-6292-41ac-9ff7-19db76e65950"
   },
   "outputs": [
    {
     "data": {
      "text/plain": [
       "0.9952429110093546"
      ]
     },
     "execution_count": 57,
     "metadata": {},
     "output_type": "execute_result"
    }
   ],
   "source": [
    "import numpy as np\n",
    "np.max(accuracy)"
   ]
  },
  {
   "cell_type": "code",
   "execution_count": 58,
   "metadata": {
    "colab": {
     "base_uri": "https://localhost:8080/"
    },
    "id": "iqkf2ZVLu-X5",
    "outputId": "526f27bc-fb74-4ba8-a8f1-b238f6e4ed99"
   },
   "outputs": [
    {
     "data": {
      "text/plain": [
       "200"
      ]
     },
     "execution_count": 58,
     "metadata": {},
     "output_type": "execute_result"
    }
   ],
   "source": [
    "np.argmax(accuracy)"
   ]
  },
  {
   "cell_type": "code",
   "execution_count": 59,
   "metadata": {
    "colab": {
     "base_uri": "https://localhost:8080/"
    },
    "id": "VcI9QhW9vHCJ",
    "outputId": "671d53b7-611c-4899-8e9a-7cae5aff5f9f"
   },
   "outputs": [
    {
     "data": {
      "text/plain": [
       "array([166468.72605157])"
      ]
     },
     "execution_count": 59,
     "metadata": {},
     "output_type": "execute_result"
    }
   ],
   "source": [
    "model.predict([[15]])"
   ]
  },
  {
   "cell_type": "code",
   "execution_count": 60,
   "metadata": {
    "colab": {
     "base_uri": "https://localhost:8080/"
    },
    "id": "G3Bur9ufw8Vo",
    "outputId": "ceb6fa81-18d4-4261-e692-a1727a3615e0"
   },
   "outputs": [
    {
     "data": {
      "text/plain": [
       "166468.72605156602"
      ]
     },
     "execution_count": 60,
     "metadata": {},
     "output_type": "execute_result"
    }
   ],
   "source": [
    "model.predict([[15]])[0]"
   ]
  },
  {
   "cell_type": "code",
   "execution_count": 61,
   "metadata": {
    "colab": {
     "base_uri": "https://localhost:8080/"
    },
    "id": "5niWY9IEw-SR",
    "outputId": "b288da59-fe4c-4925-a397-64b0ca29b4b4"
   },
   "outputs": [
    {
     "data": {
      "text/plain": [
       "166468.73"
      ]
     },
     "execution_count": 61,
     "metadata": {},
     "output_type": "execute_result"
    }
   ],
   "source": [
    "round(model.predict([[15]])[0],2)"
   ]
  },
  {
   "cell_type": "code",
   "execution_count": 62,
   "metadata": {
    "colab": {
     "base_uri": "https://localhost:8080/"
    },
    "id": "ui8nqO4BxsCR",
    "outputId": "ef3887f0-accb-4d9f-a75b-c5fd7da145b7"
   },
   "outputs": [
    {
     "data": {
      "text/plain": [
       "['salary.pkl']"
      ]
     },
     "execution_count": 62,
     "metadata": {},
     "output_type": "execute_result"
    }
   ],
   "source": [
    "import joblib\n",
    "joblib.dump(model,\"salary.pkl\")"
   ]
  },
  {
   "cell_type": "code",
   "execution_count": 63,
   "metadata": {
    "id": "r2tcdZUhyjRk"
   },
   "outputs": [],
   "source": [
    "mymodel = joblib.load(\"salary.pkl\")"
   ]
  },
  {
   "cell_type": "code",
   "execution_count": 64,
   "metadata": {
    "colab": {
     "base_uri": "https://localhost:8080/"
    },
    "id": "7RRPsRpgyxqi",
    "outputId": "86882f34-fe65-4320-a019-ec4810263a93"
   },
   "outputs": [
    {
     "data": {
      "text/plain": [
       "166468.73"
      ]
     },
     "execution_count": 64,
     "metadata": {},
     "output_type": "execute_result"
    }
   ],
   "source": [
    "round(mymodel.predict([[15]])[0],2)"
   ]
  },
  {
   "cell_type": "code",
   "execution_count": 65,
   "metadata": {
    "colab": {
     "base_uri": "https://localhost:8080/"
    },
    "id": "q76pn7p5yzGs",
    "outputId": "482ec4ee-7b1e-4934-c546-1ec5cd38c6b8"
   },
   "outputs": [
    {
     "data": {
      "text/plain": [
       "array([9312.57512673])"
      ]
     },
     "execution_count": 65,
     "metadata": {},
     "output_type": "execute_result"
    }
   ],
   "source": [
    "### Value of m\n",
    "model.coef_"
   ]
  },
  {
   "cell_type": "code",
   "execution_count": 66,
   "metadata": {
    "colab": {
     "base_uri": "https://localhost:8080/"
    },
    "id": "2Azgq9Vg3MuA",
    "outputId": "d3f7d834-9b90-46d2-f4e9-5056703db34e"
   },
   "outputs": [
    {
     "data": {
      "text/plain": [
       "26780.099150628186"
      ]
     },
     "execution_count": 66,
     "metadata": {},
     "output_type": "execute_result"
    }
   ],
   "source": [
    "model.intercept_"
   ]
  }
 ],
 "metadata": {
  "colab": {
   "provenance": []
  },
  "kernelspec": {
   "display_name": "Python 3 (ipykernel)",
   "language": "python",
   "name": "python3"
  },
  "language_info": {
   "codemirror_mode": {
    "name": "ipython",
    "version": 3
   },
   "file_extension": ".py",
   "mimetype": "text/x-python",
   "name": "python",
   "nbconvert_exporter": "python",
   "pygments_lexer": "ipython3",
   "version": "3.12.4"
  }
 },
 "nbformat": 4,
 "nbformat_minor": 4
}
