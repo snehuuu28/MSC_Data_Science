{
 "cells": [
  {
   "cell_type": "code",
   "execution_count": 3,
   "metadata": {
    "id": "xU7e1ab42g3f"
   },
   "outputs": [],
   "source": [
    "import numpy as np\n",
    "import matplotlib.pyplot as plt\n",
    "import pandas as pd\n",
    "import sklearn as skl"
   ]
  },
  {
   "cell_type": "code",
   "execution_count": 2,
   "metadata": {
    "colab": {
     "base_uri": "https://localhost:8080/"
    },
    "id": "lWVGoFYI2z1M",
    "outputId": "3f883e47-66f9-493e-c994-54650b359644"
   },
   "outputs": [
    {
     "name": "stdout",
     "output_type": "stream",
     "text": [
      "5\n",
      "Mean / Average is: \n",
      "3.0\n"
     ]
    }
   ],
   "source": [
    "# Python program to print mean of the elements\n",
    "\n",
    "X = [1, 2, 3, 4, 5]\n",
    "n = len(X)\n",
    "print(n)\n",
    "get_sum = sum(X)\n",
    "mean = get_sum / n\n",
    "\n",
    "print(\"Mean / Average is: \")\n",
    "print(mean)"
   ]
  },
  {
   "cell_type": "code",
   "execution_count": 3,
   "metadata": {
    "colab": {
     "base_uri": "https://localhost:8080/"
    },
    "id": "oAMZ3qOw3uKQ",
    "outputId": "5e17cc01-5c3d-40fd-865d-7b637ea70ea7"
   },
   "outputs": [
    {
     "name": "stdout",
     "output_type": "stream",
     "text": [
      "3.5\n"
     ]
    }
   ],
   "source": [
    "# create an array\n",
    "array1 = np.array([0, 1, 2, 3, 4, 5, 6, 7,])\n",
    "\n",
    "# calculate the mean of the array\n",
    "avg = np.mean(array1)\n",
    "\n",
    "print(avg)\n",
    "\n",
    "# Output: 3.5"
   ]
  },
  {
   "cell_type": "code",
   "execution_count": 4,
   "metadata": {
    "colab": {
     "base_uri": "https://localhost:8080/"
    },
    "id": "SnSRBSNJLYI4",
    "outputId": "f42f9c5f-7ab5-436c-eff3-61ba3228b51d"
   },
   "outputs": [
    {
     "name": "stdout",
     "output_type": "stream",
     "text": [
      "89.76923076923077\n"
     ]
    }
   ],
   "source": [
    "import numpy  as np\n",
    "speed = [99,86,87,88,111,86,103,87,94,78,77,85,86]\n",
    "\n",
    "x=np.mean(speed)\n",
    "\n",
    "print(x)"
   ]
  },
  {
   "cell_type": "code",
   "execution_count": 5,
   "metadata": {
    "id": "aDV1s8KMLnD7"
   },
   "outputs": [],
   "source": [
    "import numpy as np\n",
    "import matplotlib.pyplot as plt\n",
    "import pandas as pd\n",
    "import sklearn as skl"
   ]
  },
  {
   "cell_type": "code",
   "execution_count": 7,
   "metadata": {
    "colab": {
     "base_uri": "https://localhost:8080/"
    },
    "id": "jT99dPhMMXym",
    "outputId": "449277bd-5a5e-4436-b2e1-77b0f0cb35ad"
   },
   "outputs": [
    {
     "name": "stdout",
     "output_type": "stream",
     "text": [
      "ModeResult(mode=86, count=4)\n"
     ]
    }
   ],
   "source": [
    "from scipy import stats\n",
    "\n",
    "speed = [99,86,87,88,111,86,103,87,94,78,77,85,86,81,86,83]\n",
    "\n",
    "x = stats.mode(speed)\n",
    "\n",
    "print(x)"
   ]
  },
  {
   "cell_type": "code",
   "execution_count": 15,
   "metadata": {
    "colab": {
     "base_uri": "https://localhost:8080/"
    },
    "id": "9YCjHWjHMyNW",
    "outputId": "1dae0a7d-9553-46b5-da9e-bc55b050ed1b"
   },
   "outputs": [
    {
     "name": "stdout",
     "output_type": "stream",
     "text": [
      "[3, 2]\n"
     ]
    }
   ],
   "source": [
    "## If multiple modes exist, statistics.mode() returns the first one.\n",
    "import statistics\n",
    "import math\n",
    "X = [3, 2, 3, 2, 1, 2, 3,2,3,3,3,2,2,2,1,1,3,3,2]\n",
    "\n",
    "print(statistics.multimode(X))"
   ]
  },
  {
   "cell_type": "code",
   "execution_count": 17,
   "metadata": {
    "colab": {
     "base_uri": "https://localhost:8080/"
    },
    "id": "K4d9s60tAL3E",
    "outputId": "7095811c-2d5f-4fe4-c80f-ccdede9699bb"
   },
   "outputs": [
    {
     "name": "stdout",
     "output_type": "stream",
     "text": [
      "Median: 9.0\n"
     ]
    }
   ],
   "source": [
    "import statistics as st\n",
    "\n",
    "data = [2, 4, 6, 8, 10, 12,17,19]\n",
    "median = st.median(data)\n",
    "print(\"Median:\", median)\n"
   ]
  }
 ],
 "metadata": {
  "colab": {
   "provenance": []
  },
  "kernelspec": {
   "display_name": "Python 3 (ipykernel)",
   "language": "python",
   "name": "python3"
  },
  "language_info": {
   "codemirror_mode": {
    "name": "ipython",
    "version": 3
   },
   "file_extension": ".py",
   "mimetype": "text/x-python",
   "name": "python",
   "nbconvert_exporter": "python",
   "pygments_lexer": "ipython3",
   "version": "3.12.4"
  }
 },
 "nbformat": 4,
 "nbformat_minor": 4
}
